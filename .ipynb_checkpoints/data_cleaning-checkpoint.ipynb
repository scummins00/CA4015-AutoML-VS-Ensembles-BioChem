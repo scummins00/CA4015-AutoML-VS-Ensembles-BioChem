{
 "cells": [
  {
   "cell_type": "markdown",
   "id": "2af2d69c",
   "metadata": {},
   "source": [
    "# Data Cleaning\n",
    "The following notebook is for data cleaning and preparation. The dataset provided by {cite}`fitzgerald_morrin_holland_2021` represents GCMS analysis of VOCs from pure cultures of bacteria. The data is semi-structured in nature. It presents some challenges such as missing values. In the Excel file, the data obtained from the GCMS is presented in multiple formats, namely:\n",
    "1. Long\n",
    "2. Wide\n",
    "\n",
    "Both sheets represent the same data. We will be working with the '**Wide**' dataset. This is because features represented as columns work better for Google's AutoML Tables. There are various other sheets available in the Excel, but these serve no purpose for our analysis."
   ]
  },
  {
   "cell_type": "code",
   "execution_count": 3,
   "id": "f7ba436a",
   "metadata": {},
   "outputs": [],
   "source": [
    "import pandas as pd\n",
    "import numpy as np"
   ]
  },
  {
   "cell_type": "code",
   "execution_count": 11,
   "id": "77e271a4",
   "metadata": {},
   "outputs": [
    {
     "name": "stdout",
     "output_type": "stream",
     "text": [
      "<class 'pandas.core.frame.DataFrame'>\n",
      "RangeIndex: 84 entries, 0 to 83\n",
      "Data columns (total 70 columns):\n",
      " #   Column                                         Non-Null Count  Dtype  \n",
      "---  ------                                         --------------  -----  \n",
      " 0   Species                                        84 non-null     object \n",
      " 1   Strain                                         84 non-null     object \n",
      " 2   Samples                                        84 non-null     object \n",
      " 3    Ethyl Acetate                                 83 non-null     float64\n",
      " 4   Ethanol                                        84 non-null     int64  \n",
      " 5   Propanoic acid, ethyl ester                    27 non-null     float64\n",
      " 6   2-Pentanone                                    84 non-null     int64  \n",
      " 7   Decane                                         84 non-null     int64  \n",
      " 8   Methyl Isobutyl Ketone                         57 non-null     float64\n",
      " 9   Amylene hydrate                                84 non-null     int64  \n",
      " 10  Butanoic acid, 2-methyl-, methyl ester         27 non-null     float64\n",
      " 11  Isobutyl acetate                               54 non-null     float64\n",
      " 12  Methyl isovalerate                             57 non-null     float64\n",
      " 13  1-Propanol                                     27 non-null     float64\n",
      " 14  Methyl thiolacetate                            83 non-null     float64\n",
      " 15  Butanoic acid, 2-methyl-, ethyl ester          30 non-null     float64\n",
      " 16  2-Hexanone                                     57 non-null     float64\n",
      " 17  Ethyl isocyanide                               27 non-null     float64\n",
      " 18  1-Propanol, 2-methyl-                          84 non-null     int64  \n",
      " 19  2-Pentanol, 2-methyl-                          83 non-null     float64\n",
      " 20  2-Pentanol                                     57 non-null     float64\n",
      " 21  1-Butanol, 3-methyl-, acetate                  30 non-null     float64\n",
      " 22  1 - Undecene                                   27 non-null     float64\n",
      " 23  1-Butanol                                      54 non-null     float64\n",
      " 24  2-Heptanone                                    84 non-null     int64  \n",
      " 25  Dodecane                                       54 non-null     float64\n",
      " 26  1-Butanol, 3-methyl-                           84 non-null     int64  \n",
      " 27   S-Methyl 3-methylbutanethioate                27 non-null     float64\n",
      " 28  2-Heptanone, 4,6-dimethyl-                     54 non-null     float64\n",
      " 29   3-Buten-1-ol, 3-methyl-                       84 non-null     int64  \n",
      " 30  Thiocyanic acid, methyl ester                  27 non-null     float64\n",
      " 31  Acetoin                                        84 non-null     int64  \n",
      " 32  1-Pentanol, 2-methyl-                          27 non-null     float64\n",
      " 33  Butanoic acid, 3-methyl-, 2-methylbutyl ester  27 non-null     float64\n",
      " 34  2-Heptanol, 4-methyl-                          27 non-null     float64\n",
      " 35  2-Nonanone                                     54 non-null     float64\n",
      " 36  Acetic acid                                    57 non-null     float64\n",
      " 37  2-Nonanol                                      27 non-null     float64\n",
      " 38  Pyrrole                                        27 non-null     float64\n",
      " 39  1H-Pyrrole, 2-methyl-                          27 non-null     float64\n",
      " 40  1-Heptanol, 2,4-dimethyl-,                     54 non-null     float64\n",
      " 41  Propanoic acid                                 56 non-null     float64\n",
      " 42  Propanoic acid, 2-methyl-                      30 non-null     float64\n",
      " 43  1-Octanol                                      27 non-null     float64\n",
      " 44  2-Undecanone                                   54 non-null     float64\n",
      " 45  Benzoic acid, methyl ester                     54 non-null     float64\n",
      " 46  Butyrolactone                                  30 non-null     float64\n",
      " 47   Decanoic acid, ethyl ester                    27 non-null     float64\n",
      " 48  Acetic acid, decyl ester                       27 non-null     float64\n",
      " 49  2-Undecanol                                    54 non-null     float64\n",
      " 50  Butanoic acid, 3-methyl-                       30 non-null     float64\n",
      " 51  2-Dodecanone                                   27 non-null     float64\n",
      " 52  1-Decanol                                      27 non-null     float64\n",
      " 53  2-Tridecanone                                  27 non-null     float64\n",
      " 54   Dodecanoic acid, ethyl ester                  27 non-null     float64\n",
      " 55  1,4-Butanediol                                 30 non-null     float64\n",
      " 56  Phenylethyl Alcohol                            27 non-null     float64\n",
      " 57  Acetophenone, 2'-amino-                        27 non-null     float64\n",
      " 58  2-Tridecanol                                   27 non-null     float64\n",
      " 59  Tetradecanal                                   27 non-null     float64\n",
      " 60  1-Dodecanol                                    27 non-null     float64\n",
      " 61  Methyl tetradecanoate                          27 non-null     float64\n",
      " 62   2-Pentadecanone                               27 non-null     float64\n",
      " 63  Tetradecanoic acid, ethyl ester                27 non-null     float64\n",
      " 64  Hexadecanal                                    27 non-null     float64\n",
      " 65  n-Tridecan-1-ol                                27 non-null     float64\n",
      " 66  1-Tetradecanol                                 27 non-null     float64\n",
      " 67  n-Pentadecanol                                 26 non-null     float64\n",
      " 68   1-Hexadecanol                                 27 non-null     float64\n",
      " 69  Indole                                         27 non-null     float64\n",
      "dtypes: float64(58), int64(9), object(3)\n",
      "memory usage: 46.1+ KB\n"
     ]
    }
   ],
   "source": [
    "raw = pd.read_excel(\"data/FrontiersDS.xlsx\", sheet_name=\"Wide\", skiprows=3)\n",
    "raw.info()"
   ]
  },
  {
   "cell_type": "code",
   "execution_count": 17,
   "id": "a8f2c6eb",
   "metadata": {},
   "outputs": [
    {
     "name": "stdout",
     "output_type": "stream",
     "text": [
      " Ethyl Acetate contains nulls\n",
      "Propanoic acid, ethyl ester contains nulls\n",
      "Methyl Isobutyl Ketone contains nulls\n",
      "Butanoic acid, 2-methyl-, methyl ester contains nulls\n",
      "Isobutyl acetate contains nulls\n",
      "Methyl isovalerate contains nulls\n",
      "1-Propanol contains nulls\n",
      "Methyl thiolacetate contains nulls\n",
      "Butanoic acid, 2-methyl-, ethyl ester contains nulls\n",
      "2-Hexanone contains nulls\n",
      "Ethyl isocyanide contains nulls\n",
      "2-Pentanol, 2-methyl- contains nulls\n",
      "2-Pentanol contains nulls\n",
      "1-Butanol, 3-methyl-, acetate contains nulls\n",
      "1 - Undecene contains nulls\n",
      "1-Butanol contains nulls\n",
      "Dodecane contains nulls\n",
      " S-Methyl 3-methylbutanethioate contains nulls\n",
      "2-Heptanone, 4,6-dimethyl- contains nulls\n",
      "Thiocyanic acid, methyl ester contains nulls\n",
      "1-Pentanol, 2-methyl- contains nulls\n",
      "Butanoic acid, 3-methyl-, 2-methylbutyl ester contains nulls\n",
      "2-Heptanol, 4-methyl- contains nulls\n",
      "2-Nonanone  contains nulls\n",
      "Acetic acid contains nulls\n",
      "2-Nonanol contains nulls\n",
      "Pyrrole contains nulls\n",
      "1H-Pyrrole, 2-methyl- contains nulls\n",
      "1-Heptanol, 2,4-dimethyl-, contains nulls\n",
      "Propanoic acid contains nulls\n",
      "Propanoic acid, 2-methyl- contains nulls\n",
      "1-Octanol contains nulls\n",
      "2-Undecanone contains nulls\n",
      "Benzoic acid, methyl ester contains nulls\n",
      "Butyrolactone  contains nulls\n",
      " Decanoic acid, ethyl ester contains nulls\n",
      "Acetic acid, decyl ester contains nulls\n",
      "2-Undecanol contains nulls\n",
      "Butanoic acid, 3-methyl- contains nulls\n",
      "2-Dodecanone contains nulls\n",
      "1-Decanol contains nulls\n",
      "2-Tridecanone contains nulls\n",
      " Dodecanoic acid, ethyl ester contains nulls\n",
      "1,4-Butanediol contains nulls\n",
      "Phenylethyl Alcohol contains nulls\n",
      "Acetophenone, 2'-amino- contains nulls\n",
      "2-Tridecanol contains nulls\n",
      "Tetradecanal contains nulls\n",
      "1-Dodecanol contains nulls\n",
      "Methyl tetradecanoate contains nulls\n",
      " 2-Pentadecanone contains nulls\n",
      "Tetradecanoic acid, ethyl ester contains nulls\n",
      "Hexadecanal contains nulls\n",
      "n-Tridecan-1-ol contains nulls\n",
      "1-Tetradecanol contains nulls\n",
      "n-Pentadecanol contains nulls\n",
      " 1-Hexadecanol contains nulls\n",
      "Indole contains nulls\n"
     ]
    }
   ],
   "source": [
    "import sys\n",
    "#Test for Null\n",
    "for column in raw.columns:\n",
    "    if raw[column].isnull().values.any():\n",
    "        print(f'{column} contains nulls')"
   ]
  },
  {
   "cell_type": "markdown",
   "id": "2246ca66",
   "metadata": {},
   "source": [
    "## Null-Values\n",
    "In the given dataset, rows represent **species & strains** of bacterial micro-organisms. The columns represent individual chemical-compounds commonly found in the volatile organic compounds (VOCs). {cite:p}`fitzgerald2021` informs us that:\n",
    "* Cells with missing data represent a species-media specific combination inwhich the presence of that particular compound was never recorded.\n",
    "* Cells with the value 0 represent a species-media spcific combination inwhich the presence of that compound was found in some samples, but not this particular sample.\n",
    "\n",
    "Because of this knowledge, it is difficult to understand what should be done with the missing values. According to the Google Cloud Platform documentation for ['Best Practices for creating training data'](https://cloud.google.com/automl-tables/docs/data-best-practices#avoid_missing_values_where_possible), it is best to avoid missing values where possible. Values can be left missing if the column is set to be nullable."
   ]
  },
  {
   "cell_type": "markdown",
   "id": "0adda51e",
   "metadata": {},
   "source": [
    "## Rename Columns\n",
    "The presence of commas in the column names causes AutoML to fail. We will remove any commas in column ID's. We will also replace whitespace with underscore characters to ensure that columns are identified correctly."
   ]
  },
  {
   "cell_type": "code",
   "execution_count": 28,
   "id": "9ee766d1",
   "metadata": {},
   "outputs": [],
   "source": [
    "raw.columns = [col.replace(',', '') for col in raw.columns]\n",
    "raw.columns = [col.lstrip() for col in raw.columns]\n",
    "raw.columns = [col.replace(' ', '_') for col in raw.columns]"
   ]
  },
  {
   "cell_type": "code",
   "execution_count": 30,
   "id": "60e39976",
   "metadata": {},
   "outputs": [],
   "source": [
    "raw.to_csv('data/cleaned/long.csv', index=False)"
   ]
  },
  {
   "cell_type": "code",
   "execution_count": null,
   "id": "23e5e2cf",
   "metadata": {},
   "outputs": [],
   "source": []
  }
 ],
 "metadata": {
  "kernelspec": {
   "display_name": "Python 3",
   "language": "python",
   "name": "python3"
  },
  "language_info": {
   "codemirror_mode": {
    "name": "ipython",
    "version": 3
   },
   "file_extension": ".py",
   "mimetype": "text/x-python",
   "name": "python",
   "nbconvert_exporter": "python",
   "pygments_lexer": "ipython3",
   "version": "3.8.3"
  }
 },
 "nbformat": 4,
 "nbformat_minor": 5
}
