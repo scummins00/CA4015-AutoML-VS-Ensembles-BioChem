{
 "cells": [
  {
   "cell_type": "markdown",
   "id": "17424746",
   "metadata": {},
   "source": [
    "# Extra Trees\n",
    "In the following Jupyter Notebook, we will be using the Extra Trees or **Extremely Randomized Trees** algorithm ensemble with k-fold cross validation on the Volatile Organic Compound GCMS readings. "
   ]
  },
  {
   "cell_type": "code",
   "execution_count": 20,
   "id": "909f1826",
   "metadata": {},
   "outputs": [],
   "source": [
    "# evaluate a given model using cross-validation\n",
    "def evaluate_model(model, X, y):\n",
    "\t# define the evaluation procedure\n",
    "\tcv = KFold(n_splits=10, shuffle=True, random_state=1)\n",
    "\t# evaluate the model and collect the results\n",
    "\tscores = cross_val_score(model, X, y, scoring='accuracy', cv=cv, n_jobs=-1)\n",
    "\treturn scores"
   ]
  },
  {
   "cell_type": "markdown",
   "id": "4f891811",
   "metadata": {},
   "source": [
    "# Explore different amounts of trees"
   ]
  },
  {
   "cell_type": "code",
   "execution_count": 3,
   "id": "63ae5333",
   "metadata": {},
   "outputs": [],
   "source": [
    "import numpy as np\n",
    "import pandas as pd\n",
    "from sklearn.datasets import make_classification\n",
    "from sklearn.model_selection import cross_val_score\n",
    "from sklearn.model_selection import KFold\n",
    "from sklearn.ensemble import ExtraTreesClassifier\n",
    "from matplotlib import pyplot"
   ]
  },
  {
   "cell_type": "code",
   "execution_count": 4,
   "id": "0efac944",
   "metadata": {},
   "outputs": [],
   "source": [
    "#get data\n",
    "raw = pd.read_csv('data/cleaned/long.csv')\n",
    "filled = raw.fillna(0)"
   ]
  },
  {
   "cell_type": "code",
   "execution_count": 7,
   "id": "aa62260f",
   "metadata": {},
   "outputs": [],
   "source": [
    "#store results from formula below\n",
    "vary_trees = pd.DataFrame(columns=[\"mean\",\"std\"])"
   ]
  },
  {
   "cell_type": "code",
   "execution_count": 87,
   "id": "53ddc6c4",
   "metadata": {},
   "outputs": [
    {
     "name": "stdout",
     "output_type": "stream",
     "text": [
      ">10 0.783 (0.126)\n",
      ">50 0.774 (0.128)\n",
      ">100 0.856 (0.121)\n",
      ">150 0.821 (0.145)\n",
      ">200 0.821 (0.127)\n",
      ">250 0.808 (0.125)\n",
      ">300 0.854 (0.121)\n",
      ">350 0.832 (0.123)\n",
      ">500 0.818 (0.151)\n",
      ">750 0.843 (0.112)\n",
      ">1000 0.821 (0.122)\n"
     ]
    },
    {
     "data": {
      "image/png": "[encoded data removed]",
      "text/plain": [
       "<Figure size 432x288 with 1 Axes>"
      ]
     },
     "metadata": {
      "needs_background": "light"
     },
     "output_type": "display_data"
    }
   ],
   "source": [
    "# get a list of models to evaluate\n",
    "def get_models():\n",
    "\tmodels = dict()\n",
    "\t# define number of trees to consider\n",
    "\tn_trees = [10, 50, 100, 150, 200, 250, 300, 350, 500, 750, 1000]\n",
    "\tfor n in n_trees:\n",
    "\t\tmodels[str(n)] = ExtraTreesClassifier(n_estimators=n)\n",
    "\treturn models\n",
    " \n",
    "# define dataset\n",
    "X, y = filled.iloc[:,3:], filled.iloc[:,1]\n",
    "# get the models to evaluate\n",
    "models = get_models()\n",
    "# evaluate the models and store results\n",
    "results, names = list(), list()\n",
    "for name, model in models.items():\n",
    "\t# evaluate the model\n",
    "\tscores = evaluate_model(model, X, y)\n",
    "\t# store the results\n",
    "\tresults.append(scores)\n",
    "\tnames.append(name)\n",
    "\t# summarize the performance along the way\n",
    "\ts = pd.Series(data=[np.mean(scores), np.std(scores)],name=name, index=['mean','std'])\n",
    "\tvary_trees = vary_trees.append(s)\n",
    "\tprint('>%s %.3f (%.3f)' % (name, np.mean(scores), np.std(scores)))\n",
    "# plot model performance for comparison\n",
    "pyplot.boxplot(results, labels=names, showmeans=True)\n",
    "pyplot.show()"
   ]
  },
  {
   "cell_type": "code",
   "execution_count": 88,
   "id": "31a304d2",
   "metadata": {},
   "outputs": [],
   "source": [
    "#find average of all stored results\n",
    "avg_vary_trees = pd.DataFrame(columns=['mean', 'std'])\n",
    "for i in [10, 50, 100, 150, 200, 250, 300, 350, 500, 750, 1000, 5000]:\n",
    "    i = str(i)\n",
    "    s = pd.Series(vary_trees.T[i].mean(axis=1), name=i, index=['mean','std'])\n",
    "    avg_vary_trees = avg_vary_trees.append(s)"
   ]
  },
  {
   "cell_type": "code",
   "execution_count": 89,
   "id": "7c2380a1",
   "metadata": {},
   "outputs": [
    {
     "data": {
      "text/html": [
       "<div>\n",
       "<style scoped>\n",
       "    .dataframe tbody tr th:only-of-type {\n",
       "        vertical-align: middle;\n",
       "    }\n",
       "\n",
       "    .dataframe tbody tr th {\n",
       "        vertical-align: top;\n",
       "    }\n",
       "\n",
       "    .dataframe thead th {\n",
       "        text-align: right;\n",
       "    }\n",
       "</style>\n",
       "<table border=\"1\" class=\"dataframe\">\n",
       "  <thead>\n",
       "    <tr style=\"text-align: right;\">\n",
       "      <th></th>\n",
       "      <th>mean</th>\n",
       "      <th>std</th>\n",
       "    </tr>\n",
       "  </thead>\n",
       "  <tbody>\n",
       "    <tr>\n",
       "      <th>100</th>\n",
       "      <td>0.835069</td>\n",
       "      <td>0.123922</td>\n",
       "    </tr>\n",
       "    <tr>\n",
       "      <th>500</th>\n",
       "      <td>0.834028</td>\n",
       "      <td>0.126481</td>\n",
       "    </tr>\n",
       "    <tr>\n",
       "      <th>200</th>\n",
       "      <td>0.832341</td>\n",
       "      <td>0.124360</td>\n",
       "    </tr>\n",
       "    <tr>\n",
       "      <th>1000</th>\n",
       "      <td>0.831944</td>\n",
       "      <td>0.119588</td>\n",
       "    </tr>\n",
       "    <tr>\n",
       "      <th>5000</th>\n",
       "      <td>0.829722</td>\n",
       "      <td>0.120346</td>\n",
       "    </tr>\n",
       "    <tr>\n",
       "      <th>300</th>\n",
       "      <td>0.828175</td>\n",
       "      <td>0.129058</td>\n",
       "    </tr>\n",
       "    <tr>\n",
       "      <th>250</th>\n",
       "      <td>0.827579</td>\n",
       "      <td>0.116952</td>\n",
       "    </tr>\n",
       "  </tbody>\n",
       "</table>\n",
       "</div>"
      ],
      "text/plain": [
       "          mean       std\n",
       "100   0.835069  0.123922\n",
       "500   0.834028  0.126481\n",
       "200   0.832341  0.124360\n",
       "1000  0.831944  0.119588\n",
       "5000  0.829722  0.120346\n",
       "300   0.828175  0.129058\n",
       "250   0.827579  0.116952"
      ]
     },
     "execution_count": 89,
     "metadata": {},
     "output_type": "execute_result"
    }
   ],
   "source": [
    "avg_vary_trees.sort_values(by='mean', ascending=0).head(7)"
   ]
  },
  {
   "cell_type": "markdown",
   "id": "f0077782",
   "metadata": {},
   "source": [
    "## Explore different amounts of features"
   ]
  },
  {
   "cell_type": "code",
   "execution_count": 22,
   "id": "bae69ffb",
   "metadata": {},
   "outputs": [],
   "source": [
    "#store results from formula below\n",
    "vary_feat = pd.DataFrame(columns=[\"mean\",\"std\"])"
   ]
  },
  {
   "cell_type": "code",
   "execution_count": 96,
   "id": "72fc8ecb",
   "metadata": {},
   "outputs": [
    {
     "name": "stdout",
     "output_type": "stream",
     "text": [
      ">1 0.785 (0.152)\n",
      ">2 0.785 (0.160)\n",
      ">3 0.832 (0.132)\n",
      ">4 0.819 (0.134)\n",
      ">5 0.785 (0.144)\n",
      ">6 0.808 (0.114)\n",
      ">7 0.856 (0.116)\n",
      ">8 0.808 (0.122)\n",
      ">9 0.856 (0.121)\n",
      ">10 0.797 (0.122)\n",
      ">11 0.808 (0.156)\n",
      ">12 0.865 (0.118)\n",
      ">13 0.843 (0.112)\n",
      ">14 0.831 (0.145)\n",
      ">15 0.843 (0.122)\n",
      ">16 0.843 (0.112)\n",
      ">17 0.806 (0.140)\n",
      ">18 0.808 (0.122)\n",
      ">19 0.868 (0.085)\n",
      ">20 0.821 (0.127)\n",
      ">21 0.831 (0.150)\n",
      ">22 0.819 (0.124)\n",
      ">23 0.867 (0.101)\n",
      ">24 0.833 (0.110)\n",
      ">25 0.856 (0.121)\n",
      ">26 0.832 (0.128)\n",
      ">27 0.831 (0.127)\n",
      ">28 0.831 (0.141)\n",
      ">29 0.844 (0.112)\n",
      ">30 0.831 (0.145)\n",
      ">31 0.833 (0.123)\n",
      ">32 0.853 (0.144)\n",
      ">33 0.831 (0.127)\n",
      ">34 0.832 (0.112)\n",
      ">35 0.881 (0.094)\n",
      ">36 0.832 (0.123)\n",
      ">37 0.856 (0.140)\n",
      ">38 0.844 (0.137)\n",
      ">39 0.817 (0.150)\n",
      ">40 0.807 (0.116)\n",
      ">41 0.807 (0.127)\n",
      ">42 0.818 (0.128)\n",
      ">43 0.843 (0.132)\n",
      ">44 0.856 (0.151)\n",
      ">45 0.854 (0.121)\n",
      ">46 0.854 (0.121)\n",
      ">47 0.819 (0.124)\n",
      ">48 0.821 (0.137)\n",
      ">49 0.857 (0.116)\n",
      ">50 0.844 (0.132)\n",
      ">51 0.865 (0.151)\n",
      ">52 0.831 (0.145)\n",
      ">53 0.832 (0.128)\n",
      ">54 0.854 (0.144)\n",
      ">55 0.854 (0.144)\n",
      ">56 0.865 (0.128)\n",
      ">57 0.843 (0.137)\n",
      ">58 0.867 (0.129)\n",
      ">59 0.857 (0.092)\n",
      ">60 0.821 (0.125)\n",
      ">61 0.843 (0.137)\n",
      ">62 0.818 (0.128)\n",
      ">63 0.829 (0.165)\n",
      ">64 0.821 (0.137)\n",
      ">65 0.853 (0.174)\n",
      ">66 0.854 (0.161)\n"
     ]
    },
    {
     "data": {
      "image/png": "[encoded data removed]",
      "text/plain": [
       "<Figure size 432x288 with 1 Axes>"
      ]
     },
     "metadata": {
      "needs_background": "light"
     },
     "output_type": "display_data"
    }
   ],
   "source": [
    "# get a list of models to evaluate\n",
    "def get_models():\n",
    "\tmodels = dict()\n",
    "\t# explore number of features from 1 to 20\n",
    "\tdepths = [i for i in range(1,67)] + [None]\n",
    "\tfor i in range(1, 67):\n",
    "\t\tmodels[str(i)] = ExtraTreesClassifier(max_features=i)\n",
    "\treturn models\n",
    " \n",
    "# define dataset\n",
    "X, y = filled.iloc[:,3:], filled.iloc[:,1]\n",
    "# get the models to evaluate\n",
    "models = get_models()\n",
    "# evaluate the models and store results\n",
    "results, names = list(), list()\n",
    "for name, model in models.items():\n",
    "\t# evaluate the model\n",
    "\tscores = evaluate_model(model, X, y)\n",
    "\t# store the results\n",
    "\tresults.append(scores)\n",
    "\tnames.append(name)\n",
    "\t# summarize the performance along the way\n",
    "\ts = pd.Series(data=[np.mean(scores), np.std(scores)],name=name, index=['mean','std'])\n",
    "\tvary_feat = vary_feat.append(s)\n",
    "\tprint('>%s %.3f (%.3f)' % (name, np.mean(scores), np.std(scores)))\n",
    "# plot model performance for comparison\n",
    "pyplot.boxplot(results, labels=names, showmeans=True)\n",
    "pyplot.show()"
   ]
  },
  {
   "cell_type": "code",
   "execution_count": 97,
   "id": "2455bb15",
   "metadata": {},
   "outputs": [],
   "source": [
    "#find average of all stored results\n",
    "avg_vary_feat = pd.DataFrame(columns=['mean', 'std'])\n",
    "for i in range(1, 67):\n",
    "    i = str(i)\n",
    "    s = pd.Series(vary_feat.T[i].mean(axis=1), name=i, index=['mean','std'])\n",
    "    avg_vary_feat = avg_vary_feat.append(s)"
   ]
  },
  {
   "cell_type": "code",
   "execution_count": 98,
   "id": "7b61917f",
   "metadata": {},
   "outputs": [
    {
     "data": {
      "text/html": [
       "<div>\n",
       "<style scoped>\n",
       "    .dataframe tbody tr th:only-of-type {\n",
       "        vertical-align: middle;\n",
       "    }\n",
       "\n",
       "    .dataframe tbody tr th {\n",
       "        vertical-align: top;\n",
       "    }\n",
       "\n",
       "    .dataframe thead th {\n",
       "        text-align: right;\n",
       "    }\n",
       "</style>\n",
       "<table border=\"1\" class=\"dataframe\">\n",
       "  <thead>\n",
       "    <tr style=\"text-align: right;\">\n",
       "      <th></th>\n",
       "      <th>mean</th>\n",
       "      <th>std</th>\n",
       "    </tr>\n",
       "  </thead>\n",
       "  <tbody>\n",
       "    <tr>\n",
       "      <th>58</th>\n",
       "      <td>0.855556</td>\n",
       "      <td>0.141235</td>\n",
       "    </tr>\n",
       "    <tr>\n",
       "      <th>54</th>\n",
       "      <td>0.854514</td>\n",
       "      <td>0.141291</td>\n",
       "    </tr>\n",
       "    <tr>\n",
       "      <th>51</th>\n",
       "      <td>0.853125</td>\n",
       "      <td>0.135443</td>\n",
       "    </tr>\n",
       "    <tr>\n",
       "      <th>66</th>\n",
       "      <td>0.850174</td>\n",
       "      <td>0.146280</td>\n",
       "    </tr>\n",
       "    <tr>\n",
       "      <th>56</th>\n",
       "      <td>0.848437</td>\n",
       "      <td>0.127054</td>\n",
       "    </tr>\n",
       "    <tr>\n",
       "      <th>...</th>\n",
       "      <td>...</td>\n",
       "      <td>...</td>\n",
       "    </tr>\n",
       "    <tr>\n",
       "      <th>4</th>\n",
       "      <td>0.813889</td>\n",
       "      <td>0.126140</td>\n",
       "    </tr>\n",
       "    <tr>\n",
       "      <th>5</th>\n",
       "      <td>0.807716</td>\n",
       "      <td>0.129347</td>\n",
       "    </tr>\n",
       "    <tr>\n",
       "      <th>3</th>\n",
       "      <td>0.807253</td>\n",
       "      <td>0.134504</td>\n",
       "    </tr>\n",
       "    <tr>\n",
       "      <th>2</th>\n",
       "      <td>0.806481</td>\n",
       "      <td>0.128498</td>\n",
       "    </tr>\n",
       "    <tr>\n",
       "      <th>1</th>\n",
       "      <td>0.800000</td>\n",
       "      <td>0.127849</td>\n",
       "    </tr>\n",
       "  </tbody>\n",
       "</table>\n",
       "<p>66 rows × 2 columns</p>\n",
       "</div>"
      ],
      "text/plain": [
       "        mean       std\n",
       "58  0.855556  0.141235\n",
       "54  0.854514  0.141291\n",
       "51  0.853125  0.135443\n",
       "66  0.850174  0.146280\n",
       "56  0.848437  0.127054\n",
       "..       ...       ...\n",
       "4   0.813889  0.126140\n",
       "5   0.807716  0.129347\n",
       "3   0.807253  0.134504\n",
       "2   0.806481  0.128498\n",
       "1   0.800000  0.127849\n",
       "\n",
       "[66 rows x 2 columns]"
      ]
     },
     "execution_count": 98,
     "metadata": {},
     "output_type": "execute_result"
    }
   ],
   "source": [
    "avg_vary_feat.sort_values(by='mean', ascending=0)"
   ]
  },
  {
   "cell_type": "markdown",
   "id": "f9fbfd78",
   "metadata": {},
   "source": [
    "## Exploring number of minimum splits"
   ]
  },
  {
   "cell_type": "code",
   "execution_count": 46,
   "id": "7d47fd57",
   "metadata": {},
   "outputs": [],
   "source": [
    "min_trees = pd.DataFrame(columns=[\"mean\",\"std\"])"
   ]
  },
  {
   "cell_type": "code",
   "execution_count": 105,
   "id": "bdfdb469",
   "metadata": {},
   "outputs": [
    {
     "name": "stdout",
     "output_type": "stream",
     "text": [
      ">2 0.832 (0.100)\n",
      ">3 0.819 (0.136)\n",
      ">4 0.867 (0.151)\n",
      ">5 0.831 (0.150)\n",
      ">6 0.844 (0.123)\n",
      ">7 0.846 (0.103)\n",
      ">8 0.797 (0.122)\n",
      ">9 0.808 (0.139)\n",
      ">10 0.833 (0.113)\n",
      ">11 0.833 (0.123)\n",
      ">12 0.808 (0.137)\n",
      ">13 0.738 (0.119)\n",
      ">14 0.786 (0.148)\n"
     ]
    },
    {
     "data": {
      "image/png": "[encoded data removed]",
      "text/plain": [
       "<Figure size 432x288 with 1 Axes>"
      ]
     },
     "metadata": {
      "needs_background": "light"
     },
     "output_type": "display_data"
    }
   ],
   "source": [
    "# get a list of models to evaluate\n",
    "def get_models():\n",
    "\tmodels = dict()\n",
    "\t# explore the number of samples per split from 2 to 14\n",
    "\tfor i in range(2, 15):\n",
    "\t\tmodels[str(i)] = ExtraTreesClassifier(min_samples_split=i)\n",
    "\treturn models\n",
    "\n",
    "#get models to evaluate\n",
    "models = get_models()\n",
    "# evaluate the models and store results\n",
    "results, names = list(), list()\n",
    "for name, model in models.items():\n",
    "\t# evaluate the model\n",
    "\tscores = evaluate_model(model, X, y)\n",
    "\t# store the results\n",
    "\tresults.append(scores)\n",
    "\tnames.append(name)\n",
    "\t# summarize the performance along the way\n",
    "\ts = pd.Series(data=[np.mean(scores), np.std(scores)],name=name, index=['mean','std'])\n",
    "\tmin_trees = min_trees.append(s)\n",
    "\tprint('>%s %.3f (%.3f)' % (name, np.mean(scores), np.std(scores)))\n",
    "# plot model performance for comparison\n",
    "pyplot.boxplot(results, labels=names, showmeans=True)\n",
    "pyplot.title('Minimum Number of Splits by Accuracy')\n",
    "pyplot.show()"
   ]
  },
  {
   "cell_type": "code",
   "execution_count": 106,
   "id": "034810e6",
   "metadata": {},
   "outputs": [],
   "source": [
    "#find average of all stored results\n",
    "avg_min_trees = pd.DataFrame(columns=['mean', 'std'])\n",
    "for i in range(2, 15):\n",
    "    i = str(i)\n",
    "    s = pd.Series(min_trees.T[i].mean(axis=1), name=i, index=['mean','std'])\n",
    "    avg_min_trees = avg_min_trees.append(s)"
   ]
  },
  {
   "cell_type": "code",
   "execution_count": 107,
   "id": "f98a1fbf",
   "metadata": {},
   "outputs": [
    {
     "data": {
      "text/html": [
       "<div>\n",
       "<style scoped>\n",
       "    .dataframe tbody tr th:only-of-type {\n",
       "        vertical-align: middle;\n",
       "    }\n",
       "\n",
       "    .dataframe tbody tr th {\n",
       "        vertical-align: top;\n",
       "    }\n",
       "\n",
       "    .dataframe thead th {\n",
       "        text-align: right;\n",
       "    }\n",
       "</style>\n",
       "<table border=\"1\" class=\"dataframe\">\n",
       "  <thead>\n",
       "    <tr style=\"text-align: right;\">\n",
       "      <th></th>\n",
       "      <th>mean</th>\n",
       "      <th>std</th>\n",
       "    </tr>\n",
       "  </thead>\n",
       "  <tbody>\n",
       "    <tr>\n",
       "      <th>7</th>\n",
       "      <td>0.841520</td>\n",
       "      <td>0.119061</td>\n",
       "    </tr>\n",
       "    <tr>\n",
       "      <th>4</th>\n",
       "      <td>0.836915</td>\n",
       "      <td>0.132802</td>\n",
       "    </tr>\n",
       "    <tr>\n",
       "      <th>6</th>\n",
       "      <td>0.834430</td>\n",
       "      <td>0.124118</td>\n",
       "    </tr>\n",
       "    <tr>\n",
       "      <th>5</th>\n",
       "      <td>0.832968</td>\n",
       "      <td>0.127927</td>\n",
       "    </tr>\n",
       "    <tr>\n",
       "      <th>3</th>\n",
       "      <td>0.830190</td>\n",
       "      <td>0.122197</td>\n",
       "    </tr>\n",
       "    <tr>\n",
       "      <th>8</th>\n",
       "      <td>0.825219</td>\n",
       "      <td>0.116846</td>\n",
       "    </tr>\n",
       "    <tr>\n",
       "      <th>9</th>\n",
       "      <td>0.824561</td>\n",
       "      <td>0.127504</td>\n",
       "    </tr>\n",
       "    <tr>\n",
       "      <th>2</th>\n",
       "      <td>0.824375</td>\n",
       "      <td>0.124793</td>\n",
       "    </tr>\n",
       "    <tr>\n",
       "      <th>10</th>\n",
       "      <td>0.819883</td>\n",
       "      <td>0.140756</td>\n",
       "    </tr>\n",
       "    <tr>\n",
       "      <th>11</th>\n",
       "      <td>0.816009</td>\n",
       "      <td>0.128819</td>\n",
       "    </tr>\n",
       "    <tr>\n",
       "      <th>12</th>\n",
       "      <td>0.809137</td>\n",
       "      <td>0.138967</td>\n",
       "    </tr>\n",
       "    <tr>\n",
       "      <th>13</th>\n",
       "      <td>0.801827</td>\n",
       "      <td>0.133177</td>\n",
       "    </tr>\n",
       "    <tr>\n",
       "      <th>14</th>\n",
       "      <td>0.787500</td>\n",
       "      <td>0.142921</td>\n",
       "    </tr>\n",
       "  </tbody>\n",
       "</table>\n",
       "</div>"
      ],
      "text/plain": [
       "        mean       std\n",
       "7   0.841520  0.119061\n",
       "4   0.836915  0.132802\n",
       "6   0.834430  0.124118\n",
       "5   0.832968  0.127927\n",
       "3   0.830190  0.122197\n",
       "8   0.825219  0.116846\n",
       "9   0.824561  0.127504\n",
       "2   0.824375  0.124793\n",
       "10  0.819883  0.140756\n",
       "11  0.816009  0.128819\n",
       "12  0.809137  0.138967\n",
       "13  0.801827  0.133177\n",
       "14  0.787500  0.142921"
      ]
     },
     "execution_count": 107,
     "metadata": {},
     "output_type": "execute_result"
    }
   ],
   "source": [
    "avg_min_trees.sort_values(by='mean', ascending=0)"
   ]
  },
  {
   "cell_type": "markdown",
   "id": "f569edac",
   "metadata": {},
   "source": [
    "## Best Performing Model According to experimentation\n",
    "1. amount of trees = 100\n",
    "2. number of features = all (66) ??\n",
    "3. number of minimum splits = 7 \n",
    "\n",
    "Experimentation has proved that for the most part, the default values of Extra Tree's hyperparameters are not the best suited values for this particular model. Through thorough experimentation, we deduce that the number of minimum splits is best suited to 7 in this particular case over time. Although it should be noted that the gain in variance and standard deviation is miniscule. As well as this, similarly to the random forest model, experimentation results suggest that the number of features to be included remains ambiguous. The general rule of thumb for the number of features to be used in a classification task is the sqrt(number of features), which in our case rounds to 8. However, including only 1 to 10 features on average achieves the lowest results for mean accuracy, although the std remains "
   ]
  },
  {
   "cell_type": "code",
   "execution_count": null,
   "id": "86646cd7",
   "metadata": {},
   "outputs": [],
   "source": []
  }
 ],
 "metadata": {
  "kernelspec": {
   "display_name": "Python 3",
   "language": "python",
   "name": "python3"
  },
  "language_info": {
   "codemirror_mode": {
    "name": "ipython",
    "version": 3
   },
   "file_extension": ".py",
   "mimetype": "text/x-python",
   "name": "python",
   "nbconvert_exporter": "python",
   "pygments_lexer": "ipython3",
   "version": "3.8.3"
  }
 },
 "nbformat": 4,
 "nbformat_minor": 5
}
