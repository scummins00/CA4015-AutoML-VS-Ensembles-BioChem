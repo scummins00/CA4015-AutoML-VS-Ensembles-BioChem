{
 "cells": [
  {
   "cell_type": "markdown",
   "id": "d6bc8a26",
   "metadata": {},
   "source": [
    "# Random Forest\n",
    "In the following notebook, we will be using the Random Forest algorithm to build a model for the VOC CGMS readings."
   ]
  },
  {
   "cell_type": "code",
   "execution_count": 31,
   "id": "6c39500f",
   "metadata": {},
   "outputs": [],
   "source": [
    "import pandas as pd\n",
    "import numpy as np\n",
    "from sklearn.datasets import make_classification\n",
    "from sklearn.model_selection import cross_val_score\n",
    "from sklearn.model_selection import RepeatedStratifiedKFold\n",
    "from sklearn.ensemble import RandomForestClassifier\n",
    "import matplotlib.pyplot as plt"
   ]
  },
  {
   "cell_type": "code",
   "execution_count": 19,
   "id": "e4896892",
   "metadata": {},
   "outputs": [],
   "source": [
    "#get data\n",
    "raw = pd.read_csv('data/cleaned/long.csv')\n",
    "filled = raw.fillna(0)"
   ]
  },
  {
   "cell_type": "markdown",
   "id": "c1b4e82f",
   "metadata": {},
   "source": [
    "## Evaluating the Model with different bootstrapping sample sizes"
   ]
  },
  {
   "cell_type": "code",
   "execution_count": 18,
   "id": "cf28350a",
   "metadata": {},
   "outputs": [
    {
     "name": "stdout",
     "output_type": "stream",
     "text": [
      ">0.1 0.609 (0.114)\n",
      ">0.2 0.718 (0.148)\n",
      ">0.3 0.762 (0.131)\n",
      ">0.4 0.764 (0.139)\n",
      ">0.5 0.773 (0.122)\n",
      ">0.6 0.753 (0.144)\n",
      ">0.7 0.792 (0.122)\n",
      ">0.8 0.804 (0.147)\n",
      ">0.9 0.803 (0.093)\n",
      ">1.0 0.792 (0.112)\n"
     ]
    },
    {
     "data": {
      "image/png": "[encoded data removed]",
      "text/plain": [
       "<Figure size 432x288 with 1 Axes>"
      ]
     },
     "metadata": {
      "needs_background": "light"
     },
     "output_type": "display_data"
    }
   ],
   "source": [
    "# get a list of models to evaluate\n",
    "def get_models():\n",
    "\tmodels = dict()\n",
    "\t# explore ratios from 10% to 100% in 10% increments\n",
    "\tfor i in np.arange(0.1, 1.1, 0.1):\n",
    "\t\tkey = '%.1f' % i\n",
    "\t\t# set max_samples=None to use 100%\n",
    "\t\tif i == 1.0:\n",
    "\t\t\ti = None\n",
    "\t\tmodels[key] = RandomForestClassifier(max_samples=i, max_features='sqrt')\n",
    "\treturn models\n",
    " \n",
    "# evaluate a given model using cross-validation\n",
    "def evaluate_model(model, X, y):\n",
    "\t# define the evaluation procedure\n",
    "\tcv = RepeatedStratifiedKFold(n_splits=10, n_repeats=3, random_state=1)\n",
    "\t# evaluate the model and collect the results\n",
    "\tscores = cross_val_score(model, X, y, scoring='accuracy', cv=cv, n_jobs=-1)\n",
    "\treturn scores\n",
    " \n",
    "# define dataset\n",
    "X, y = filled.iloc[:,3:], filled.iloc[:,1]\n",
    "# get the models to evaluate\n",
    "models = get_models()\n",
    "# evaluate the models and store results\n",
    "results, names = list(), list()\n",
    "for name, model in models.items():\n",
    "\t# evaluate the model\n",
    "\tscores = evaluate_model(model, X, y)\n",
    "\t# store the results\n",
    "\tresults.append(scores)\n",
    "\tnames.append(name)\n",
    "\t# summarize the performance along the way\n",
    "\tprint('>%s %.3f (%.3f)' % (name, np.mean(scores), np.std(scores)))\n",
    "# plot model performance for comparison\n",
    "plt.boxplot(results, labels=names, showmeans=True)\n",
    "plt.show()"
   ]
  },
  {
   "cell_type": "code",
   "execution_count": 27,
   "id": "4eabd004",
   "metadata": {},
   "outputs": [
    {
     "data": {
      "text/plain": [
       "(84, 67)"
      ]
     },
     "execution_count": 27,
     "metadata": {},
     "output_type": "execute_result"
    }
   ],
   "source": [
    "filled.iloc[:,3:].shape"
   ]
  },
  {
   "cell_type": "markdown",
   "id": "f94dbd14",
   "metadata": {},
   "source": [
    "## Evaluating the Model with different Feature selection sizes (random subspace method)"
   ]
  },
  {
   "cell_type": "code",
   "execution_count": 72,
   "id": "58f1f3a3",
   "metadata": {},
   "outputs": [],
   "source": [
    "avg_scores = pd.DataFrame(columns=[\"mean\",\"std\"])"
   ]
  },
  {
   "cell_type": "code",
   "execution_count": 75,
   "id": "8fb17940",
   "metadata": {},
   "outputs": [
    {
     "data": {
      "text/html": [
       "<div>\n",
       "<style scoped>\n",
       "    .dataframe tbody tr th:only-of-type {\n",
       "        vertical-align: middle;\n",
       "    }\n",
       "\n",
       "    .dataframe tbody tr th {\n",
       "        vertical-align: top;\n",
       "    }\n",
       "\n",
       "    .dataframe thead th {\n",
       "        text-align: right;\n",
       "    }\n",
       "</style>\n",
       "<table border=\"1\" class=\"dataframe\">\n",
       "  <thead>\n",
       "    <tr style=\"text-align: right;\">\n",
       "      <th></th>\n",
       "      <th>1</th>\n",
       "      <th>2</th>\n",
       "      <th>3</th>\n",
       "      <th>4</th>\n",
       "      <th>5</th>\n",
       "      <th>6</th>\n",
       "      <th>7</th>\n",
       "      <th>8</th>\n",
       "      <th>9</th>\n",
       "      <th>10</th>\n",
       "      <th>...</th>\n",
       "      <th>57</th>\n",
       "      <th>58</th>\n",
       "      <th>59</th>\n",
       "      <th>60</th>\n",
       "      <th>61</th>\n",
       "      <th>62</th>\n",
       "      <th>63</th>\n",
       "      <th>64</th>\n",
       "      <th>65</th>\n",
       "      <th>66</th>\n",
       "    </tr>\n",
       "  </thead>\n",
       "  <tbody>\n",
       "    <tr>\n",
       "      <th>mean</th>\n",
       "      <td>0.769444</td>\n",
       "      <td>0.787037</td>\n",
       "      <td>0.795833</td>\n",
       "      <td>0.764352</td>\n",
       "      <td>0.780093</td>\n",
       "      <td>0.798611</td>\n",
       "      <td>0.769444</td>\n",
       "      <td>0.786111</td>\n",
       "      <td>0.803704</td>\n",
       "      <td>0.799537</td>\n",
       "      <td>...</td>\n",
       "      <td>0.804630</td>\n",
       "      <td>0.787037</td>\n",
       "      <td>0.802778</td>\n",
       "      <td>0.792130</td>\n",
       "      <td>0.819907</td>\n",
       "      <td>0.800926</td>\n",
       "      <td>0.799537</td>\n",
       "      <td>0.812963</td>\n",
       "      <td>0.812963</td>\n",
       "      <td>0.792593</td>\n",
       "    </tr>\n",
       "    <tr>\n",
       "      <th>std</th>\n",
       "      <td>0.139333</td>\n",
       "      <td>0.142334</td>\n",
       "      <td>0.142326</td>\n",
       "      <td>0.133482</td>\n",
       "      <td>0.133222</td>\n",
       "      <td>0.120855</td>\n",
       "      <td>0.136347</td>\n",
       "      <td>0.140344</td>\n",
       "      <td>0.114684</td>\n",
       "      <td>0.123065</td>\n",
       "      <td>...</td>\n",
       "      <td>0.131122</td>\n",
       "      <td>0.137228</td>\n",
       "      <td>0.133333</td>\n",
       "      <td>0.138355</td>\n",
       "      <td>0.126558</td>\n",
       "      <td>0.132750</td>\n",
       "      <td>0.135167</td>\n",
       "      <td>0.136871</td>\n",
       "      <td>0.121596</td>\n",
       "      <td>0.118392</td>\n",
       "    </tr>\n",
       "  </tbody>\n",
       "</table>\n",
       "<p>2 rows × 132 columns</p>\n",
       "</div>"
      ],
      "text/plain": [
       "             1         2         3         4         5         6         7  \\\n",
       "mean  0.769444  0.787037  0.795833  0.764352  0.780093  0.798611  0.769444   \n",
       "std   0.139333  0.142334  0.142326  0.133482  0.133222  0.120855  0.136347   \n",
       "\n",
       "             8         9        10  ...        57        58        59  \\\n",
       "mean  0.786111  0.803704  0.799537  ...  0.804630  0.787037  0.802778   \n",
       "std   0.140344  0.114684  0.123065  ...  0.131122  0.137228  0.133333   \n",
       "\n",
       "            60        61        62        63        64        65        66  \n",
       "mean  0.792130  0.819907  0.800926  0.799537  0.812963  0.812963  0.792593  \n",
       "std   0.138355  0.126558  0.132750  0.135167  0.136871  0.121596  0.118392  \n",
       "\n",
       "[2 rows x 132 columns]"
      ]
     },
     "execution_count": 75,
     "metadata": {},
     "output_type": "execute_result"
    }
   ],
   "source": [
    "avg_scores.T.head()"
   ]
  },
  {
   "cell_type": "code",
   "execution_count": 76,
   "id": "0ec6af83",
   "metadata": {
    "scrolled": false
   },
   "outputs": [
    {
     "name": "stdout",
     "output_type": "stream",
     "text": [
      ">1 0.755 (0.118)\n",
      ">2 0.769 (0.140)\n",
      ">3 0.792 (0.125)\n",
      ">4 0.775 (0.116)\n",
      ">5 0.797 (0.120)\n",
      ">6 0.791 (0.142)\n",
      ">7 0.780 (0.129)\n",
      ">8 0.804 (0.110)\n",
      ">9 0.815 (0.121)\n",
      ">10 0.779 (0.135)\n",
      ">11 0.803 (0.112)\n",
      ">12 0.802 (0.126)\n",
      ">13 0.792 (0.126)\n",
      ">14 0.804 (0.109)\n",
      ">15 0.804 (0.107)\n",
      ">16 0.812 (0.102)\n",
      ">17 0.803 (0.119)\n",
      ">18 0.804 (0.115)\n",
      ">19 0.812 (0.126)\n",
      ">20 0.792 (0.116)\n",
      ">21 0.814 (0.134)\n",
      ">22 0.800 (0.127)\n",
      ">23 0.811 (0.129)\n",
      ">24 0.812 (0.112)\n",
      ">25 0.812 (0.117)\n",
      ">26 0.812 (0.127)\n",
      ">27 0.816 (0.110)\n",
      ">28 0.796 (0.118)\n",
      ">29 0.808 (0.126)\n",
      ">30 0.807 (0.116)\n",
      ">31 0.803 (0.120)\n",
      ">32 0.791 (0.126)\n",
      ">33 0.792 (0.136)\n",
      ">34 0.795 (0.118)\n",
      ">35 0.808 (0.136)\n",
      ">36 0.809 (0.121)\n",
      ">37 0.818 (0.143)\n",
      ">38 0.816 (0.114)\n",
      ">39 0.799 (0.118)\n",
      ">40 0.800 (0.118)\n",
      ">41 0.796 (0.113)\n",
      ">42 0.807 (0.135)\n",
      ">43 0.787 (0.126)\n",
      ">44 0.804 (0.133)\n",
      ">45 0.808 (0.118)\n",
      ">46 0.799 (0.142)\n",
      ">47 0.816 (0.119)\n",
      ">48 0.824 (0.133)\n",
      ">49 0.796 (0.136)\n",
      ">50 0.812 (0.115)\n",
      ">51 0.823 (0.123)\n",
      ">52 0.788 (0.145)\n",
      ">53 0.780 (0.133)\n",
      ">54 0.801 (0.120)\n",
      ">55 0.819 (0.136)\n",
      ">56 0.772 (0.133)\n",
      ">57 0.797 (0.130)\n",
      ">58 0.796 (0.119)\n",
      ">59 0.800 (0.132)\n",
      ">60 0.816 (0.145)\n",
      ">61 0.805 (0.140)\n",
      ">62 0.792 (0.124)\n",
      ">63 0.800 (0.142)\n",
      ">64 0.788 (0.115)\n",
      ">65 0.816 (0.130)\n",
      ">66 0.800 (0.136)\n"
     ]
    },
    {
     "data": {
      "image/png": "[encoded data removed]",
      "text/plain": [
       "<Figure size 1080x1080 with 1 Axes>"
      ]
     },
     "metadata": {
      "needs_background": "light"
     },
     "output_type": "display_data"
    }
   ],
   "source": [
    "# get a list of models to evaluate\n",
    "def get_models():\n",
    "\tmodels = dict()\n",
    "\t# explore number of features from 1 to 7\n",
    "\tfor i in range(1,67):\n",
    "\t\tmodels[str(i)] = RandomForestClassifier(max_features=i)\n",
    "\treturn models\n",
    " \n",
    "# evaluate a given model using cross-validation\n",
    "def evaluate_model(model, X, y):\n",
    "\t# define the evaluation procedure\n",
    "\tcv = RepeatedStratifiedKFold(n_splits=10, n_repeats=3, random_state=1)\n",
    "\t# evaluate the model and collect the results\n",
    "\tscores = cross_val_score(model, X, y, scoring='accuracy', cv=cv, n_jobs=-1)\n",
    "\treturn scores\n",
    " \n",
    "# define dataset\n",
    "X, y = filled.iloc[:,3:], filled.iloc[:,1]\n",
    "# get the models to evaluate\n",
    "models = get_models()\n",
    "# evaluate the models and store results\n",
    "results, names = list(), list()\n",
    "for name, model in models.items():\n",
    "\t# evaluate the model\n",
    "\tscores = evaluate_model(model, X, y)\n",
    "\t# store the results\n",
    "\tresults.append(scores)\n",
    "\tnames.append(name)\n",
    "\t# summarize the performance along the way\n",
    "\ts = pd.Series(data=[np.mean(scores), np.std(scores)],name=name, index=['mean','std'])\n",
    "\tavg_scores = avg_scores.append(s)\n",
    "\tprint('>%s %.3f (%.3f)' % (name, np.mean(scores), np.std(scores)))\n",
    "# plot model performance for comparison\n",
    "plt.figure(figsize=(15,15))\n",
    "plt.boxplot(results, labels=names, showmeans=True)\n",
    "plt.show()"
   ]
  },
  {
   "cell_type": "raw",
   "id": "f52749d1",
   "metadata": {},
   "source": []
  },
  {
   "cell_type": "code",
   "execution_count": null,
   "id": "9a30f6e7",
   "metadata": {},
   "outputs": [],
   "source": []
  }
 ],
 "metadata": {
  "kernelspec": {
   "display_name": "Python 3",
   "language": "python",
   "name": "python3"
  },
  "language_info": {
   "codemirror_mode": {
    "name": "ipython",
    "version": 3
   },
   "file_extension": ".py",
   "mimetype": "text/x-python",
   "name": "python",
   "nbconvert_exporter": "python",
   "pygments_lexer": "ipython3",
   "version": "3.8.3"
  }
 },
 "nbformat": 4,
 "nbformat_minor": 5
}
