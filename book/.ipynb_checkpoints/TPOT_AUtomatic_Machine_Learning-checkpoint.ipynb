{
 "cells": [
  {
   "cell_type": "markdown",
   "id": "ee202a6a",
   "metadata": {},
   "source": [
    "# TPOT\n",
    "In this notebook, we will define our TPOT pipeline, fit it to our training data and then use it to predict our test data."
   ]
  },
  {
   "cell_type": "code",
   "execution_count": 1,
   "id": "b771ec98",
   "metadata": {},
   "outputs": [
    {
     "name": "stdout",
     "output_type": "stream",
     "text": [
      "Requirement already satisfied: tpot in c:\\users\\seanc\\appdata\\roaming\\python\\python38\\site-packages (0.11.7)\n",
      "Requirement already satisfied: joblib>=0.13.2 in c:\\users\\seanc\\appdata\\roaming\\python\\python38\\site-packages (from tpot) (0.17.0)\n",
      "Requirement already satisfied: pandas>=0.24.2 in c:\\users\\seanc\\appdata\\roaming\\python\\python38\\site-packages (from tpot) (1.0.5)\n",
      "Requirement already satisfied: scikit-learn>=0.22.0 in c:\\users\\seanc\\appdata\\roaming\\python\\python38\\site-packages (from tpot) (0.23.1)\n",
      "Requirement already satisfied: deap>=1.2 in c:\\users\\seanc\\appdata\\roaming\\python\\python38\\site-packages (from tpot) (1.3.1)\n",
      "Requirement already satisfied: numpy>=1.16.3 in c:\\users\\seanc\\appdata\\roaming\\python\\python38\\site-packages (from tpot) (1.19.0)\n",
      "Requirement already satisfied: scipy>=1.3.1 in c:\\users\\seanc\\appdata\\roaming\\python\\python38\\site-packages (from tpot) (1.5.1)\n",
      "Requirement already satisfied: xgboost>=1.1.0 in c:\\users\\seanc\\appdata\\roaming\\python\\python38\\site-packages (from tpot) (1.5.0)\n",
      "Requirement already satisfied: tqdm>=4.36.1 in c:\\users\\seanc\\appdata\\roaming\\python\\python38\\site-packages (from tpot) (4.47.0)\n",
      "Requirement already satisfied: stopit>=1.1.1 in c:\\users\\seanc\\appdata\\roaming\\python\\python38\\site-packages (from tpot) (1.1.2)\n",
      "Requirement already satisfied: update-checker>=0.16 in c:\\users\\seanc\\appdata\\roaming\\python\\python38\\site-packages (from tpot) (0.18.0)\n",
      "Requirement already satisfied: pytz>=2017.2 in c:\\users\\seanc\\appdata\\roaming\\python\\python38\\site-packages (from pandas>=0.24.2->tpot) (2020.1)\n",
      "Requirement already satisfied: python-dateutil>=2.6.1 in c:\\users\\seanc\\appdata\\roaming\\python\\python38\\site-packages (from pandas>=0.24.2->tpot) (2.8.1)\n",
      "Requirement already satisfied: threadpoolctl>=2.0.0 in c:\\users\\seanc\\appdata\\roaming\\python\\python38\\site-packages (from scikit-learn>=0.22.0->tpot) (2.1.0)\n",
      "Requirement already satisfied: requests>=2.3.0 in c:\\users\\seanc\\appdata\\roaming\\python\\python38\\site-packages (from update-checker>=0.16->tpot) (2.24.0)\n",
      "Requirement already satisfied: six>=1.5 in c:\\users\\seanc\\appdata\\roaming\\python\\python38\\site-packages (from python-dateutil>=2.6.1->pandas>=0.24.2->tpot) (1.15.0)\n",
      "Requirement already satisfied: chardet<4,>=3.0.2 in c:\\users\\seanc\\appdata\\roaming\\python\\python38\\site-packages (from requests>=2.3.0->update-checker>=0.16->tpot) (3.0.4)\n",
      "Requirement already satisfied: certifi>=2017.4.17 in c:\\users\\seanc\\appdata\\roaming\\python\\python38\\site-packages (from requests>=2.3.0->update-checker>=0.16->tpot) (2020.6.20)\n",
      "Requirement already satisfied: idna<3,>=2.5 in c:\\users\\seanc\\appdata\\roaming\\python\\python38\\site-packages (from requests>=2.3.0->update-checker>=0.16->tpot) (2.10)\n",
      "Requirement already satisfied: urllib3!=1.25.0,!=1.25.1,<1.26,>=1.21.1 in c:\\users\\seanc\\appdata\\roaming\\python\\python38\\site-packages (from requests>=2.3.0->update-checker>=0.16->tpot) (1.25.11)\n"
     ]
    }
   ],
   "source": [
    "#Install TPOT\n",
    "!pip install tpot"
   ]
  },
  {
   "cell_type": "code",
   "execution_count": 2,
   "id": "0244b7a3",
   "metadata": {},
   "outputs": [],
   "source": [
    "#Let's import our remaining packages\n",
    "import pandas as pd\n",
    "import numpy as np\n",
    "\n",
    "# Import the tpot regressor\n",
    "from tpot import TPOTClassifier"
   ]
  },
  {
   "cell_type": "code",
   "execution_count": 3,
   "id": "e90001bd",
   "metadata": {},
   "outputs": [],
   "source": [
    "#Read in our data (If above not working) you must import the file yourself.\n",
    "#File will be deleted once GPU runtime expires.\n",
    "train_data = pd.read_csv('../data/cleaned/long.csv')"
   ]
  },
  {
   "cell_type": "code",
   "execution_count": 4,
   "id": "f74bbcfa",
   "metadata": {},
   "outputs": [],
   "source": [
    "#Extract our training labels\n",
    "train_labels = train_data.Strain\n",
    "\n",
    "#Extract our training\n",
    "train_features = train_data.drop([\"Species\", \"Strain\", \"Samples \"], axis=1)"
   ]
  },
  {
   "cell_type": "code",
   "execution_count": 5,
   "id": "878b7b79",
   "metadata": {},
   "outputs": [],
   "source": [
    "#Convert to 'numpy' arrays\n",
    "training_features = np.array(train_features)\n",
    "training_labels = np.array(train_labels).reshape((-1,))"
   ]
  },
  {
   "cell_type": "code",
   "execution_count": 6,
   "id": "41a5665b",
   "metadata": {},
   "outputs": [],
   "source": [
    "#Build the TPOT framework\n",
    "tpot = TPOTClassifier(scoring = 'neg_mean_absolute_error',\n",
    "                      max_time_mins = 500,\n",
    "                      config_dict='TPOT sparse',\n",
    "                      n_jobs=-1,\n",
    "                      verbosity = 2,\n",
    "                      cv=6)"
   ]
  },
  {
   "cell_type": "markdown",
   "id": "d35ac3ef",
   "metadata": {},
   "source": [
    "## Fitting The Model\n",
    "The following cell will fit our TPOT model to our training data. It should be noted that this process is considerably faster with GPU utilisation. GPU utilisation is not a built-in feature with Jupyter Notebook. Therefore, this process is considerably faster on other platforms such as Google Colab."
   ]
  },
  {
   "cell_type": "code",
   "execution_count": null,
   "id": "7a8f9994",
   "metadata": {
    "scrolled": true
   },
   "outputs": [],
   "source": [
    "# Fit the tpot model on the training data\n",
    "tpot.fit(training_features, training_labels)"
   ]
  },
  {
   "cell_type": "code",
   "execution_count": null,
   "id": "e78a3ad0",
   "metadata": {},
   "outputs": [],
   "source": [
    "# Show the final model\n",
    "print(tpot.fitted_pipeline_)"
   ]
  },
  {
   "cell_type": "markdown",
   "id": "7287987e",
   "metadata": {},
   "source": [
    "Once we are finished with the model we export it to a file for use later on."
   ]
  },
  {
   "cell_type": "code",
   "execution_count": null,
   "id": "16c544a3",
   "metadata": {},
   "outputs": [],
   "source": [
    "# Export the pipeline as a python script file\n",
    "tpot.export('tpot_exported_pipeline.py')"
   ]
  }
 ],
 "metadata": {
  "kernelspec": {
   "display_name": "Python 3",
   "language": "python",
   "name": "python3"
  },
  "language_info": {
   "codemirror_mode": {
    "name": "ipython",
    "version": 3
   },
   "file_extension": ".py",
   "mimetype": "text/x-python",
   "name": "python",
   "nbconvert_exporter": "python",
   "pygments_lexer": "ipython3",
   "version": "3.8.3"
  }
 },
 "nbformat": 4,
 "nbformat_minor": 5
}
