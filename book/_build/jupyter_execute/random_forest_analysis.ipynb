{
 "cells": [
  {
   "cell_type": "markdown",
   "id": "ac2af4f9",
   "metadata": {},
   "source": [
    "# Random Forest\n",
    "In the following notebook, we will be using the Random Forest algorithm to build a model for the VOC CGMS readings."
   ]
  },
  {
   "cell_type": "code",
   "execution_count": 1,
   "id": "d8d81e67",
   "metadata": {},
   "outputs": [],
   "source": [
    "import time\n",
    "import pandas as pd\n",
    "import numpy as np\n",
    "from sklearn.datasets import make_classification\n",
    "from sklearn.model_selection import cross_val_score\n",
    "from sklearn.model_selection import RepeatedStratifiedKFold\n",
    "from sklearn.model_selection import KFold\n",
    "from sklearn.ensemble import RandomForestClassifier\n",
    "import matplotlib.pyplot as plt"
   ]
  },
  {
   "cell_type": "code",
   "execution_count": 2,
   "id": "b7507adb",
   "metadata": {},
   "outputs": [
    {
     "ename": "FileNotFoundError",
     "evalue": "[Errno 2] File data/cleaned/long.csv does not exist: 'data/cleaned/long.csv'",
     "output_type": "error",
     "traceback": [
      "\u001b[1;31m---------------------------------------------------------------------------\u001b[0m",
      "\u001b[1;31mFileNotFoundError\u001b[0m                         Traceback (most recent call last)",
      "\u001b[1;32m~\\AppData\\Local\\Temp/ipykernel_15936/2093705766.py\u001b[0m in \u001b[0;36m<module>\u001b[1;34m\u001b[0m\n\u001b[0;32m      1\u001b[0m \u001b[1;31m#get data\u001b[0m\u001b[1;33m\u001b[0m\u001b[1;33m\u001b[0m\u001b[1;33m\u001b[0m\u001b[0m\n\u001b[1;32m----> 2\u001b[1;33m \u001b[0mraw\u001b[0m \u001b[1;33m=\u001b[0m \u001b[0mpd\u001b[0m\u001b[1;33m.\u001b[0m\u001b[0mread_csv\u001b[0m\u001b[1;33m(\u001b[0m\u001b[1;34m'data/cleaned/long.csv'\u001b[0m\u001b[1;33m)\u001b[0m\u001b[1;33m\u001b[0m\u001b[1;33m\u001b[0m\u001b[0m\n\u001b[0m\u001b[0;32m      3\u001b[0m \u001b[0mfilled\u001b[0m \u001b[1;33m=\u001b[0m \u001b[0mraw\u001b[0m\u001b[1;33m.\u001b[0m\u001b[0mfillna\u001b[0m\u001b[1;33m(\u001b[0m\u001b[1;36m0\u001b[0m\u001b[1;33m)\u001b[0m\u001b[1;33m\u001b[0m\u001b[1;33m\u001b[0m\u001b[0m\n",
      "\u001b[1;32m~\\AppData\\Roaming\\Python\\Python38\\site-packages\\pandas\\io\\parsers.py\u001b[0m in \u001b[0;36mparser_f\u001b[1;34m(filepath_or_buffer, sep, delimiter, header, names, index_col, usecols, squeeze, prefix, mangle_dupe_cols, dtype, engine, converters, true_values, false_values, skipinitialspace, skiprows, skipfooter, nrows, na_values, keep_default_na, na_filter, verbose, skip_blank_lines, parse_dates, infer_datetime_format, keep_date_col, date_parser, dayfirst, cache_dates, iterator, chunksize, compression, thousands, decimal, lineterminator, quotechar, quoting, doublequote, escapechar, comment, encoding, dialect, error_bad_lines, warn_bad_lines, delim_whitespace, low_memory, memory_map, float_precision)\u001b[0m\n\u001b[0;32m    674\u001b[0m         )\n\u001b[0;32m    675\u001b[0m \u001b[1;33m\u001b[0m\u001b[0m\n\u001b[1;32m--> 676\u001b[1;33m         \u001b[1;32mreturn\u001b[0m \u001b[0m_read\u001b[0m\u001b[1;33m(\u001b[0m\u001b[0mfilepath_or_buffer\u001b[0m\u001b[1;33m,\u001b[0m \u001b[0mkwds\u001b[0m\u001b[1;33m)\u001b[0m\u001b[1;33m\u001b[0m\u001b[1;33m\u001b[0m\u001b[0m\n\u001b[0m\u001b[0;32m    677\u001b[0m \u001b[1;33m\u001b[0m\u001b[0m\n\u001b[0;32m    678\u001b[0m     \u001b[0mparser_f\u001b[0m\u001b[1;33m.\u001b[0m\u001b[0m__name__\u001b[0m \u001b[1;33m=\u001b[0m \u001b[0mname\u001b[0m\u001b[1;33m\u001b[0m\u001b[1;33m\u001b[0m\u001b[0m\n",
      "\u001b[1;32m~\\AppData\\Roaming\\Python\\Python38\\site-packages\\pandas\\io\\parsers.py\u001b[0m in \u001b[0;36m_read\u001b[1;34m(filepath_or_buffer, kwds)\u001b[0m\n\u001b[0;32m    446\u001b[0m \u001b[1;33m\u001b[0m\u001b[0m\n\u001b[0;32m    447\u001b[0m     \u001b[1;31m# Create the parser.\u001b[0m\u001b[1;33m\u001b[0m\u001b[1;33m\u001b[0m\u001b[1;33m\u001b[0m\u001b[0m\n\u001b[1;32m--> 448\u001b[1;33m     \u001b[0mparser\u001b[0m \u001b[1;33m=\u001b[0m \u001b[0mTextFileReader\u001b[0m\u001b[1;33m(\u001b[0m\u001b[0mfp_or_buf\u001b[0m\u001b[1;33m,\u001b[0m \u001b[1;33m**\u001b[0m\u001b[0mkwds\u001b[0m\u001b[1;33m)\u001b[0m\u001b[1;33m\u001b[0m\u001b[1;33m\u001b[0m\u001b[0m\n\u001b[0m\u001b[0;32m    449\u001b[0m \u001b[1;33m\u001b[0m\u001b[0m\n\u001b[0;32m    450\u001b[0m     \u001b[1;32mif\u001b[0m \u001b[0mchunksize\u001b[0m \u001b[1;32mor\u001b[0m \u001b[0miterator\u001b[0m\u001b[1;33m:\u001b[0m\u001b[1;33m\u001b[0m\u001b[1;33m\u001b[0m\u001b[0m\n",
      "\u001b[1;32m~\\AppData\\Roaming\\Python\\Python38\\site-packages\\pandas\\io\\parsers.py\u001b[0m in \u001b[0;36m__init__\u001b[1;34m(self, f, engine, **kwds)\u001b[0m\n\u001b[0;32m    878\u001b[0m             \u001b[0mself\u001b[0m\u001b[1;33m.\u001b[0m\u001b[0moptions\u001b[0m\u001b[1;33m[\u001b[0m\u001b[1;34m\"has_index_names\"\u001b[0m\u001b[1;33m]\u001b[0m \u001b[1;33m=\u001b[0m \u001b[0mkwds\u001b[0m\u001b[1;33m[\u001b[0m\u001b[1;34m\"has_index_names\"\u001b[0m\u001b[1;33m]\u001b[0m\u001b[1;33m\u001b[0m\u001b[1;33m\u001b[0m\u001b[0m\n\u001b[0;32m    879\u001b[0m \u001b[1;33m\u001b[0m\u001b[0m\n\u001b[1;32m--> 880\u001b[1;33m         \u001b[0mself\u001b[0m\u001b[1;33m.\u001b[0m\u001b[0m_make_engine\u001b[0m\u001b[1;33m(\u001b[0m\u001b[0mself\u001b[0m\u001b[1;33m.\u001b[0m\u001b[0mengine\u001b[0m\u001b[1;33m)\u001b[0m\u001b[1;33m\u001b[0m\u001b[1;33m\u001b[0m\u001b[0m\n\u001b[0m\u001b[0;32m    881\u001b[0m \u001b[1;33m\u001b[0m\u001b[0m\n\u001b[0;32m    882\u001b[0m     \u001b[1;32mdef\u001b[0m \u001b[0mclose\u001b[0m\u001b[1;33m(\u001b[0m\u001b[0mself\u001b[0m\u001b[1;33m)\u001b[0m\u001b[1;33m:\u001b[0m\u001b[1;33m\u001b[0m\u001b[1;33m\u001b[0m\u001b[0m\n",
      "\u001b[1;32m~\\AppData\\Roaming\\Python\\Python38\\site-packages\\pandas\\io\\parsers.py\u001b[0m in \u001b[0;36m_make_engine\u001b[1;34m(self, engine)\u001b[0m\n\u001b[0;32m   1112\u001b[0m     \u001b[1;32mdef\u001b[0m \u001b[0m_make_engine\u001b[0m\u001b[1;33m(\u001b[0m\u001b[0mself\u001b[0m\u001b[1;33m,\u001b[0m \u001b[0mengine\u001b[0m\u001b[1;33m=\u001b[0m\u001b[1;34m\"c\"\u001b[0m\u001b[1;33m)\u001b[0m\u001b[1;33m:\u001b[0m\u001b[1;33m\u001b[0m\u001b[1;33m\u001b[0m\u001b[0m\n\u001b[0;32m   1113\u001b[0m         \u001b[1;32mif\u001b[0m \u001b[0mengine\u001b[0m \u001b[1;33m==\u001b[0m \u001b[1;34m\"c\"\u001b[0m\u001b[1;33m:\u001b[0m\u001b[1;33m\u001b[0m\u001b[1;33m\u001b[0m\u001b[0m\n\u001b[1;32m-> 1114\u001b[1;33m             \u001b[0mself\u001b[0m\u001b[1;33m.\u001b[0m\u001b[0m_engine\u001b[0m \u001b[1;33m=\u001b[0m \u001b[0mCParserWrapper\u001b[0m\u001b[1;33m(\u001b[0m\u001b[0mself\u001b[0m\u001b[1;33m.\u001b[0m\u001b[0mf\u001b[0m\u001b[1;33m,\u001b[0m \u001b[1;33m**\u001b[0m\u001b[0mself\u001b[0m\u001b[1;33m.\u001b[0m\u001b[0moptions\u001b[0m\u001b[1;33m)\u001b[0m\u001b[1;33m\u001b[0m\u001b[1;33m\u001b[0m\u001b[0m\n\u001b[0m\u001b[0;32m   1115\u001b[0m         \u001b[1;32melse\u001b[0m\u001b[1;33m:\u001b[0m\u001b[1;33m\u001b[0m\u001b[1;33m\u001b[0m\u001b[0m\n\u001b[0;32m   1116\u001b[0m             \u001b[1;32mif\u001b[0m \u001b[0mengine\u001b[0m \u001b[1;33m==\u001b[0m \u001b[1;34m\"python\"\u001b[0m\u001b[1;33m:\u001b[0m\u001b[1;33m\u001b[0m\u001b[1;33m\u001b[0m\u001b[0m\n",
      "\u001b[1;32m~\\AppData\\Roaming\\Python\\Python38\\site-packages\\pandas\\io\\parsers.py\u001b[0m in \u001b[0;36m__init__\u001b[1;34m(self, src, **kwds)\u001b[0m\n\u001b[0;32m   1889\u001b[0m         \u001b[0mkwds\u001b[0m\u001b[1;33m[\u001b[0m\u001b[1;34m\"usecols\"\u001b[0m\u001b[1;33m]\u001b[0m \u001b[1;33m=\u001b[0m \u001b[0mself\u001b[0m\u001b[1;33m.\u001b[0m\u001b[0musecols\u001b[0m\u001b[1;33m\u001b[0m\u001b[1;33m\u001b[0m\u001b[0m\n\u001b[0;32m   1890\u001b[0m \u001b[1;33m\u001b[0m\u001b[0m\n\u001b[1;32m-> 1891\u001b[1;33m         \u001b[0mself\u001b[0m\u001b[1;33m.\u001b[0m\u001b[0m_reader\u001b[0m \u001b[1;33m=\u001b[0m \u001b[0mparsers\u001b[0m\u001b[1;33m.\u001b[0m\u001b[0mTextReader\u001b[0m\u001b[1;33m(\u001b[0m\u001b[0msrc\u001b[0m\u001b[1;33m,\u001b[0m \u001b[1;33m**\u001b[0m\u001b[0mkwds\u001b[0m\u001b[1;33m)\u001b[0m\u001b[1;33m\u001b[0m\u001b[1;33m\u001b[0m\u001b[0m\n\u001b[0m\u001b[0;32m   1892\u001b[0m         \u001b[0mself\u001b[0m\u001b[1;33m.\u001b[0m\u001b[0munnamed_cols\u001b[0m \u001b[1;33m=\u001b[0m \u001b[0mself\u001b[0m\u001b[1;33m.\u001b[0m\u001b[0m_reader\u001b[0m\u001b[1;33m.\u001b[0m\u001b[0munnamed_cols\u001b[0m\u001b[1;33m\u001b[0m\u001b[1;33m\u001b[0m\u001b[0m\n\u001b[0;32m   1893\u001b[0m \u001b[1;33m\u001b[0m\u001b[0m\n",
      "\u001b[1;32mpandas\\_libs\\parsers.pyx\u001b[0m in \u001b[0;36mpandas._libs.parsers.TextReader.__cinit__\u001b[1;34m()\u001b[0m\n",
      "\u001b[1;32mpandas\\_libs\\parsers.pyx\u001b[0m in \u001b[0;36mpandas._libs.parsers.TextReader._setup_parser_source\u001b[1;34m()\u001b[0m\n",
      "\u001b[1;31mFileNotFoundError\u001b[0m: [Errno 2] File data/cleaned/long.csv does not exist: 'data/cleaned/long.csv'"
     ]
    }
   ],
   "source": [
    "#get data\n",
    "raw = pd.read_csv('data/cleaned/long.csv')\n",
    "filled = raw.fillna(0)"
   ]
  },
  {
   "cell_type": "markdown",
   "id": "eefec571",
   "metadata": {},
   "source": [
    "## Evaluating the Model with different bootstrapping sample sizes"
   ]
  },
  {
   "cell_type": "code",
   "execution_count": 6,
   "id": "48a9a007",
   "metadata": {},
   "outputs": [],
   "source": [
    "sample_size = pd.DataFrame(columns=[\"mean\",\"std\"])"
   ]
  },
  {
   "cell_type": "code",
   "execution_count": 71,
   "id": "720c3cfb",
   "metadata": {},
   "outputs": [
    {
     "name": "stdout",
     "output_type": "stream",
     "text": [
      ">0.1 0.606 (0.127) (0.498)\n",
      ">0.2 0.725 (0.172) (0.484)\n",
      ">0.3 0.796 (0.147) (0.485)\n",
      ">0.4 0.738 (0.163) (0.486)\n",
      ">0.5 0.757 (0.167) (0.497)\n",
      ">0.6 0.846 (0.130) (0.495)\n",
      ">0.7 0.831 (0.139) (0.493)\n",
      ">0.8 0.881 (0.130) (0.492)\n",
      ">0.9 0.796 (0.121) (0.497)\n",
      ">1.0 0.821 (0.122) (0.510)\n"
     ]
    },
    {
     "data": {
      "image/png": "[encoded data removed]",
      "text/plain": [
       "<Figure size 432x288 with 1 Axes>"
      ]
     },
     "metadata": {
      "filenames": {
       "image/png": "D:\\DCU\\4th_year\\CA4015\\CA4015-AutoML-VS-Ensembles-BioChem\\book\\_build\\jupyter_execute\\random_forest_analysis_5_1.png"
      },
      "needs_background": "light"
     },
     "output_type": "display_data"
    }
   ],
   "source": [
    "# get a list of models to evaluate\n",
    "def get_models():\n",
    "\tmodels = dict()\n",
    "\t# explore ratios from 10% to 100% in 10% increments\n",
    "\tfor i in np.arange(0.1, 1.1, 0.1):\n",
    "\t\tkey = '%.1f' % i\n",
    "\t\t# set max_samples=None to use 100%\n",
    "\t\tif i == 1.0:\n",
    "\t\t\ti = None\n",
    "\t\tmodels[key] = RandomForestClassifier(max_samples=i, max_features='sqrt')\n",
    "\treturn models\n",
    " \n",
    "# evaluate a given model using cross-validation\n",
    "\n",
    "def evaluate_model(model, X, y):\n",
    "\t# define the evaluation procedure\n",
    "\tcv = KFold(n_splits=10, shuffle=True, random_state=1)\n",
    "\t# evaluate the model and collect the results\n",
    "\tscores = cross_val_score(model, X, y, scoring='accuracy', cv=cv, n_jobs=-1)\n",
    "\treturn scores\n",
    " \n",
    "# define dataset\n",
    "X, y = filled.iloc[:,3:], filled.iloc[:,1]\n",
    "# get the models to evaluate\n",
    "models = get_models()\n",
    "# evaluate the models and store results\n",
    "results, names, times = list(), list(), list()\n",
    "for name, model in models.items():\n",
    "\t# evaluate the model\n",
    "\tstart = time.time()\n",
    "\tscores = evaluate_model(model, X, y)\n",
    "\tend = time.time()\n",
    "\t# store the results\n",
    "\ttimes.append(end-start)\n",
    "\tresults.append(scores)\n",
    "\tnames.append(name)\n",
    "\t# summarize the performance along the way\n",
    "\ts = pd.Series(data=[np.mean(scores), np.std(scores), np.mean(times)],name=name, index=['mean','std', 'time'])\n",
    "\tsample_size = sample_size.append(s)\n",
    "\tprint('>%s %.3f (%.3f) (%.3f)' % (name, np.mean(scores), np.std(scores), np.mean(times)))\n",
    "# plot model performance for comparison\n",
    "plt.boxplot(results, labels=names, showmeans=True)\n",
    "plt.show()"
   ]
  },
  {
   "cell_type": "code",
   "execution_count": 72,
   "id": "59b375bb",
   "metadata": {},
   "outputs": [],
   "source": [
    "#find average of all stored results\n",
    "avg_sample_size = pd.DataFrame(columns=['mean', 'std', 'time'])\n",
    "for i in np.arange(0.1, 1.1, 0.1):\n",
    "    i = str(i)\n",
    "    i = i[0: 3]\n",
    "    s = pd.Series(sample_size.T[i].mean(axis=1), name=i, index=['mean','std','time'])\n",
    "    avg_sample_size = avg_sample_size.append(s)"
   ]
  },
  {
   "cell_type": "code",
   "execution_count": 73,
   "id": "d9e1fd3c",
   "metadata": {},
   "outputs": [
    {
     "data": {
      "text/html": [
       "<div>\n",
       "<style scoped>\n",
       "    .dataframe tbody tr th:only-of-type {\n",
       "        vertical-align: middle;\n",
       "    }\n",
       "\n",
       "    .dataframe tbody tr th {\n",
       "        vertical-align: top;\n",
       "    }\n",
       "\n",
       "    .dataframe thead th {\n",
       "        text-align: right;\n",
       "    }\n",
       "</style>\n",
       "<table border=\"1\" class=\"dataframe\">\n",
       "  <thead>\n",
       "    <tr style=\"text-align: right;\">\n",
       "      <th></th>\n",
       "      <th>mean</th>\n",
       "      <th>std</th>\n",
       "      <th>time</th>\n",
       "    </tr>\n",
       "  </thead>\n",
       "  <tbody>\n",
       "    <tr>\n",
       "      <th>0.9</th>\n",
       "      <td>0.827685</td>\n",
       "      <td>0.124628</td>\n",
       "      <td>0.556522</td>\n",
       "    </tr>\n",
       "    <tr>\n",
       "      <th>1.0</th>\n",
       "      <td>0.823426</td>\n",
       "      <td>0.120076</td>\n",
       "      <td>0.552975</td>\n",
       "    </tr>\n",
       "    <tr>\n",
       "      <th>0.8</th>\n",
       "      <td>0.810926</td>\n",
       "      <td>0.132435</td>\n",
       "      <td>0.560380</td>\n",
       "    </tr>\n",
       "    <tr>\n",
       "      <th>0.6</th>\n",
       "      <td>0.808611</td>\n",
       "      <td>0.135817</td>\n",
       "      <td>0.568672</td>\n",
       "    </tr>\n",
       "    <tr>\n",
       "      <th>0.7</th>\n",
       "      <td>0.806759</td>\n",
       "      <td>0.133849</td>\n",
       "      <td>0.565725</td>\n",
       "    </tr>\n",
       "    <tr>\n",
       "      <th>0.5</th>\n",
       "      <td>0.789630</td>\n",
       "      <td>0.147980</td>\n",
       "      <td>0.579429</td>\n",
       "    </tr>\n",
       "    <tr>\n",
       "      <th>0.4</th>\n",
       "      <td>0.767315</td>\n",
       "      <td>0.141161</td>\n",
       "      <td>0.599781</td>\n",
       "    </tr>\n",
       "  </tbody>\n",
       "</table>\n",
       "</div>"
      ],
      "text/plain": [
       "         mean       std      time\n",
       "0.9  0.827685  0.124628  0.556522\n",
       "1.0  0.823426  0.120076  0.552975\n",
       "0.8  0.810926  0.132435  0.560380\n",
       "0.6  0.808611  0.135817  0.568672\n",
       "0.7  0.806759  0.133849  0.565725\n",
       "0.5  0.789630  0.147980  0.579429\n",
       "0.4  0.767315  0.141161  0.599781"
      ]
     },
     "execution_count": 73,
     "metadata": {},
     "output_type": "execute_result"
    }
   ],
   "source": [
    "avg_sample_size.sort_values(by='mean', ascending=0).head(7)"
   ]
  },
  {
   "cell_type": "code",
   "execution_count": 74,
   "id": "3dfb2da5",
   "metadata": {},
   "outputs": [],
   "source": [
    "avg_sample_size.to_csv('data/cleaned/rnd_forest/avg_sample_size.csv', index=True)"
   ]
  },
  {
   "cell_type": "code",
   "execution_count": 75,
   "id": "b2739cd0",
   "metadata": {},
   "outputs": [
    {
     "data": {
      "image/png": "[encoded data removed]",
      "text/plain": [
       "<Figure size 432x288 with 1 Axes>"
      ]
     },
     "metadata": {
      "filenames": {
       "image/png": "D:\\DCU\\4th_year\\CA4015\\CA4015-AutoML-VS-Ensembles-BioChem\\book\\_build\\jupyter_execute\\random_forest_analysis_9_0.png"
      },
      "needs_background": "light"
     },
     "output_type": "display_data"
    }
   ],
   "source": [
    "line1 = plt.plot(avg_sample_size.index, avg_sample_size['mean'], label='Mean', c='darkcyan')\n",
    "line2 = plt.plot(avg_sample_size.index, avg_sample_size['std'], c='red', label='Std')\n",
    "plt.title('Accuracy of Varying Sample Size')\n",
    "plt.xlabel('Sample Size (%)')\n",
    "plt.ylabel('Accuracy')\n",
    "plt.legend()\n",
    "plt.yticks(ticks=np.arange(0,1.1,0.1))\n",
    "\n",
    "plt.savefig('images/rnd_forest/vary_sample_size.png')\n",
    "plt.show()"
   ]
  },
  {
   "cell_type": "markdown",
   "id": "1b72ed34",
   "metadata": {},
   "source": [
    "## Evaluating the Model with different Feature selection sizes (random subspace method)"
   ]
  },
  {
   "cell_type": "code",
   "execution_count": 76,
   "id": "848fa2cd",
   "metadata": {},
   "outputs": [],
   "source": [
    "avg_scores_k_fold = pd.DataFrame(columns=[\"mean\",\"std\",\"time\"])"
   ]
  },
  {
   "cell_type": "code",
   "execution_count": 93,
   "id": "433f7cc6",
   "metadata": {
    "scrolled": true
   },
   "outputs": [
    {
     "name": "stdout",
     "output_type": "stream",
     "text": [
      ">1 0.800 (0.116) (0.486)\n",
      ">2 0.761 (0.155) (0.516)\n",
      ">3 0.772 (0.113) (0.532)\n",
      ">4 0.856 (0.092) (0.530)\n",
      ">5 0.797 (0.117) (0.529)\n",
      ">6 0.832 (0.123) (0.528)\n",
      ">7 0.831 (0.139) (0.537)\n",
      ">8 0.810 (0.120) (0.563)\n",
      ">9 0.819 (0.159) (0.570)\n",
      ">10 0.868 (0.123) (0.579)\n",
      ">11 0.821 (0.111) (0.584)\n",
      ">12 0.833 (0.133) (0.590)\n",
      ">13 0.869 (0.113) (0.595)\n",
      ">14 0.821 (0.134) (0.609)\n",
      ">15 0.869 (0.110) (0.615)\n",
      ">16 0.844 (0.130) (0.617)\n",
      ">17 0.843 (0.143) (0.628)\n",
      ">18 0.831 (0.165) (0.628)\n",
      ">19 0.868 (0.098) (0.626)\n",
      ">20 0.822 (0.141) (0.624)\n",
      ">21 0.832 (0.112) (0.624)\n",
      ">22 0.844 (0.109) (0.623)\n",
      ">23 0.797 (0.162) (0.624)\n",
      ">24 0.858 (0.138) (0.626)\n",
      ">25 0.821 (0.156) (0.627)\n",
      ">26 0.858 (0.126) (0.636)\n",
      ">27 0.808 (0.137) (0.638)\n",
      ">28 0.832 (0.144) (0.637)\n",
      ">29 0.856 (0.118) (0.636)\n",
      ">30 0.844 (0.162) (0.635)\n",
      ">31 0.857 (0.129) (0.634)\n",
      ">32 0.832 (0.164) (0.634)\n",
      ">33 0.856 (0.153) (0.634)\n",
      ">34 0.808 (0.146) (0.634)\n",
      ">35 0.844 (0.123) (0.639)\n",
      ">36 0.846 (0.120) (0.642)\n",
      ">37 0.857 (0.153) (0.642)\n",
      ">38 0.844 (0.123) (0.642)\n",
      ">39 0.796 (0.145) (0.642)\n",
      ">40 0.832 (0.125) (0.643)\n",
      ">41 0.821 (0.156) (0.643)\n",
      ">42 0.819 (0.138) (0.644)\n",
      ">43 0.835 (0.131) (0.646)\n",
      ">44 0.796 (0.145) (0.653)\n",
      ">45 0.844 (0.146) (0.654)\n",
      ">46 0.869 (0.136) (0.655)\n",
      ">47 0.844 (0.123) (0.657)\n",
      ">48 0.833 (0.123) (0.659)\n",
      ">49 0.857 (0.131) (0.659)\n",
      ">50 0.846 (0.154) (0.660)\n",
      ">51 0.822 (0.154) (0.660)\n",
      ">52 0.856 (0.131) (0.664)\n",
      ">53 0.821 (0.148) (0.668)\n",
      ">54 0.844 (0.123) (0.668)\n",
      ">55 0.821 (0.148) (0.669)\n",
      ">56 0.821 (0.148) (0.669)\n",
      ">57 0.833 (0.157) (0.669)\n",
      ">58 0.818 (0.177) (0.669)\n",
      ">59 0.844 (0.123) (0.669)\n",
      ">60 0.869 (0.113) (0.671)\n",
      ">61 0.856 (0.155) (0.672)\n",
      ">62 0.857 (0.153) (0.673)\n",
      ">63 0.835 (0.163) (0.674)\n",
      ">64 0.833 (0.110) (0.674)\n",
      ">65 0.846 (0.142) (0.675)\n",
      ">66 0.808 (0.177) (0.675)\n"
     ]
    },
    {
     "data": {
      "image/png": "[encoded data removed]",
      "text/plain": [
       "<Figure size 1080x1080 with 1 Axes>"
      ]
     },
     "metadata": {
      "filenames": {
       "image/png": "D:\\DCU\\4th_year\\CA4015\\CA4015-AutoML-VS-Ensembles-BioChem\\book\\_build\\jupyter_execute\\random_forest_analysis_12_1.png"
      },
      "needs_background": "light"
     },
     "output_type": "display_data"
    }
   ],
   "source": [
    "# get a list of models to evaluate\n",
    "def get_models():\n",
    "\tmodels = dict()\n",
    "\t# explore number of features from 1 to 7\n",
    "\tfor i in range(1,67):\n",
    "\t\tmodels[str(i)] = RandomForestClassifier(max_features=i)\n",
    "\treturn models\n",
    " \n",
    "# evaluate a given model using cross-validation\n",
    "def evaluate_model(model, X, y):\n",
    "\t# define the evaluation procedure\n",
    "\tcv = KFold(n_splits=10, shuffle=True, random_state=1)\n",
    "\t# evaluate the model and collect the results\n",
    "\tscores = cross_val_score(model, X, y, scoring='accuracy', cv=cv, n_jobs=-1)\n",
    "\treturn scores\n",
    " \n",
    "# define dataset\n",
    "X, y = filled.iloc[:,3:], filled.iloc[:,1]\n",
    "# get the models to evaluate\n",
    "models = get_models()\n",
    "# evaluate the models and store results\n",
    "results, names, times = list(), list(), list()\n",
    "for name, model in models.items():\n",
    "\t# evaluate the model\n",
    "\tstart = time.time()\n",
    "\tscores = evaluate_model(model, X, y)\n",
    "\tend = time.time()\n",
    "\t# store the results\n",
    "\ttimes.append(end-start)\n",
    "\tresults.append(scores)\n",
    "\tnames.append(name)\n",
    "\t# summarize the performance along the way\n",
    "\ts = pd.Series(data=[np.mean(scores), np.std(scores), np.mean(times)],name=name, index=['mean','std', 'time'])\n",
    "\tavg_scores_k_fold = avg_scores_k_fold.append(s)\n",
    "\tprint('>%s %.3f (%.3f) (%.3f)' % (name, np.mean(scores), np.std(scores), np.mean(times)))\n",
    "# plot model performance for comparison\n",
    "plt.figure(figsize=(15,15))\n",
    "plt.boxplot(results, labels=names, showmeans=True)\n",
    "plt.show()"
   ]
  },
  {
   "cell_type": "code",
   "execution_count": 97,
   "id": "b530ab42",
   "metadata": {},
   "outputs": [],
   "source": [
    "avg_avg_k_fold = pd.DataFrame(columns=['mean', 'std', 'time'])\n",
    "\n",
    "for i in range (1,67):\n",
    "    i = str(i)\n",
    "    s = pd.Series(avg_scores_k_fold.T[i].mean(axis=1), name=i, index=['mean','std', 'time'])\n",
    "    avg_avg_k_fold = avg_avg_k_fold.append(s)"
   ]
  },
  {
   "cell_type": "code",
   "execution_count": 98,
   "id": "4048a72e",
   "metadata": {},
   "outputs": [
    {
     "data": {
      "text/html": [
       "<div>\n",
       "<style scoped>\n",
       "    .dataframe tbody tr th:only-of-type {\n",
       "        vertical-align: middle;\n",
       "    }\n",
       "\n",
       "    .dataframe tbody tr th {\n",
       "        vertical-align: top;\n",
       "    }\n",
       "\n",
       "    .dataframe thead th {\n",
       "        text-align: right;\n",
       "    }\n",
       "</style>\n",
       "<table border=\"1\" class=\"dataframe\">\n",
       "  <thead>\n",
       "    <tr style=\"text-align: right;\">\n",
       "      <th></th>\n",
       "      <th>mean</th>\n",
       "      <th>std</th>\n",
       "      <th>time</th>\n",
       "    </tr>\n",
       "  </thead>\n",
       "  <tbody>\n",
       "    <tr>\n",
       "      <th>19</th>\n",
       "      <td>0.856944</td>\n",
       "      <td>0.111215</td>\n",
       "      <td>0.557393</td>\n",
       "    </tr>\n",
       "    <tr>\n",
       "      <th>10</th>\n",
       "      <td>0.853611</td>\n",
       "      <td>0.123225</td>\n",
       "      <td>0.531205</td>\n",
       "    </tr>\n",
       "    <tr>\n",
       "      <th>37</th>\n",
       "      <td>0.851111</td>\n",
       "      <td>0.151870</td>\n",
       "      <td>0.582978</td>\n",
       "    </tr>\n",
       "    <tr>\n",
       "      <th>13</th>\n",
       "      <td>0.849167</td>\n",
       "      <td>0.126024</td>\n",
       "      <td>0.543904</td>\n",
       "    </tr>\n",
       "    <tr>\n",
       "      <th>49</th>\n",
       "      <td>0.847778</td>\n",
       "      <td>0.126742</td>\n",
       "      <td>0.601572</td>\n",
       "    </tr>\n",
       "    <tr>\n",
       "      <th>...</th>\n",
       "      <td>...</td>\n",
       "      <td>...</td>\n",
       "      <td>...</td>\n",
       "    </tr>\n",
       "    <tr>\n",
       "      <th>8</th>\n",
       "      <td>0.810556</td>\n",
       "      <td>0.119952</td>\n",
       "      <td>0.526513</td>\n",
       "    </tr>\n",
       "    <tr>\n",
       "      <th>6</th>\n",
       "      <td>0.806667</td>\n",
       "      <td>0.122519</td>\n",
       "      <td>0.519460</td>\n",
       "    </tr>\n",
       "    <tr>\n",
       "      <th>2</th>\n",
       "      <td>0.799722</td>\n",
       "      <td>0.131964</td>\n",
       "      <td>0.520294</td>\n",
       "    </tr>\n",
       "    <tr>\n",
       "      <th>3</th>\n",
       "      <td>0.775000</td>\n",
       "      <td>0.126389</td>\n",
       "      <td>0.518693</td>\n",
       "    </tr>\n",
       "    <tr>\n",
       "      <th>1</th>\n",
       "      <td>0.755000</td>\n",
       "      <td>0.134366</td>\n",
       "      <td>0.514955</td>\n",
       "    </tr>\n",
       "  </tbody>\n",
       "</table>\n",
       "<p>66 rows × 3 columns</p>\n",
       "</div>"
      ],
      "text/plain": [
       "        mean       std      time\n",
       "19  0.856944  0.111215  0.557393\n",
       "10  0.853611  0.123225  0.531205\n",
       "37  0.851111  0.151870  0.582978\n",
       "13  0.849167  0.126024  0.543904\n",
       "49  0.847778  0.126742  0.601572\n",
       "..       ...       ...       ...\n",
       "8   0.810556  0.119952  0.526513\n",
       "6   0.806667  0.122519  0.519460\n",
       "2   0.799722  0.131964  0.520294\n",
       "3   0.775000  0.126389  0.518693\n",
       "1   0.755000  0.134366  0.514955\n",
       "\n",
       "[66 rows x 3 columns]"
      ]
     },
     "execution_count": 98,
     "metadata": {},
     "output_type": "execute_result"
    }
   ],
   "source": [
    "avg_avg_k_fold.sort_values(by='mean', ascending=0)"
   ]
  },
  {
   "cell_type": "code",
   "execution_count": 99,
   "id": "522ceb81",
   "metadata": {},
   "outputs": [],
   "source": [
    "avg_avg_k_fold.to_csv('data/cleaned/rnd_forest/avg_vary_feat.csv', index=True)"
   ]
  },
  {
   "cell_type": "code",
   "execution_count": 100,
   "id": "ffe838bd",
   "metadata": {},
   "outputs": [
    {
     "data": {
      "image/png": "[encoded data removed]",
      "text/plain": [
       "<Figure size 1080x504 with 1 Axes>"
      ]
     },
     "metadata": {
      "filenames": {
       "image/png": "D:\\DCU\\4th_year\\CA4015\\CA4015-AutoML-VS-Ensembles-BioChem\\book\\_build\\jupyter_execute\\random_forest_analysis_16_0.png"
      },
      "needs_background": "light"
     },
     "output_type": "display_data"
    }
   ],
   "source": [
    "plt.figure(figsize=(15,7))\n",
    "line1 = plt.plot(avg_avg_k_fold.index, avg_avg_k_fold['mean'], label='Mean', c='darkcyan')\n",
    "line2 = plt.plot(avg_avg_k_fold.index, avg_avg_k_fold['std'], c='red', label='Std')\n",
    "plt.title('Accuracy of Random Subspace')\n",
    "plt.xlabel('Number of Features')\n",
    "plt.ylabel('Accuracy')\n",
    "plt.legend()\n",
    "plt.yticks(ticks=np.arange(0,1.1,0.1))\n",
    "plt.xticks(ticks=np.arange(0,66,5))\n",
    "plt.savefig('images/rnd_forest/vary_features.png')\n",
    "plt.show()"
   ]
  },
  {
   "cell_type": "markdown",
   "id": "70c877a4",
   "metadata": {},
   "source": [
    "## Different number of trees"
   ]
  },
  {
   "cell_type": "code",
   "execution_count": 89,
   "id": "bd058734",
   "metadata": {},
   "outputs": [],
   "source": [
    "diff_trees = pd.DataFrame(columns=[\"mean\",\"std\", \"time\"])"
   ]
  },
  {
   "cell_type": "code",
   "execution_count": 94,
   "id": "0cc804af",
   "metadata": {},
   "outputs": [
    {
     "name": "stdout",
     "output_type": "stream",
     "text": [
      ">10 0.733 (0.106) (0.297)\n",
      ">50 0.803 (0.153) (0.605)\n",
      ">100 0.812 (0.123) (0.943)\n",
      ">150 0.779 (0.139) (1.301)\n",
      ">200 0.800 (0.109) (1.900)\n",
      ">250 0.783 (0.129) (2.381)\n",
      ">300 0.816 (0.103) (2.782)\n",
      ">350 0.803 (0.101) (3.185)\n",
      ">400 0.807 (0.098) (3.578)\n",
      ">450 0.807 (0.093) (3.985)\n",
      ">500 0.799 (0.106) (4.486)\n"
     ]
    },
    {
     "data": {
      "image/png": "[encoded data removed]",
      "text/plain": [
       "<Figure size 432x288 with 1 Axes>"
      ]
     },
     "metadata": {
      "filenames": {
       "image/png": "D:\\DCU\\4th_year\\CA4015\\CA4015-AutoML-VS-Ensembles-BioChem\\book\\_build\\jupyter_execute\\random_forest_analysis_19_1.png"
      },
      "needs_background": "light"
     },
     "output_type": "display_data"
    }
   ],
   "source": [
    "# get a list of models to evaluate\n",
    "def get_models():\n",
    "\tmodels = dict()\n",
    "\t# define number of trees to consider\n",
    "\tn_trees = [10, 50, 100, 150, 200, 250, 300, 350, 400, 450, 500]\n",
    "\tfor n in n_trees:\n",
    "\t\tmodels[str(n)] = RandomForestClassifier(n_estimators=n)\n",
    "\treturn models\n",
    " \n",
    "# evaluate a given model using cross-validation\n",
    "def evaluate_model(model, X, y):\n",
    "\t# define the evaluation procedure\n",
    "\tcv = RepeatedStratifiedKFold(n_splits=10, n_repeats=3, random_state=1)\n",
    "\t# evaluate the model and collect the results\n",
    "\tscores = cross_val_score(model, X, y, scoring='accuracy', cv=cv, n_jobs=-1)\n",
    "\treturn scores\n",
    " \n",
    "# define dataset\n",
    "X, y = filled.iloc[:,3:], filled.iloc[:,1]\n",
    "# get the models to evaluate\n",
    "models = get_models()\n",
    "# evaluate the models and store results\n",
    "results, names, times = list(), list(), list()\n",
    "for name, model in models.items():\n",
    "\t# evaluate the model\n",
    "\tstart = time.time()\n",
    "\tscores = evaluate_model(model, X, y)\n",
    "\tend = time.time()\n",
    "\t# store the results\n",
    "\ttimes.append(end-start)\n",
    "\tresults.append(scores)\n",
    "\tnames.append(name)\n",
    "\t# summarize the performance along the way\n",
    "\ts = pd.Series(data=[np.mean(scores), np.std(scores), np.mean(times)],name=name, index=['mean','std', 'time'])\n",
    "\tdiff_trees = diff_trees.append(s)\n",
    "\tprint('>%s %.3f (%.3f) (%.3f)' % (name, np.mean(scores), np.std(scores), np.mean(times)))\n",
    "# plot model performance for comparison\n",
    "plt.boxplot(results, labels=names, showmeans=True)\n",
    "plt.show()"
   ]
  },
  {
   "cell_type": "code",
   "execution_count": 95,
   "id": "bea8e8c1",
   "metadata": {},
   "outputs": [],
   "source": [
    "avg_diff_trees = pd.DataFrame(columns=['mean', 'std', 'time'])\n",
    "for i in [10, 50, 100, 150, 200, 250, 350, 400, 450, 500]:\n",
    "    i = str(i)\n",
    "    s = pd.Series(diff_trees.T[i].mean(axis=1), name=i, index=['mean','std', 'time'])\n",
    "    avg_diff_trees = avg_diff_trees.append(s)"
   ]
  },
  {
   "cell_type": "code",
   "execution_count": 101,
   "id": "d2d2640c",
   "metadata": {},
   "outputs": [
    {
     "data": {
      "text/html": [
       "<div>\n",
       "<style scoped>\n",
       "    .dataframe tbody tr th:only-of-type {\n",
       "        vertical-align: middle;\n",
       "    }\n",
       "\n",
       "    .dataframe tbody tr th {\n",
       "        vertical-align: top;\n",
       "    }\n",
       "\n",
       "    .dataframe thead th {\n",
       "        text-align: right;\n",
       "    }\n",
       "</style>\n",
       "<table border=\"1\" class=\"dataframe\">\n",
       "  <thead>\n",
       "    <tr style=\"text-align: right;\">\n",
       "      <th></th>\n",
       "      <th>mean</th>\n",
       "      <th>std</th>\n",
       "      <th>time</th>\n",
       "    </tr>\n",
       "  </thead>\n",
       "  <tbody>\n",
       "    <tr>\n",
       "      <th>100</th>\n",
       "      <td>0.801736</td>\n",
       "      <td>0.113711</td>\n",
       "      <td>0.867241</td>\n",
       "    </tr>\n",
       "    <tr>\n",
       "      <th>500</th>\n",
       "      <td>0.801157</td>\n",
       "      <td>0.115194</td>\n",
       "      <td>4.049688</td>\n",
       "    </tr>\n",
       "    <tr>\n",
       "      <th>200</th>\n",
       "      <td>0.799884</td>\n",
       "      <td>0.109776</td>\n",
       "      <td>1.627611</td>\n",
       "    </tr>\n",
       "    <tr>\n",
       "      <th>400</th>\n",
       "      <td>0.799421</td>\n",
       "      <td>0.108344</td>\n",
       "      <td>3.202117</td>\n",
       "    </tr>\n",
       "    <tr>\n",
       "      <th>350</th>\n",
       "      <td>0.795833</td>\n",
       "      <td>0.111526</td>\n",
       "      <td>2.800139</td>\n",
       "    </tr>\n",
       "    <tr>\n",
       "      <th>250</th>\n",
       "      <td>0.793981</td>\n",
       "      <td>0.116592</td>\n",
       "      <td>2.033919</td>\n",
       "    </tr>\n",
       "    <tr>\n",
       "      <th>450</th>\n",
       "      <td>0.793287</td>\n",
       "      <td>0.105808</td>\n",
       "      <td>3.615834</td>\n",
       "    </tr>\n",
       "    <tr>\n",
       "      <th>150</th>\n",
       "      <td>0.787616</td>\n",
       "      <td>0.125789</td>\n",
       "      <td>1.199168</td>\n",
       "    </tr>\n",
       "    <tr>\n",
       "      <th>50</th>\n",
       "      <td>0.786690</td>\n",
       "      <td>0.131385</td>\n",
       "      <td>0.521825</td>\n",
       "    </tr>\n",
       "    <tr>\n",
       "      <th>10</th>\n",
       "      <td>0.743287</td>\n",
       "      <td>0.129498</td>\n",
       "      <td>0.249506</td>\n",
       "    </tr>\n",
       "  </tbody>\n",
       "</table>\n",
       "</div>"
      ],
      "text/plain": [
       "         mean       std      time\n",
       "100  0.801736  0.113711  0.867241\n",
       "500  0.801157  0.115194  4.049688\n",
       "200  0.799884  0.109776  1.627611\n",
       "400  0.799421  0.108344  3.202117\n",
       "350  0.795833  0.111526  2.800139\n",
       "250  0.793981  0.116592  2.033919\n",
       "450  0.793287  0.105808  3.615834\n",
       "150  0.787616  0.125789  1.199168\n",
       "50   0.786690  0.131385  0.521825\n",
       "10   0.743287  0.129498  0.249506"
      ]
     },
     "execution_count": 101,
     "metadata": {},
     "output_type": "execute_result"
    }
   ],
   "source": [
    "avg_diff_trees.sort_values(by='mean', ascending=0).head(10)"
   ]
  },
  {
   "cell_type": "code",
   "execution_count": 103,
   "id": "0a0fb021",
   "metadata": {},
   "outputs": [],
   "source": [
    "avg_diff_trees.to_csv('data/cleaned/rnd_forest/avg_vary_trees.csv', index=True)"
   ]
  },
  {
   "cell_type": "code",
   "execution_count": 102,
   "id": "3e43bbd9",
   "metadata": {},
   "outputs": [
    {
     "data": {
      "image/png": "[encoded data removed]",
      "text/plain": [
       "<Figure size 432x288 with 1 Axes>"
      ]
     },
     "metadata": {
      "filenames": {
       "image/png": "D:\\DCU\\4th_year\\CA4015\\CA4015-AutoML-VS-Ensembles-BioChem\\book\\_build\\jupyter_execute\\random_forest_analysis_23_0.png"
      },
      "needs_background": "light"
     },
     "output_type": "display_data"
    }
   ],
   "source": [
    "line1 = plt.plot(avg_diff_trees.index, avg_diff_trees['mean'], label='Mean', c='darkcyan')\n",
    "line2 = plt.plot(avg_diff_trees.index, avg_diff_trees['std'], c='red', label='Std')\n",
    "plt.title('Accuracy of Varying Amount of Trees')\n",
    "plt.xlabel('Number of Trees')\n",
    "plt.ylabel('Accuracy')\n",
    "plt.legend()\n",
    "plt.yticks(ticks=np.arange(0,1.1,0.1))\n",
    "\n",
    "plt.savefig('images/rnd_forest/vary_trees.png')\n",
    "plt.show()"
   ]
  },
  {
   "cell_type": "markdown",
   "id": "7b82e04b",
   "metadata": {},
   "source": [
    "## Best Model\n",
    "So from the above experimentation we can deduce that the best model has:\n",
    "1. bootstrap sample size = 100% (all)\n",
    "2. number of features = 25, or 50, ??\n",
    "3. number of trees = 100\n",
    "\n",
    "For this particular model, the best performance is recorded when the boostrap sample size is 100% of the size of the training data. Similarly to the Extra Trees model, there is ambiguity surrounding the correct amount of features to use. Selecting from 1 up to 13 features produce the lower results for the mean (by a marginal amount). The number of trees to be used remains at the default of 100. The inrease in accuracy beyond 100 trees can be attributed to statistical noise. Accuracy plateaus beyond 100 trees."
   ]
  },
  {
   "cell_type": "code",
   "execution_count": 116,
   "id": "cec4d56c",
   "metadata": {},
   "outputs": [],
   "source": [
    "final_results = pd.DataFrame(columns=['mean accuracy', 'mean std'])"
   ]
  },
  {
   "cell_type": "code",
   "execution_count": 117,
   "id": "d13cd109",
   "metadata": {},
   "outputs": [
    {
     "name": "stdout",
     "output_type": "stream",
     "text": [
      ">0 0.794 (0.117)\n",
      ">1 0.803 (0.111)\n",
      ">2 0.807 (0.095)\n",
      ">3 0.811 (0.089)\n",
      ">4 0.824 (0.096)\n",
      ">5 0.811 (0.095)\n",
      ">6 0.806 (0.110)\n",
      ">7 0.799 (0.109)\n",
      ">8 0.816 (0.108)\n",
      ">9 0.807 (0.103)\n",
      ">10 0.812 (0.091)\n",
      ">11 0.795 (0.102)\n",
      ">12 0.804 (0.118)\n",
      ">13 0.803 (0.120)\n",
      ">14 0.800 (0.107)\n",
      ">15 0.815 (0.095)\n",
      ">16 0.799 (0.117)\n",
      ">17 0.800 (0.100)\n",
      ">18 0.792 (0.108)\n",
      ">19 0.792 (0.109)\n",
      ">20 0.800 (0.102)\n",
      ">21 0.799 (0.107)\n",
      ">22 0.811 (0.106)\n",
      ">23 0.799 (0.112)\n",
      ">24 0.807 (0.109)\n",
      ">25 0.782 (0.114)\n",
      ">26 0.811 (0.121)\n",
      ">27 0.819 (0.095)\n",
      ">28 0.812 (0.091)\n",
      ">29 0.815 (0.099)\n",
      ">30 0.804 (0.106)\n",
      ">31 0.795 (0.106)\n",
      ">32 0.803 (0.098)\n",
      ">33 0.800 (0.111)\n",
      ">34 0.800 (0.105)\n",
      ">35 0.803 (0.100)\n",
      ">36 0.795 (0.116)\n",
      ">37 0.807 (0.109)\n",
      ">38 0.794 (0.109)\n",
      ">39 0.790 (0.111)\n",
      ">40 0.802 (0.104)\n",
      ">41 0.806 (0.110)\n",
      ">42 0.804 (0.096)\n",
      ">43 0.831 (0.110)\n",
      ">44 0.795 (0.107)\n",
      ">45 0.808 (0.097)\n",
      ">46 0.822 (0.101)\n",
      ">47 0.799 (0.097)\n",
      ">48 0.779 (0.120)\n",
      ">49 0.787 (0.115)\n"
     ]
    }
   ],
   "source": [
    "final_model = RandomForestClassifier(n_estimators=100, max_features=8, max_samples=1.0)\n",
    "\n",
    "# define dataset\n",
    "X, y = filled.iloc[:,3:], filled.iloc[:,1]\n",
    "\n",
    "results, names = list(), list()\n",
    "for i in range(50):\n",
    "    scores = evaluate_model(model, X, y)\n",
    "    results.append(scores)\n",
    "    names.append(name)\n",
    "    s = pd.Series(data=[np.mean(scores), np.std(scores)],name=name, index=['mean accuracy','mean std'])\n",
    "    final_results = final_results.append(s)\n",
    "    print('>%s %.3f (%.3f)' % (i, np.mean(scores), np.std(scores)))"
   ]
  },
  {
   "cell_type": "code",
   "execution_count": 118,
   "id": "7d48b200",
   "metadata": {},
   "outputs": [
    {
     "data": {
      "text/plain": [
       "mean accuracy    0.803370\n",
       "mean std         0.105613\n",
       "dtype: float64"
      ]
     },
     "execution_count": 118,
     "metadata": {},
     "output_type": "execute_result"
    }
   ],
   "source": [
    "final_results.mean()"
   ]
  },
  {
   "cell_type": "code",
   "execution_count": 115,
   "id": "5e0babd8",
   "metadata": {},
   "outputs": [
    {
     "data": {
      "text/html": [
       "<div>\n",
       "<style scoped>\n",
       "    .dataframe tbody tr th:only-of-type {\n",
       "        vertical-align: middle;\n",
       "    }\n",
       "\n",
       "    .dataframe tbody tr th {\n",
       "        vertical-align: top;\n",
       "    }\n",
       "\n",
       "    .dataframe thead th {\n",
       "        text-align: right;\n",
       "    }\n",
       "</style>\n",
       "<table border=\"1\" class=\"dataframe\">\n",
       "  <thead>\n",
       "    <tr style=\"text-align: right;\">\n",
       "      <th></th>\n",
       "      <th>mean accuracy</th>\n",
       "      <th>mean std</th>\n",
       "      <th>mean</th>\n",
       "      <th>std</th>\n",
       "    </tr>\n",
       "  </thead>\n",
       "  <tbody>\n",
       "    <tr>\n",
       "      <th>500</th>\n",
       "      <td>NaN</td>\n",
       "      <td>NaN</td>\n",
       "      <td>0.806481</td>\n",
       "      <td>0.118717</td>\n",
       "    </tr>\n",
       "  </tbody>\n",
       "</table>\n",
       "</div>"
      ],
      "text/plain": [
       "    mean accuracy mean std      mean       std\n",
       "500           NaN      NaN  0.806481  0.118717"
      ]
     },
     "execution_count": 115,
     "metadata": {},
     "output_type": "execute_result"
    }
   ],
   "source": [
    "final_results"
   ]
  },
  {
   "cell_type": "code",
   "execution_count": null,
   "id": "adb858b4",
   "metadata": {},
   "outputs": [],
   "source": []
  }
 ],
 "metadata": {
  "kernelspec": {
   "display_name": "Python 3",
   "language": "python",
   "name": "python3"
  },
  "language_info": {
   "codemirror_mode": {
    "name": "ipython",
    "version": 3
   },
   "file_extension": ".py",
   "mimetype": "text/x-python",
   "name": "python",
   "nbconvert_exporter": "python",
   "pygments_lexer": "ipython3",
   "version": "3.8.10"
  }
 },
 "nbformat": 4,
 "nbformat_minor": 5
}