{
 "cells": [
  {
   "cell_type": "markdown",
   "id": "ac2af4f9",
   "metadata": {},
   "source": [
    "# Random Forest\n",
    "In the following notebook, we will be using the Random Forest algorithm to build a model for the VOC CGMS readings."
   ]
  },
  {
   "cell_type": "code",
   "execution_count": 1,
   "id": "d8d81e67",
   "metadata": {},
   "outputs": [],
   "source": [
    "import time\n",
    "import pandas as pd\n",
    "import numpy as np\n",
    "from sklearn.datasets import make_classification\n",
    "from sklearn.model_selection import cross_val_score\n",
    "from sklearn.model_selection import RepeatedStratifiedKFold\n",
    "from sklearn.model_selection import KFold\n",
    "from sklearn.ensemble import RandomForestClassifier\n",
    "import matplotlib.pyplot as plt"
   ]
  },
  {
   "cell_type": "code",
   "execution_count": 2,
   "id": "b7507adb",
   "metadata": {},
   "outputs": [],
   "source": [
    "#get data\n",
    "raw = pd.read_csv('../data/cleaned/long.csv')\n",
    "filled = raw.fillna(0)"
   ]
  },
  {
   "cell_type": "markdown",
   "id": "eefec571",
   "metadata": {},
   "source": [
    "## Evaluating the Model with different bootstrapping sample sizes"
   ]
  },
  {
   "cell_type": "code",
   "execution_count": 3,
   "id": "48a9a007",
   "metadata": {},
   "outputs": [],
   "source": [
    "sample_size = pd.DataFrame(columns=[\"mean\",\"std\"])"
   ]
  },
  {
   "cell_type": "code",
   "execution_count": 4,
   "id": "720c3cfb",
   "metadata": {},
   "outputs": [
    {
     "name": "stdout",
     "output_type": "stream",
     "text": [
      ">0.1 0.606 (0.109) (1.291)\n"
     ]
    },
    {
     "name": "stdout",
     "output_type": "stream",
     "text": [
      ">0.2 0.724 (0.134) (1.032)\n"
     ]
    },
    {
     "name": "stdout",
     "output_type": "stream",
     "text": [
      ">0.3 0.794 (0.137) (0.904)\n",
      ">0.4 0.689 (0.172) (0.712)\n"
     ]
    },
    {
     "name": "stdout",
     "output_type": "stream",
     "text": [
      ">0.5 0.786 (0.144) (0.592)\n",
      ">0.6 0.797 (0.152) (0.513)\n"
     ]
    },
    {
     "name": "stdout",
     "output_type": "stream",
     "text": [
      ">0.7 0.785 (0.127) (0.460)\n",
      ">0.8 0.822 (0.079) (0.417)\n"
     ]
    },
    {
     "name": "stdout",
     "output_type": "stream",
     "text": [
      ">0.9 0.807 (0.136) (0.384)\n",
      ">1.0 0.831 (0.127) (0.357)\n"
     ]
    },
    {
     "data": {
      "image/png": "[encoded data removed]",
      "text/plain": [
       "<Figure size 432x288 with 1 Axes>"
      ]
     },
     "metadata": {
      "filenames": {
       "image/png": "D:\\DCU\\4th_year\\CA4015\\CA4015-AutoML-VS-Ensembles-BioChem\\book\\_build\\jupyter_execute\\random_forest_analysis_5_6.png"
      },
      "needs_background": "light"
     },
     "output_type": "display_data"
    }
   ],
   "source": [
    "# get a list of models to evaluate\n",
    "def get_models():\n",
    "\tmodels = dict()\n",
    "\t# explore ratios from 10% to 100% in 10% increments\n",
    "\tfor i in np.arange(0.1, 1.1, 0.1):\n",
    "\t\tkey = '%.1f' % i\n",
    "\t\t# set max_samples=None to use 100%\n",
    "\t\tif i == 1.0:\n",
    "\t\t\ti = None\n",
    "\t\tmodels[key] = RandomForestClassifier(max_samples=i, max_features='sqrt')\n",
    "\treturn models\n",
    " \n",
    "# evaluate a given model using cross-validation\n",
    "\n",
    "def evaluate_model(model, X, y):\n",
    "\t# define the evaluation procedure\n",
    "\tcv = KFold(n_splits=10, shuffle=True, random_state=1)\n",
    "\t# evaluate the model and collect the results\n",
    "\tscores = cross_val_score(model, X, y, scoring='accuracy', cv=cv, n_jobs=-1)\n",
    "\treturn scores\n",
    " \n",
    "# define dataset\n",
    "X, y = filled.iloc[:,3:], filled.iloc[:,1]\n",
    "# get the models to evaluate\n",
    "models = get_models()\n",
    "# evaluate the models and store results\n",
    "results, names, times = list(), list(), list()\n",
    "for name, model in models.items():\n",
    "\t# evaluate the model\n",
    "\tstart = time.time()\n",
    "\tscores = evaluate_model(model, X, y)\n",
    "\tend = time.time()\n",
    "\t# store the results\n",
    "\ttimes.append(end-start)\n",
    "\tresults.append(scores)\n",
    "\tnames.append(name)\n",
    "\t# summarize the performance along the way\n",
    "\ts = pd.Series(data=[np.mean(scores), np.std(scores), np.mean(times)],name=name, index=['mean','std', 'time'])\n",
    "\tsample_size = sample_size.append(s)\n",
    "\tprint('>%s %.3f (%.3f) (%.3f)' % (name, np.mean(scores), np.std(scores), np.mean(times)))\n",
    "# plot model performance for comparison\n",
    "plt.boxplot(results, labels=names, showmeans=True)\n",
    "plt.show()"
   ]
  },
  {
   "cell_type": "code",
   "execution_count": 5,
   "id": "59b375bb",
   "metadata": {},
   "outputs": [],
   "source": [
    "#find average of all stored results\n",
    "avg_sample_size = pd.DataFrame(columns=['mean', 'std', 'time'])\n",
    "for i in np.arange(0.1, 1.1, 0.1):\n",
    "    i = str(i)\n",
    "    i = i[0: 3]\n",
    "    s = pd.Series(sample_size.T[i][0], name=i, index=['mean','std','time'])\n",
    "    avg_sample_size = avg_sample_size.append(s)"
   ]
  },
  {
   "cell_type": "code",
   "execution_count": 6,
   "id": "d9e1fd3c",
   "metadata": {},
   "outputs": [
    {
     "data": {
      "text/html": [
       "<div>\n",
       "<style scoped>\n",
       "    .dataframe tbody tr th:only-of-type {\n",
       "        vertical-align: middle;\n",
       "    }\n",
       "\n",
       "    .dataframe tbody tr th {\n",
       "        vertical-align: top;\n",
       "    }\n",
       "\n",
       "    .dataframe thead th {\n",
       "        text-align: right;\n",
       "    }\n",
       "</style>\n",
       "<table border=\"1\" class=\"dataframe\">\n",
       "  <thead>\n",
       "    <tr style=\"text-align: right;\">\n",
       "      <th></th>\n",
       "      <th>mean</th>\n",
       "      <th>std</th>\n",
       "      <th>time</th>\n",
       "    </tr>\n",
       "  </thead>\n",
       "  <tbody>\n",
       "    <tr>\n",
       "      <th>1.0</th>\n",
       "      <td>0.830556</td>\n",
       "      <td>0.830556</td>\n",
       "      <td>0.830556</td>\n",
       "    </tr>\n",
       "    <tr>\n",
       "      <th>0.8</th>\n",
       "      <td>0.822222</td>\n",
       "      <td>0.822222</td>\n",
       "      <td>0.822222</td>\n",
       "    </tr>\n",
       "    <tr>\n",
       "      <th>0.9</th>\n",
       "      <td>0.806944</td>\n",
       "      <td>0.806944</td>\n",
       "      <td>0.806944</td>\n",
       "    </tr>\n",
       "    <tr>\n",
       "      <th>0.6</th>\n",
       "      <td>0.797222</td>\n",
       "      <td>0.797222</td>\n",
       "      <td>0.797222</td>\n",
       "    </tr>\n",
       "    <tr>\n",
       "      <th>0.3</th>\n",
       "      <td>0.794444</td>\n",
       "      <td>0.794444</td>\n",
       "      <td>0.794444</td>\n",
       "    </tr>\n",
       "    <tr>\n",
       "      <th>0.5</th>\n",
       "      <td>0.786111</td>\n",
       "      <td>0.786111</td>\n",
       "      <td>0.786111</td>\n",
       "    </tr>\n",
       "    <tr>\n",
       "      <th>0.7</th>\n",
       "      <td>0.784722</td>\n",
       "      <td>0.784722</td>\n",
       "      <td>0.784722</td>\n",
       "    </tr>\n",
       "  </tbody>\n",
       "</table>\n",
       "</div>"
      ],
      "text/plain": [
       "         mean       std      time\n",
       "1.0  0.830556  0.830556  0.830556\n",
       "0.8  0.822222  0.822222  0.822222\n",
       "0.9  0.806944  0.806944  0.806944\n",
       "0.6  0.797222  0.797222  0.797222\n",
       "0.3  0.794444  0.794444  0.794444\n",
       "0.5  0.786111  0.786111  0.786111\n",
       "0.7  0.784722  0.784722  0.784722"
      ]
     },
     "execution_count": 6,
     "metadata": {},
     "output_type": "execute_result"
    }
   ],
   "source": [
    "avg_sample_size.sort_values(by='mean', ascending=0).head(7)"
   ]
  },
  {
   "cell_type": "code",
   "execution_count": 7,
   "id": "3dfb2da5",
   "metadata": {},
   "outputs": [],
   "source": [
    "avg_sample_size.to_csv('../data/cleaned/rnd_forest/avg_sample_size.csv', index=True)"
   ]
  },
  {
   "cell_type": "code",
   "execution_count": 8,
   "id": "b2739cd0",
   "metadata": {},
   "outputs": [
    {
     "data": {
      "image/png": "[encoded data removed]",
      "text/plain": [
       "<Figure size 432x288 with 1 Axes>"
      ]
     },
     "metadata": {
      "filenames": {
       "image/png": "D:\\DCU\\4th_year\\CA4015\\CA4015-AutoML-VS-Ensembles-BioChem\\book\\_build\\jupyter_execute\\random_forest_analysis_9_0.png"
      },
      "needs_background": "light"
     },
     "output_type": "display_data"
    }
   ],
   "source": [
    "line1 = plt.plot(avg_sample_size.index, avg_sample_size['mean'], label='Mean', c='darkcyan')\n",
    "line2 = plt.plot(avg_sample_size.index, avg_sample_size['std'], c='red', label='Std')\n",
    "plt.title('Accuracy of Varying Sample Size')\n",
    "plt.xlabel('Sample Size (%)')\n",
    "plt.ylabel('Accuracy')\n",
    "plt.legend()\n",
    "plt.yticks(ticks=np.arange(0,1.1,0.1))\n",
    "\n",
    "plt.savefig('../images/rnd_forest/vary_sample_size.png')\n",
    "plt.show()"
   ]
  },
  {
   "cell_type": "markdown",
   "id": "1b72ed34",
   "metadata": {},
   "source": [
    "## Evaluating the Model with different Feature selection sizes (random subspace method)"
   ]
  },
  {
   "cell_type": "code",
   "execution_count": 9,
   "id": "848fa2cd",
   "metadata": {},
   "outputs": [],
   "source": [
    "avg_scores_k_fold = pd.DataFrame(columns=[\"mean\",\"std\",\"time\"])"
   ]
  },
  {
   "cell_type": "code",
   "execution_count": 10,
   "id": "433f7cc6",
   "metadata": {
    "scrolled": true
   },
   "outputs": [
    {
     "name": "stdout",
     "output_type": "stream",
     "text": [
      ">1 0.772 (0.169) (0.193)\n",
      ">2 0.761 (0.138) (0.156)\n"
     ]
    },
    {
     "name": "stdout",
     "output_type": "stream",
     "text": [
      ">3 0.774 (0.175) (0.141)\n",
      ">4 0.831 (0.127) (0.133)\n"
     ]
    },
    {
     "name": "stdout",
     "output_type": "stream",
     "text": [
      ">5 0.787 (0.127) (0.130)\n",
      ">6 0.771 (0.115) (0.128)\n"
     ]
    },
    {
     "name": "stdout",
     "output_type": "stream",
     "text": [
      ">7 0.783 (0.121) (0.126)\n",
      ">8 0.846 (0.103) (0.125)\n"
     ]
    },
    {
     "name": "stdout",
     "output_type": "stream",
     "text": [
      ">9 0.832 (0.132) (0.124)\n",
      ">10 0.829 (0.165) (0.124)\n"
     ]
    },
    {
     "name": "stdout",
     "output_type": "stream",
     "text": [
      ">11 0.807 (0.129) (0.123)\n",
      ">12 0.867 (0.101) (0.122)\n"
     ]
    },
    {
     "name": "stdout",
     "output_type": "stream",
     "text": [
      ">13 0.835 (0.118) (0.125)\n",
      ">14 0.868 (0.116) (0.124)\n"
     ]
    },
    {
     "name": "stdout",
     "output_type": "stream",
     "text": [
      ">15 0.831 (0.125) (0.123)\n",
      ">16 0.835 (0.140) (0.123)\n"
     ]
    },
    {
     "name": "stdout",
     "output_type": "stream",
     "text": [
      ">17 0.786 (0.173) (0.123)\n",
      ">18 0.819 (0.134) (0.122)\n"
     ]
    },
    {
     "name": "stdout",
     "output_type": "stream",
     "text": [
      ">19 0.832 (0.112) (0.122)\n",
      ">20 0.808 (0.146) (0.123)\n"
     ]
    },
    {
     "name": "stdout",
     "output_type": "stream",
     "text": [
      ">21 0.808 (0.156) (0.123)\n",
      ">22 0.867 (0.129) (0.122)\n"
     ]
    },
    {
     "name": "stdout",
     "output_type": "stream",
     "text": [
      ">23 0.832 (0.112) (0.122)\n",
      ">24 0.871 (0.107) (0.122)\n"
     ]
    },
    {
     "name": "stdout",
     "output_type": "stream",
     "text": [
      ">25 0.833 (0.155) (0.123)\n",
      ">26 0.821 (0.122) (0.123)\n"
     ]
    },
    {
     "name": "stdout",
     "output_type": "stream",
     "text": [
      ">27 0.832 (0.148) (0.123)\n",
      ">28 0.810 (0.152) (0.123)\n"
     ]
    },
    {
     "name": "stdout",
     "output_type": "stream",
     "text": [
      ">29 0.835 (0.104) (0.123)\n",
      ">30 0.797 (0.152) (0.123)\n"
     ]
    },
    {
     "name": "stdout",
     "output_type": "stream",
     "text": [
      ">31 0.857 (0.119) (0.123)\n",
      ">32 0.832 (0.148) (0.124)\n"
     ]
    },
    {
     "name": "stdout",
     "output_type": "stream",
     "text": [
      ">33 0.833 (0.155) (0.124)\n",
      ">34 0.833 (0.133) (0.124)\n"
     ]
    },
    {
     "name": "stdout",
     "output_type": "stream",
     "text": [
      ">35 0.847 (0.148) (0.124)\n",
      ">36 0.811 (0.128) (0.124)\n"
     ]
    },
    {
     "name": "stdout",
     "output_type": "stream",
     "text": [
      ">37 0.844 (0.123) (0.124)\n",
      ">38 0.822 (0.132) (0.124)\n"
     ]
    },
    {
     "name": "stdout",
     "output_type": "stream",
     "text": [
      ">39 0.822 (0.162) (0.124)\n",
      ">40 0.857 (0.119) (0.125)\n"
     ]
    },
    {
     "name": "stdout",
     "output_type": "stream",
     "text": [
      ">41 0.843 (0.148) (0.125)\n",
      ">42 0.833 (0.133) (0.125)\n"
     ]
    },
    {
     "name": "stdout",
     "output_type": "stream",
     "text": [
      ">43 0.844 (0.156) (0.125)\n",
      ">44 0.843 (0.156) (0.125)\n"
     ]
    },
    {
     "name": "stdout",
     "output_type": "stream",
     "text": [
      ">45 0.832 (0.148) (0.125)\n",
      ">46 0.857 (0.169) (0.125)\n"
     ]
    },
    {
     "name": "stdout",
     "output_type": "stream",
     "text": [
      ">47 0.808 (0.137) (0.125)\n",
      ">48 0.844 (0.156) (0.126)\n"
     ]
    },
    {
     "name": "stdout",
     "output_type": "stream",
     "text": [
      ">49 0.797 (0.143) (0.125)\n",
      ">50 0.832 (0.125) (0.126)\n"
     ]
    },
    {
     "name": "stdout",
     "output_type": "stream",
     "text": [
      ">51 0.846 (0.120) (0.126)\n",
      ">52 0.846 (0.107) (0.126)\n"
     ]
    },
    {
     "name": "stdout",
     "output_type": "stream",
     "text": [
      ">53 0.810 (0.191) (0.126)\n",
      ">54 0.833 (0.133) (0.126)\n"
     ]
    },
    {
     "name": "stdout",
     "output_type": "stream",
     "text": [
      ">55 0.844 (0.123) (0.127)\n",
      ">56 0.833 (0.157) (0.127)\n"
     ]
    },
    {
     "name": "stdout",
     "output_type": "stream",
     "text": [
      ">57 0.810 (0.154) (0.127)\n",
      ">58 0.869 (0.098) (0.127)\n"
     ]
    },
    {
     "name": "stdout",
     "output_type": "stream",
     "text": [
      ">59 0.833 (0.094) (0.128)\n",
      ">60 0.871 (0.121) (0.128)\n"
     ]
    },
    {
     "name": "stdout",
     "output_type": "stream",
     "text": [
      ">61 0.833 (0.094) (0.128)\n",
      ">62 0.833 (0.123) (0.128)\n"
     ]
    },
    {
     "name": "stdout",
     "output_type": "stream",
     "text": [
      ">63 0.824 (0.150) (0.128)\n",
      ">64 0.799 (0.160) (0.128)\n"
     ]
    },
    {
     "name": "stdout",
     "output_type": "stream",
     "text": [
      ">65 0.832 (0.148) (0.128)\n",
      ">66 0.857 (0.119) (0.128)\n"
     ]
    },
    {
     "data": {
      "image/png": "[encoded data removed]",
      "text/plain": [
       "<Figure size 1080x1080 with 1 Axes>"
      ]
     },
     "metadata": {
      "filenames": {
       "image/png": "D:\\DCU\\4th_year\\CA4015\\CA4015-AutoML-VS-Ensembles-BioChem\\book\\_build\\jupyter_execute\\random_forest_analysis_12_33.png"
      },
      "needs_background": "light"
     },
     "output_type": "display_data"
    }
   ],
   "source": [
    "# get a list of models to evaluate\n",
    "def get_models():\n",
    "\tmodels = dict()\n",
    "\t# explore number of features from 1 to 7\n",
    "\tfor i in range(1,67):\n",
    "\t\tmodels[str(i)] = RandomForestClassifier(max_features=i)\n",
    "\treturn models\n",
    " \n",
    "# evaluate a given model using cross-validation\n",
    "def evaluate_model(model, X, y):\n",
    "\t# define the evaluation procedure\n",
    "\tcv = KFold(n_splits=10, shuffle=True, random_state=1)\n",
    "\t# evaluate the model and collect the results\n",
    "\tscores = cross_val_score(model, X, y, scoring='accuracy', cv=cv, n_jobs=-1)\n",
    "\treturn scores\n",
    " \n",
    "# define dataset\n",
    "X, y = filled.iloc[:,3:], filled.iloc[:,1]\n",
    "# get the models to evaluate\n",
    "models = get_models()\n",
    "# evaluate the models and store results\n",
    "results, names, times = list(), list(), list()\n",
    "for name, model in models.items():\n",
    "\t# evaluate the model\n",
    "\tstart = time.time()\n",
    "\tscores = evaluate_model(model, X, y)\n",
    "\tend = time.time()\n",
    "\t# store the results\n",
    "\ttimes.append(end-start)\n",
    "\tresults.append(scores)\n",
    "\tnames.append(name)\n",
    "\t# summarize the performance along the way\n",
    "\ts = pd.Series(data=[np.mean(scores), np.std(scores), np.mean(times)],name=name, index=['mean','std', 'time'])\n",
    "\tavg_scores_k_fold = avg_scores_k_fold.append(s)\n",
    "\tprint('>%s %.3f (%.3f) (%.3f)' % (name, np.mean(scores), np.std(scores), np.mean(times)))\n",
    "# plot model performance for comparison\n",
    "plt.figure(figsize=(15,15))\n",
    "plt.boxplot(results, labels=names, showmeans=True)\n",
    "plt.show()"
   ]
  },
  {
   "cell_type": "code",
   "execution_count": 11,
   "id": "b530ab42",
   "metadata": {},
   "outputs": [
    {
     "ename": "ValueError",
     "evalue": "No axis named 1 for object type <class 'pandas.core.series.Series'>",
     "output_type": "error",
     "traceback": [
      "\u001b[1;31m---------------------------------------------------------------------------\u001b[0m",
      "\u001b[1;31mValueError\u001b[0m                                Traceback (most recent call last)",
      "\u001b[1;32m~\\AppData\\Local\\Temp/ipykernel_18692/4106717379.py\u001b[0m in \u001b[0;36m<module>\u001b[1;34m\u001b[0m\n\u001b[0;32m      3\u001b[0m \u001b[1;32mfor\u001b[0m \u001b[0mi\u001b[0m \u001b[1;32min\u001b[0m \u001b[0mrange\u001b[0m \u001b[1;33m(\u001b[0m\u001b[1;36m1\u001b[0m\u001b[1;33m,\u001b[0m\u001b[1;36m67\u001b[0m\u001b[1;33m)\u001b[0m\u001b[1;33m:\u001b[0m\u001b[1;33m\u001b[0m\u001b[1;33m\u001b[0m\u001b[0m\n\u001b[0;32m      4\u001b[0m     \u001b[0mi\u001b[0m \u001b[1;33m=\u001b[0m \u001b[0mstr\u001b[0m\u001b[1;33m(\u001b[0m\u001b[0mi\u001b[0m\u001b[1;33m)\u001b[0m\u001b[1;33m\u001b[0m\u001b[1;33m\u001b[0m\u001b[0m\n\u001b[1;32m----> 5\u001b[1;33m     \u001b[0ms\u001b[0m \u001b[1;33m=\u001b[0m \u001b[0mpd\u001b[0m\u001b[1;33m.\u001b[0m\u001b[0mSeries\u001b[0m\u001b[1;33m(\u001b[0m\u001b[0mavg_scores_k_fold\u001b[0m\u001b[1;33m.\u001b[0m\u001b[0mT\u001b[0m\u001b[1;33m[\u001b[0m\u001b[0mi\u001b[0m\u001b[1;33m]\u001b[0m\u001b[1;33m.\u001b[0m\u001b[0mmean\u001b[0m\u001b[1;33m(\u001b[0m\u001b[0maxis\u001b[0m\u001b[1;33m=\u001b[0m\u001b[1;36m1\u001b[0m\u001b[1;33m)\u001b[0m\u001b[1;33m,\u001b[0m \u001b[0mname\u001b[0m\u001b[1;33m=\u001b[0m\u001b[0mi\u001b[0m\u001b[1;33m,\u001b[0m \u001b[0mindex\u001b[0m\u001b[1;33m=\u001b[0m\u001b[1;33m[\u001b[0m\u001b[1;34m'mean'\u001b[0m\u001b[1;33m,\u001b[0m\u001b[1;34m'std'\u001b[0m\u001b[1;33m,\u001b[0m \u001b[1;34m'time'\u001b[0m\u001b[1;33m]\u001b[0m\u001b[1;33m)\u001b[0m\u001b[1;33m\u001b[0m\u001b[1;33m\u001b[0m\u001b[0m\n\u001b[0m\u001b[0;32m      6\u001b[0m     \u001b[0mavg_avg_k_fold\u001b[0m \u001b[1;33m=\u001b[0m \u001b[0mavg_avg_k_fold\u001b[0m\u001b[1;33m.\u001b[0m\u001b[0mappend\u001b[0m\u001b[1;33m(\u001b[0m\u001b[0ms\u001b[0m\u001b[1;33m)\u001b[0m\u001b[1;33m\u001b[0m\u001b[1;33m\u001b[0m\u001b[0m\n",
      "\u001b[1;32m~\\AppData\\Roaming\\Python\\Python38\\site-packages\\pandas\\core\\generic.py\u001b[0m in \u001b[0;36mstat_func\u001b[1;34m(self, axis, skipna, level, numeric_only, **kwargs)\u001b[0m\n\u001b[0;32m  11212\u001b[0m         \u001b[1;32mif\u001b[0m \u001b[0mlevel\u001b[0m \u001b[1;32mis\u001b[0m \u001b[1;32mnot\u001b[0m \u001b[1;32mNone\u001b[0m\u001b[1;33m:\u001b[0m\u001b[1;33m\u001b[0m\u001b[1;33m\u001b[0m\u001b[0m\n\u001b[0;32m  11213\u001b[0m             \u001b[1;32mreturn\u001b[0m \u001b[0mself\u001b[0m\u001b[1;33m.\u001b[0m\u001b[0m_agg_by_level\u001b[0m\u001b[1;33m(\u001b[0m\u001b[0mname\u001b[0m\u001b[1;33m,\u001b[0m \u001b[0maxis\u001b[0m\u001b[1;33m=\u001b[0m\u001b[0maxis\u001b[0m\u001b[1;33m,\u001b[0m \u001b[0mlevel\u001b[0m\u001b[1;33m=\u001b[0m\u001b[0mlevel\u001b[0m\u001b[1;33m,\u001b[0m \u001b[0mskipna\u001b[0m\u001b[1;33m=\u001b[0m\u001b[0mskipna\u001b[0m\u001b[1;33m)\u001b[0m\u001b[1;33m\u001b[0m\u001b[1;33m\u001b[0m\u001b[0m\n\u001b[1;32m> 11214\u001b[1;33m         return self._reduce(\n\u001b[0m\u001b[0;32m  11215\u001b[0m             \u001b[0mf\u001b[0m\u001b[1;33m,\u001b[0m \u001b[0mname\u001b[0m\u001b[1;33m,\u001b[0m \u001b[0maxis\u001b[0m\u001b[1;33m=\u001b[0m\u001b[0maxis\u001b[0m\u001b[1;33m,\u001b[0m \u001b[0mskipna\u001b[0m\u001b[1;33m=\u001b[0m\u001b[0mskipna\u001b[0m\u001b[1;33m,\u001b[0m \u001b[0mnumeric_only\u001b[0m\u001b[1;33m=\u001b[0m\u001b[0mnumeric_only\u001b[0m\u001b[1;33m\u001b[0m\u001b[1;33m\u001b[0m\u001b[0m\n\u001b[0;32m  11216\u001b[0m         )\n",
      "\u001b[1;32m~\\AppData\\Roaming\\Python\\Python38\\site-packages\\pandas\\core\\series.py\u001b[0m in \u001b[0;36m_reduce\u001b[1;34m(self, op, name, axis, skipna, numeric_only, filter_type, **kwds)\u001b[0m\n\u001b[0;32m   3867\u001b[0m \u001b[1;33m\u001b[0m\u001b[0m\n\u001b[0;32m   3868\u001b[0m         \u001b[1;32mif\u001b[0m \u001b[0maxis\u001b[0m \u001b[1;32mis\u001b[0m \u001b[1;32mnot\u001b[0m \u001b[1;32mNone\u001b[0m\u001b[1;33m:\u001b[0m\u001b[1;33m\u001b[0m\u001b[1;33m\u001b[0m\u001b[0m\n\u001b[1;32m-> 3869\u001b[1;33m             \u001b[0mself\u001b[0m\u001b[1;33m.\u001b[0m\u001b[0m_get_axis_number\u001b[0m\u001b[1;33m(\u001b[0m\u001b[0maxis\u001b[0m\u001b[1;33m)\u001b[0m\u001b[1;33m\u001b[0m\u001b[1;33m\u001b[0m\u001b[0m\n\u001b[0m\u001b[0;32m   3870\u001b[0m \u001b[1;33m\u001b[0m\u001b[0m\n\u001b[0;32m   3871\u001b[0m         \u001b[1;32mif\u001b[0m \u001b[0misinstance\u001b[0m\u001b[1;33m(\u001b[0m\u001b[0mdelegate\u001b[0m\u001b[1;33m,\u001b[0m \u001b[0mCategorical\u001b[0m\u001b[1;33m)\u001b[0m\u001b[1;33m:\u001b[0m\u001b[1;33m\u001b[0m\u001b[1;33m\u001b[0m\u001b[0m\n",
      "\u001b[1;32m~\\AppData\\Roaming\\Python\\Python38\\site-packages\\pandas\\core\\generic.py\u001b[0m in \u001b[0;36m_get_axis_number\u001b[1;34m(cls, axis)\u001b[0m\n\u001b[0;32m    405\u001b[0m             \u001b[1;32mexcept\u001b[0m \u001b[0mKeyError\u001b[0m\u001b[1;33m:\u001b[0m\u001b[1;33m\u001b[0m\u001b[1;33m\u001b[0m\u001b[0m\n\u001b[0;32m    406\u001b[0m                 \u001b[1;32mpass\u001b[0m\u001b[1;33m\u001b[0m\u001b[1;33m\u001b[0m\u001b[0m\n\u001b[1;32m--> 407\u001b[1;33m         \u001b[1;32mraise\u001b[0m \u001b[0mValueError\u001b[0m\u001b[1;33m(\u001b[0m\u001b[1;34mf\"No axis named {axis} for object type {cls}\"\u001b[0m\u001b[1;33m)\u001b[0m\u001b[1;33m\u001b[0m\u001b[1;33m\u001b[0m\u001b[0m\n\u001b[0m\u001b[0;32m    408\u001b[0m \u001b[1;33m\u001b[0m\u001b[0m\n\u001b[0;32m    409\u001b[0m     \u001b[1;33m@\u001b[0m\u001b[0mclassmethod\u001b[0m\u001b[1;33m\u001b[0m\u001b[1;33m\u001b[0m\u001b[0m\n",
      "\u001b[1;31mValueError\u001b[0m: No axis named 1 for object type <class 'pandas.core.series.Series'>"
     ]
    }
   ],
   "source": [
    "avg_avg_k_fold = pd.DataFrame(columns=['mean', 'std', 'time'])\n",
    "\n",
    "for i in range (1,67):\n",
    "    i = str(i)\n",
    "    s = pd.Series(avg_scores_k_fold.T[i].mean(axis=1), name=i, index=['mean','std', 'time'])\n",
    "    avg_avg_k_fold = avg_avg_k_fold.append(s)"
   ]
  },
  {
   "cell_type": "code",
   "execution_count": 98,
   "id": "4048a72e",
   "metadata": {},
   "outputs": [
    {
     "data": {
      "text/html": [
       "<div>\n",
       "<style scoped>\n",
       "    .dataframe tbody tr th:only-of-type {\n",
       "        vertical-align: middle;\n",
       "    }\n",
       "\n",
       "    .dataframe tbody tr th {\n",
       "        vertical-align: top;\n",
       "    }\n",
       "\n",
       "    .dataframe thead th {\n",
       "        text-align: right;\n",
       "    }\n",
       "</style>\n",
       "<table border=\"1\" class=\"dataframe\">\n",
       "  <thead>\n",
       "    <tr style=\"text-align: right;\">\n",
       "      <th></th>\n",
       "      <th>mean</th>\n",
       "      <th>std</th>\n",
       "      <th>time</th>\n",
       "    </tr>\n",
       "  </thead>\n",
       "  <tbody>\n",
       "    <tr>\n",
       "      <th>19</th>\n",
       "      <td>0.856944</td>\n",
       "      <td>0.111215</td>\n",
       "      <td>0.557393</td>\n",
       "    </tr>\n",
       "    <tr>\n",
       "      <th>10</th>\n",
       "      <td>0.853611</td>\n",
       "      <td>0.123225</td>\n",
       "      <td>0.531205</td>\n",
       "    </tr>\n",
       "    <tr>\n",
       "      <th>37</th>\n",
       "      <td>0.851111</td>\n",
       "      <td>0.151870</td>\n",
       "      <td>0.582978</td>\n",
       "    </tr>\n",
       "    <tr>\n",
       "      <th>13</th>\n",
       "      <td>0.849167</td>\n",
       "      <td>0.126024</td>\n",
       "      <td>0.543904</td>\n",
       "    </tr>\n",
       "    <tr>\n",
       "      <th>49</th>\n",
       "      <td>0.847778</td>\n",
       "      <td>0.126742</td>\n",
       "      <td>0.601572</td>\n",
       "    </tr>\n",
       "    <tr>\n",
       "      <th>...</th>\n",
       "      <td>...</td>\n",
       "      <td>...</td>\n",
       "      <td>...</td>\n",
       "    </tr>\n",
       "    <tr>\n",
       "      <th>8</th>\n",
       "      <td>0.810556</td>\n",
       "      <td>0.119952</td>\n",
       "      <td>0.526513</td>\n",
       "    </tr>\n",
       "    <tr>\n",
       "      <th>6</th>\n",
       "      <td>0.806667</td>\n",
       "      <td>0.122519</td>\n",
       "      <td>0.519460</td>\n",
       "    </tr>\n",
       "    <tr>\n",
       "      <th>2</th>\n",
       "      <td>0.799722</td>\n",
       "      <td>0.131964</td>\n",
       "      <td>0.520294</td>\n",
       "    </tr>\n",
       "    <tr>\n",
       "      <th>3</th>\n",
       "      <td>0.775000</td>\n",
       "      <td>0.126389</td>\n",
       "      <td>0.518693</td>\n",
       "    </tr>\n",
       "    <tr>\n",
       "      <th>1</th>\n",
       "      <td>0.755000</td>\n",
       "      <td>0.134366</td>\n",
       "      <td>0.514955</td>\n",
       "    </tr>\n",
       "  </tbody>\n",
       "</table>\n",
       "<p>66 rows × 3 columns</p>\n",
       "</div>"
      ],
      "text/plain": [
       "        mean       std      time\n",
       "19  0.856944  0.111215  0.557393\n",
       "10  0.853611  0.123225  0.531205\n",
       "37  0.851111  0.151870  0.582978\n",
       "13  0.849167  0.126024  0.543904\n",
       "49  0.847778  0.126742  0.601572\n",
       "..       ...       ...       ...\n",
       "8   0.810556  0.119952  0.526513\n",
       "6   0.806667  0.122519  0.519460\n",
       "2   0.799722  0.131964  0.520294\n",
       "3   0.775000  0.126389  0.518693\n",
       "1   0.755000  0.134366  0.514955\n",
       "\n",
       "[66 rows x 3 columns]"
      ]
     },
     "execution_count": 98,
     "metadata": {},
     "output_type": "execute_result"
    }
   ],
   "source": [
    "avg_avg_k_fold.sort_values(by='mean', ascending=0)"
   ]
  },
  {
   "cell_type": "code",
   "execution_count": 99,
   "id": "522ceb81",
   "metadata": {},
   "outputs": [],
   "source": [
    "avg_avg_k_fold.to_csv('../data/cleaned/rnd_forest/avg_vary_feat.csv', index=True)"
   ]
  },
  {
   "cell_type": "code",
   "execution_count": 100,
   "id": "ffe838bd",
   "metadata": {},
   "outputs": [
    {
     "data": {
      "image/png": "[encoded data removed]",
      "text/plain": [
       "<Figure size 1080x504 with 1 Axes>"
      ]
     },
     "metadata": {
      "filenames": {
       "image/png": "D:\\DCU\\4th_year\\CA4015\\CA4015-AutoML-VS-Ensembles-BioChem\\book\\_build\\jupyter_execute\\random_forest_analysis_16_0.png"
      },
      "needs_background": "light"
     },
     "output_type": "display_data"
    }
   ],
   "source": [
    "plt.figure(figsize=(15,7))\n",
    "line1 = plt.plot(avg_avg_k_fold.index, avg_avg_k_fold['mean'], label='Mean', c='darkcyan')\n",
    "line2 = plt.plot(avg_avg_k_fold.index, avg_avg_k_fold['std'], c='red', label='Std')\n",
    "plt.title('Accuracy of Random Subspace')\n",
    "plt.xlabel('Number of Features')\n",
    "plt.ylabel('Accuracy')\n",
    "plt.legend()\n",
    "plt.yticks(ticks=np.arange(0,1.1,0.1))\n",
    "plt.xticks(ticks=np.arange(0,66,5))\n",
    "plt.savefig('../images/rnd_forest/vary_features.png')\n",
    "plt.show()"
   ]
  },
  {
   "cell_type": "markdown",
   "id": "70c877a4",
   "metadata": {},
   "source": [
    "## Different number of trees"
   ]
  },
  {
   "cell_type": "code",
   "execution_count": 89,
   "id": "bd058734",
   "metadata": {},
   "outputs": [],
   "source": [
    "diff_trees = pd.DataFrame(columns=[\"mean\",\"std\", \"time\"])"
   ]
  },
  {
   "cell_type": "code",
   "execution_count": 94,
   "id": "0cc804af",
   "metadata": {},
   "outputs": [
    {
     "name": "stdout",
     "output_type": "stream",
     "text": [
      ">10 0.733 (0.106) (0.297)\n",
      ">50 0.803 (0.153) (0.605)\n",
      ">100 0.812 (0.123) (0.943)\n",
      ">150 0.779 (0.139) (1.301)\n",
      ">200 0.800 (0.109) (1.900)\n",
      ">250 0.783 (0.129) (2.381)\n",
      ">300 0.816 (0.103) (2.782)\n",
      ">350 0.803 (0.101) (3.185)\n",
      ">400 0.807 (0.098) (3.578)\n",
      ">450 0.807 (0.093) (3.985)\n",
      ">500 0.799 (0.106) (4.486)\n"
     ]
    },
    {
     "data": {
      "image/png": "[encoded data removed]",
      "text/plain": [
       "<Figure size 432x288 with 1 Axes>"
      ]
     },
     "metadata": {
      "filenames": {
       "image/png": "D:\\DCU\\4th_year\\CA4015\\CA4015-AutoML-VS-Ensembles-BioChem\\book\\_build\\jupyter_execute\\random_forest_analysis_19_1.png"
      },
      "needs_background": "light"
     },
     "output_type": "display_data"
    }
   ],
   "source": [
    "# get a list of models to evaluate\n",
    "def get_models():\n",
    "\tmodels = dict()\n",
    "\t# define number of trees to consider\n",
    "\tn_trees = [10, 50, 100, 150, 200, 250, 300, 350, 400, 450, 500]\n",
    "\tfor n in n_trees:\n",
    "\t\tmodels[str(n)] = RandomForestClassifier(n_estimators=n)\n",
    "\treturn models\n",
    " \n",
    "# evaluate a given model using cross-validation\n",
    "def evaluate_model(model, X, y):\n",
    "\t# define the evaluation procedure\n",
    "\tcv = RepeatedStratifiedKFold(n_splits=10, n_repeats=3, random_state=1)\n",
    "\t# evaluate the model and collect the results\n",
    "\tscores = cross_val_score(model, X, y, scoring='accuracy', cv=cv, n_jobs=-1)\n",
    "\treturn scores\n",
    " \n",
    "# define dataset\n",
    "X, y = filled.iloc[:,3:], filled.iloc[:,1]\n",
    "# get the models to evaluate\n",
    "models = get_models()\n",
    "# evaluate the models and store results\n",
    "results, names, times = list(), list(), list()\n",
    "for name, model in models.items():\n",
    "\t# evaluate the model\n",
    "\tstart = time.time()\n",
    "\tscores = evaluate_model(model, X, y)\n",
    "\tend = time.time()\n",
    "\t# store the results\n",
    "\ttimes.append(end-start)\n",
    "\tresults.append(scores)\n",
    "\tnames.append(name)\n",
    "\t# summarize the performance along the way\n",
    "\ts = pd.Series(data=[np.mean(scores), np.std(scores), np.mean(times)],name=name, index=['mean','std', 'time'])\n",
    "\tdiff_trees = diff_trees.append(s)\n",
    "\tprint('>%s %.3f (%.3f) (%.3f)' % (name, np.mean(scores), np.std(scores), np.mean(times)))\n",
    "# plot model performance for comparison\n",
    "plt.boxplot(results, labels=names, showmeans=True)\n",
    "plt.show()"
   ]
  },
  {
   "cell_type": "code",
   "execution_count": 95,
   "id": "bea8e8c1",
   "metadata": {},
   "outputs": [],
   "source": [
    "avg_diff_trees = pd.DataFrame(columns=['mean', 'std', 'time'])\n",
    "for i in [10, 50, 100, 150, 200, 250, 350, 400, 450, 500]:\n",
    "    i = str(i)\n",
    "    s = pd.Series(diff_trees.T[i].mean(axis=1), name=i, index=['mean','std', 'time'])\n",
    "    avg_diff_trees = avg_diff_trees.append(s)"
   ]
  },
  {
   "cell_type": "code",
   "execution_count": 101,
   "id": "d2d2640c",
   "metadata": {},
   "outputs": [
    {
     "data": {
      "text/html": [
       "<div>\n",
       "<style scoped>\n",
       "    .dataframe tbody tr th:only-of-type {\n",
       "        vertical-align: middle;\n",
       "    }\n",
       "\n",
       "    .dataframe tbody tr th {\n",
       "        vertical-align: top;\n",
       "    }\n",
       "\n",
       "    .dataframe thead th {\n",
       "        text-align: right;\n",
       "    }\n",
       "</style>\n",
       "<table border=\"1\" class=\"dataframe\">\n",
       "  <thead>\n",
       "    <tr style=\"text-align: right;\">\n",
       "      <th></th>\n",
       "      <th>mean</th>\n",
       "      <th>std</th>\n",
       "      <th>time</th>\n",
       "    </tr>\n",
       "  </thead>\n",
       "  <tbody>\n",
       "    <tr>\n",
       "      <th>100</th>\n",
       "      <td>0.801736</td>\n",
       "      <td>0.113711</td>\n",
       "      <td>0.867241</td>\n",
       "    </tr>\n",
       "    <tr>\n",
       "      <th>500</th>\n",
       "      <td>0.801157</td>\n",
       "      <td>0.115194</td>\n",
       "      <td>4.049688</td>\n",
       "    </tr>\n",
       "    <tr>\n",
       "      <th>200</th>\n",
       "      <td>0.799884</td>\n",
       "      <td>0.109776</td>\n",
       "      <td>1.627611</td>\n",
       "    </tr>\n",
       "    <tr>\n",
       "      <th>400</th>\n",
       "      <td>0.799421</td>\n",
       "      <td>0.108344</td>\n",
       "      <td>3.202117</td>\n",
       "    </tr>\n",
       "    <tr>\n",
       "      <th>350</th>\n",
       "      <td>0.795833</td>\n",
       "      <td>0.111526</td>\n",
       "      <td>2.800139</td>\n",
       "    </tr>\n",
       "    <tr>\n",
       "      <th>250</th>\n",
       "      <td>0.793981</td>\n",
       "      <td>0.116592</td>\n",
       "      <td>2.033919</td>\n",
       "    </tr>\n",
       "    <tr>\n",
       "      <th>450</th>\n",
       "      <td>0.793287</td>\n",
       "      <td>0.105808</td>\n",
       "      <td>3.615834</td>\n",
       "    </tr>\n",
       "    <tr>\n",
       "      <th>150</th>\n",
       "      <td>0.787616</td>\n",
       "      <td>0.125789</td>\n",
       "      <td>1.199168</td>\n",
       "    </tr>\n",
       "    <tr>\n",
       "      <th>50</th>\n",
       "      <td>0.786690</td>\n",
       "      <td>0.131385</td>\n",
       "      <td>0.521825</td>\n",
       "    </tr>\n",
       "    <tr>\n",
       "      <th>10</th>\n",
       "      <td>0.743287</td>\n",
       "      <td>0.129498</td>\n",
       "      <td>0.249506</td>\n",
       "    </tr>\n",
       "  </tbody>\n",
       "</table>\n",
       "</div>"
      ],
      "text/plain": [
       "         mean       std      time\n",
       "100  0.801736  0.113711  0.867241\n",
       "500  0.801157  0.115194  4.049688\n",
       "200  0.799884  0.109776  1.627611\n",
       "400  0.799421  0.108344  3.202117\n",
       "350  0.795833  0.111526  2.800139\n",
       "250  0.793981  0.116592  2.033919\n",
       "450  0.793287  0.105808  3.615834\n",
       "150  0.787616  0.125789  1.199168\n",
       "50   0.786690  0.131385  0.521825\n",
       "10   0.743287  0.129498  0.249506"
      ]
     },
     "execution_count": 101,
     "metadata": {},
     "output_type": "execute_result"
    }
   ],
   "source": [
    "avg_diff_trees.sort_values(by='mean', ascending=0).head(10)"
   ]
  },
  {
   "cell_type": "code",
   "execution_count": 103,
   "id": "0a0fb021",
   "metadata": {},
   "outputs": [],
   "source": [
    "avg_diff_trees.to_csv('data/cleaned/rnd_forest/avg_vary_trees.csv', index=True)"
   ]
  },
  {
   "cell_type": "code",
   "execution_count": 102,
   "id": "3e43bbd9",
   "metadata": {},
   "outputs": [
    {
     "data": {
      "image/png": "[encoded data removed]",
      "text/plain": [
       "<Figure size 432x288 with 1 Axes>"
      ]
     },
     "metadata": {
      "filenames": {
       "image/png": "D:\\DCU\\4th_year\\CA4015\\CA4015-AutoML-VS-Ensembles-BioChem\\book\\_build\\jupyter_execute\\random_forest_analysis_23_0.png"
      },
      "needs_background": "light"
     },
     "output_type": "display_data"
    }
   ],
   "source": [
    "line1 = plt.plot(avg_diff_trees.index, avg_diff_trees['mean'], label='Mean', c='darkcyan')\n",
    "line2 = plt.plot(avg_diff_trees.index, avg_diff_trees['std'], c='red', label='Std')\n",
    "plt.title('Accuracy of Varying Amount of Trees')\n",
    "plt.xlabel('Number of Trees')\n",
    "plt.ylabel('Accuracy')\n",
    "plt.legend()\n",
    "plt.yticks(ticks=np.arange(0,1.1,0.1))\n",
    "\n",
    "plt.savefig('../images/rnd_forest/vary_trees.png')\n",
    "plt.show()"
   ]
  },
  {
   "cell_type": "markdown",
   "id": "7b82e04b",
   "metadata": {},
   "source": [
    "## Best Model\n",
    "So from the above experimentation we can deduce that the best model has:\n",
    "1. bootstrap sample size = 100% (all)\n",
    "2. number of features = 25, or 50, ??\n",
    "3. number of trees = 100\n",
    "\n",
    "For this particular model, the best performance is recorded when the boostrap sample size is 100% of the size of the training data. Similarly to the Extra Trees model, there is ambiguity surrounding the correct amount of features to use. Selecting from 1 up to 13 features produce the lower results for the mean (by a marginal amount). The number of trees to be used remains at the default of 100. The inrease in accuracy beyond 100 trees can be attributed to statistical noise. Accuracy plateaus beyond 100 trees."
   ]
  },
  {
   "cell_type": "code",
   "execution_count": 116,
   "id": "cec4d56c",
   "metadata": {},
   "outputs": [],
   "source": [
    "final_results = pd.DataFrame(columns=['mean accuracy', 'mean std'])"
   ]
  },
  {
   "cell_type": "code",
   "execution_count": 117,
   "id": "d13cd109",
   "metadata": {},
   "outputs": [
    {
     "name": "stdout",
     "output_type": "stream",
     "text": [
      ">0 0.794 (0.117)\n",
      ">1 0.803 (0.111)\n",
      ">2 0.807 (0.095)\n",
      ">3 0.811 (0.089)\n",
      ">4 0.824 (0.096)\n",
      ">5 0.811 (0.095)\n",
      ">6 0.806 (0.110)\n",
      ">7 0.799 (0.109)\n",
      ">8 0.816 (0.108)\n",
      ">9 0.807 (0.103)\n",
      ">10 0.812 (0.091)\n",
      ">11 0.795 (0.102)\n",
      ">12 0.804 (0.118)\n",
      ">13 0.803 (0.120)\n",
      ">14 0.800 (0.107)\n",
      ">15 0.815 (0.095)\n",
      ">16 0.799 (0.117)\n",
      ">17 0.800 (0.100)\n",
      ">18 0.792 (0.108)\n",
      ">19 0.792 (0.109)\n",
      ">20 0.800 (0.102)\n",
      ">21 0.799 (0.107)\n",
      ">22 0.811 (0.106)\n",
      ">23 0.799 (0.112)\n",
      ">24 0.807 (0.109)\n",
      ">25 0.782 (0.114)\n",
      ">26 0.811 (0.121)\n",
      ">27 0.819 (0.095)\n",
      ">28 0.812 (0.091)\n",
      ">29 0.815 (0.099)\n",
      ">30 0.804 (0.106)\n",
      ">31 0.795 (0.106)\n",
      ">32 0.803 (0.098)\n",
      ">33 0.800 (0.111)\n",
      ">34 0.800 (0.105)\n",
      ">35 0.803 (0.100)\n",
      ">36 0.795 (0.116)\n",
      ">37 0.807 (0.109)\n",
      ">38 0.794 (0.109)\n",
      ">39 0.790 (0.111)\n",
      ">40 0.802 (0.104)\n",
      ">41 0.806 (0.110)\n",
      ">42 0.804 (0.096)\n",
      ">43 0.831 (0.110)\n",
      ">44 0.795 (0.107)\n",
      ">45 0.808 (0.097)\n",
      ">46 0.822 (0.101)\n",
      ">47 0.799 (0.097)\n",
      ">48 0.779 (0.120)\n",
      ">49 0.787 (0.115)\n"
     ]
    }
   ],
   "source": [
    "final_model = RandomForestClassifier(n_estimators=100, max_features=8, max_samples=1.0)\n",
    "\n",
    "# define dataset\n",
    "X, y = filled.iloc[:,3:], filled.iloc[:,1]\n",
    "\n",
    "results, names = list(), list()\n",
    "for i in range(50):\n",
    "    scores = evaluate_model(model, X, y)\n",
    "    results.append(scores)\n",
    "    names.append(name)\n",
    "    s = pd.Series(data=[np.mean(scores), np.std(scores)],name=name, index=['mean accuracy','mean std'])\n",
    "    final_results = final_results.append(s)\n",
    "    print('>%s %.3f (%.3f)' % (i, np.mean(scores), np.std(scores)))"
   ]
  },
  {
   "cell_type": "code",
   "execution_count": 118,
   "id": "7d48b200",
   "metadata": {},
   "outputs": [
    {
     "data": {
      "text/plain": [
       "mean accuracy    0.803370\n",
       "mean std         0.105613\n",
       "dtype: float64"
      ]
     },
     "execution_count": 118,
     "metadata": {},
     "output_type": "execute_result"
    }
   ],
   "source": [
    "final_results.mean()"
   ]
  }
 ],
 "metadata": {
  "kernelspec": {
   "display_name": "Python 3",
   "language": "python",
   "name": "python3"
  },
  "language_info": {
   "codemirror_mode": {
    "name": "ipython",
    "version": 3
   },
   "file_extension": ".py",
   "mimetype": "text/x-python",
   "name": "python",
   "nbconvert_exporter": "python",
   "pygments_lexer": "ipython3",
   "version": "3.8.10"
  }
 },
 "nbformat": 4,
 "nbformat_minor": 5
}