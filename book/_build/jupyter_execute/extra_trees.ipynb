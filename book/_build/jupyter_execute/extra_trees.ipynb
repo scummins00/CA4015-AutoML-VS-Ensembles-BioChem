{
 "cells": [
  {
   "cell_type": "markdown",
   "id": "54c54d80",
   "metadata": {},
   "source": [
    "# Extra Trees\n",
    "In the following Jupyter Notebook, we will be using the Extra Trees or **Extremely Randomized Trees** algorithm ensemble with k-fold cross validation on the Volatile Organic Compound GCMS readings. "
   ]
  },
  {
   "cell_type": "code",
   "execution_count": 1,
   "id": "24876a3b",
   "metadata": {},
   "outputs": [],
   "source": [
    "# evaluate a given model using cross-validation\n",
    "def evaluate_model(model, X, y):\n",
    "\t# define the evaluation procedure\n",
    "\tcv = KFold(n_splits=10, shuffle=True, random_state=1)\n",
    "\t# evaluate the model and collect the results\n",
    "\tscores = cross_val_score(model, X, y, scoring='accuracy', cv=cv, n_jobs=-1)\n",
    "\treturn scores"
   ]
  },
  {
   "cell_type": "markdown",
   "id": "81d009fa",
   "metadata": {},
   "source": [
    "# Explore different amounts of trees"
   ]
  },
  {
   "cell_type": "code",
   "execution_count": 2,
   "id": "d802940e",
   "metadata": {},
   "outputs": [],
   "source": [
    "import time\n",
    "import numpy as np\n",
    "import pandas as pd\n",
    "from sklearn.datasets import make_classification\n",
    "from sklearn.model_selection import cross_val_score\n",
    "from sklearn.model_selection import KFold\n",
    "from sklearn.ensemble import ExtraTreesClassifier\n",
    "from matplotlib import pyplot"
   ]
  },
  {
   "cell_type": "code",
   "execution_count": 3,
   "id": "7f2a9d97",
   "metadata": {},
   "outputs": [],
   "source": [
    "#get data\n",
    "raw = pd.read_csv('../data/cleaned/long.csv')\n",
    "filled = raw.fillna(0)"
   ]
  },
  {
   "cell_type": "code",
   "execution_count": 4,
   "id": "5ea3ae49",
   "metadata": {},
   "outputs": [],
   "source": [
    "#store results from formula below\n",
    "vary_trees = pd.DataFrame(columns=[\"mean\",\"std\"])"
   ]
  },
  {
   "cell_type": "code",
   "execution_count": 5,
   "id": "b54b6087",
   "metadata": {},
   "outputs": [
    {
     "name": "stdout",
     "output_type": "stream",
     "text": [
      ">10 0.787 (0.174) (1.223)\n"
     ]
    },
    {
     "name": "stdout",
     "output_type": "stream",
     "text": [
      ">50 0.832 (0.125) (0.963)\n"
     ]
    },
    {
     "name": "stdout",
     "output_type": "stream",
     "text": [
      ">100 0.819 (0.127) (0.842)\n",
      ">150 0.843 (0.112) (0.674)\n"
     ]
    },
    {
     "name": "stdout",
     "output_type": "stream",
     "text": [
      ">200 0.832 (0.123) (0.574)\n"
     ]
    },
    {
     "name": "stdout",
     "output_type": "stream",
     "text": [
      ">250 0.821 (0.122) (0.513)\n"
     ]
    },
    {
     "name": "stdout",
     "output_type": "stream",
     "text": [
      ">300 0.832 (0.123) (0.474)\n"
     ]
    },
    {
     "name": "stdout",
     "output_type": "stream",
     "text": [
      ">350 0.821 (0.122) (0.450)\n"
     ]
    },
    {
     "name": "stdout",
     "output_type": "stream",
     "text": [
      ">500 0.843 (0.154) (0.444)\n"
     ]
    },
    {
     "name": "stdout",
     "output_type": "stream",
     "text": [
      ">750 0.843 (0.132) (0.459)\n"
     ]
    },
    {
     "name": "stdout",
     "output_type": "stream",
     "text": [
      ">1000 0.807 (0.149) (0.486)\n"
     ]
    },
    {
     "data": {
      "image/png": "[encoded data removed]",
      "text/plain": [
       "<Figure size 432x288 with 1 Axes>"
      ]
     },
     "metadata": {
      "filenames": {
       "image/png": "D:\\DCU\\4th_year\\CA4015\\CA4015-AutoML-VS-Ensembles-BioChem\\book\\_build\\jupyter_execute\\extra_trees_6_10.png"
      },
      "needs_background": "light"
     },
     "output_type": "display_data"
    }
   ],
   "source": [
    "# get a list of models to evaluate\n",
    "def get_models():\n",
    "\tmodels = dict()\n",
    "\t# define number of trees to consider\n",
    "\tn_trees = [10, 50, 100, 150, 200, 250, 300, 350, 500, 750, 1000]\n",
    "\tfor n in n_trees:\n",
    "\t\tmodels[str(n)] = ExtraTreesClassifier(n_estimators=n)\n",
    "\treturn models\n",
    " \n",
    "# define dataset\n",
    "X, y = filled.iloc[:,3:], filled.iloc[:,1]\n",
    "# get the models to evaluate\n",
    "models = get_models()\n",
    "# evaluate the models and store results\n",
    "results, names, times = list(), list(), list()\n",
    "for name, model in models.items():\n",
    "\t# evaluate the model\n",
    "\tstart = time.time()\n",
    "\tscores = evaluate_model(model, X, y)\n",
    "\tend = time.time()\n",
    "\t# store the results\n",
    "\ttimes.append(end-start)\n",
    "\tresults.append(scores)\n",
    "\tnames.append(name)\n",
    "\t# summarize the performance along the way\n",
    "\ts = pd.Series(data=[np.mean(scores), np.std(scores), np.mean(times)],name=name, index=['mean','std', 'time'])\n",
    "\tvary_trees = vary_trees.append(s)\n",
    "\tprint('>%s %.3f (%.3f) (%.3f)' % (name, np.mean(scores), np.std(scores), np.mean(times)))\n",
    "# plot model performance for comparison\n",
    "pyplot.boxplot(results, labels=names, showmeans=True)\n",
    "pyplot.title('Varying The Amount of Trees')\n",
    "pyplot.xlabel('Number of Trees')\n",
    "pyplot.ylabel('Accuracy')\n",
    "pyplot.savefig('../images/ex_tree/vary_trees.png')\n",
    "pyplot.show()"
   ]
  },
  {
   "cell_type": "code",
   "execution_count": 6,
   "id": "672dd930",
   "metadata": {},
   "outputs": [],
   "source": [
    "#find average of all stored results\n",
    "avg_vary_trees = pd.DataFrame(columns=['mean', 'std', 'time'])\n",
    "for i in [10, 50, 100, 150, 200, 250, 300, 350, 500, 750, 1000]:\n",
    "    i = str(i)\n",
    "    s = pd.Series(vary_trees.T[i][0], name=str(i), index=['mean','std', 'time'])\n",
    "    avg_vary_trees = avg_vary_trees.append(s)"
   ]
  },
  {
   "cell_type": "code",
   "execution_count": 7,
   "id": "f746545c",
   "metadata": {},
   "outputs": [
    {
     "data": {
      "text/html": [
       "<div>\n",
       "<style scoped>\n",
       "    .dataframe tbody tr th:only-of-type {\n",
       "        vertical-align: middle;\n",
       "    }\n",
       "\n",
       "    .dataframe tbody tr th {\n",
       "        vertical-align: top;\n",
       "    }\n",
       "\n",
       "    .dataframe thead th {\n",
       "        text-align: right;\n",
       "    }\n",
       "</style>\n",
       "<table border=\"1\" class=\"dataframe\">\n",
       "  <thead>\n",
       "    <tr style=\"text-align: right;\">\n",
       "      <th></th>\n",
       "      <th>mean</th>\n",
       "      <th>std</th>\n",
       "      <th>time</th>\n",
       "    </tr>\n",
       "  </thead>\n",
       "  <tbody>\n",
       "    <tr>\n",
       "      <th>150</th>\n",
       "      <td>0.843056</td>\n",
       "      <td>0.843056</td>\n",
       "      <td>0.843056</td>\n",
       "    </tr>\n",
       "    <tr>\n",
       "      <th>500</th>\n",
       "      <td>0.843056</td>\n",
       "      <td>0.843056</td>\n",
       "      <td>0.843056</td>\n",
       "    </tr>\n",
       "    <tr>\n",
       "      <th>750</th>\n",
       "      <td>0.843056</td>\n",
       "      <td>0.843056</td>\n",
       "      <td>0.843056</td>\n",
       "    </tr>\n",
       "    <tr>\n",
       "      <th>50</th>\n",
       "      <td>0.831944</td>\n",
       "      <td>0.831944</td>\n",
       "      <td>0.831944</td>\n",
       "    </tr>\n",
       "    <tr>\n",
       "      <th>200</th>\n",
       "      <td>0.831944</td>\n",
       "      <td>0.831944</td>\n",
       "      <td>0.831944</td>\n",
       "    </tr>\n",
       "    <tr>\n",
       "      <th>300</th>\n",
       "      <td>0.831944</td>\n",
       "      <td>0.831944</td>\n",
       "      <td>0.831944</td>\n",
       "    </tr>\n",
       "    <tr>\n",
       "      <th>250</th>\n",
       "      <td>0.820833</td>\n",
       "      <td>0.820833</td>\n",
       "      <td>0.820833</td>\n",
       "    </tr>\n",
       "  </tbody>\n",
       "</table>\n",
       "</div>"
      ],
      "text/plain": [
       "         mean       std      time\n",
       "150  0.843056  0.843056  0.843056\n",
       "500  0.843056  0.843056  0.843056\n",
       "750  0.843056  0.843056  0.843056\n",
       "50   0.831944  0.831944  0.831944\n",
       "200  0.831944  0.831944  0.831944\n",
       "300  0.831944  0.831944  0.831944\n",
       "250  0.820833  0.820833  0.820833"
      ]
     },
     "execution_count": 7,
     "metadata": {},
     "output_type": "execute_result"
    }
   ],
   "source": [
    "avg_vary_trees.sort_values(by='mean', ascending=0).head(7)"
   ]
  },
  {
   "cell_type": "code",
   "execution_count": 8,
   "id": "de459788",
   "metadata": {},
   "outputs": [],
   "source": [
    "avg_vary_trees.to_csv('../data/cleaned/ex_trees/avg_vary_trees.csv', index=True)"
   ]
  },
  {
   "cell_type": "code",
   "execution_count": 9,
   "id": "0e743cee",
   "metadata": {},
   "outputs": [
    {
     "data": {
      "image/png": "[encoded data removed]",
      "text/plain": [
       "<Figure size 432x288 with 1 Axes>"
      ]
     },
     "metadata": {
      "filenames": {
       "image/png": "D:\\DCU\\4th_year\\CA4015\\CA4015-AutoML-VS-Ensembles-BioChem\\book\\_build\\jupyter_execute\\extra_trees_10_0.png"
      },
      "needs_background": "light"
     },
     "output_type": "display_data"
    }
   ],
   "source": [
    "line1 = pyplot.plot(avg_vary_trees.index, avg_vary_trees['mean'], label='Mean')\n",
    "line2 = pyplot.plot(avg_vary_trees.index, avg_vary_trees['std'], c='yellow', label='Std')\n",
    "pyplot.title('Accuracy by Varying Trees')\n",
    "pyplot.xlabel('Number of Trees')\n",
    "pyplot.ylabel('Accuracy')\n",
    "pyplot.legend()\n",
    "pyplot.yticks(ticks=np.arange(0,1.1,0.1))\n",
    "pyplot.savefig('../images/ex_tree/vary_trees2.png')\n",
    "pyplot.show()"
   ]
  },
  {
   "cell_type": "markdown",
   "id": "4b92e95b",
   "metadata": {},
   "source": [
    "## Explore different amounts of features"
   ]
  },
  {
   "cell_type": "code",
   "execution_count": 10,
   "id": "d8dcc632",
   "metadata": {},
   "outputs": [],
   "source": [
    "#store results from formula below\n",
    "vary_feat = pd.DataFrame(columns=[\"mean\",\"std\"])"
   ]
  },
  {
   "cell_type": "code",
   "execution_count": 11,
   "id": "71801503",
   "metadata": {},
   "outputs": [
    {
     "data": {
      "image/png": "[encoded data removed]",
      "text/plain": [
       "<Figure size 432x288 with 1 Axes>"
      ]
     },
     "metadata": {
      "filenames": {
       "image/png": "D:\\DCU\\4th_year\\CA4015\\CA4015-AutoML-VS-Ensembles-BioChem\\book\\_build\\jupyter_execute\\extra_trees_13_0.png"
      },
      "needs_background": "light"
     },
     "output_type": "display_data"
    }
   ],
   "source": [
    "# get a list of models to evaluate\n",
    "def get_models():\n",
    "\tmodels = dict()\n",
    "\t# explore number of features from 1 to 20\n",
    "\tdepths = [i for i in range(1,67)] + [None]\n",
    "\tfor i in range(1, 67):\n",
    "\t\tmodels[str(i)] = ExtraTreesClassifier(max_features=i)\n",
    "\treturn models\n",
    " \n",
    "# define dataset\n",
    "X, y = filled.iloc[:,3:], filled.iloc[:,1]\n",
    "# get the models to evaluate\n",
    "models = get_models()\n",
    "# evaluate the models and store results\n",
    "results, names, times = list(), list(), list()\n",
    "for name, model in models.items():\n",
    "\t# evaluate the model\n",
    "\tstart = time.time()\n",
    "\tscores = evaluate_model(model, X, y)\n",
    "\tend = time.time()\n",
    "\t# store the results\n",
    "\ttimes.append(end-start)\n",
    "\tresults.append(scores)\n",
    "\tnames.append(name)\n",
    "\t# summarize the performance along the way\n",
    "\ts = pd.Series(data=[np.mean(scores), np.std(scores), np.mean(times)],name=name, index=['mean','std', 'time'])\n",
    "\tvary_feat = vary_feat.append(s)\n",
    "\n",
    "# plot model performance for comparison\n",
    "pyplot.boxplot(results, labels=names, showmeans=True)\n",
    "pyplot.show()"
   ]
  },
  {
   "cell_type": "code",
   "execution_count": 12,
   "id": "33a2eda8",
   "metadata": {},
   "outputs": [],
   "source": [
    "#find average of all stored results\n",
    "avg_vary_feat = pd.DataFrame(columns=['mean', 'std', 'time'])\n",
    "for i in range(1, 67):\n",
    "    i = str(i)\n",
    "    s = pd.Series(vary_feat.T[i][0], name=i, index=['mean','std', 'time'])\n",
    "    avg_vary_feat = avg_vary_feat.append(s)"
   ]
  },
  {
   "cell_type": "code",
   "execution_count": 13,
   "id": "123934f3",
   "metadata": {},
   "outputs": [
    {
     "data": {
      "text/html": [
       "<div>\n",
       "<style scoped>\n",
       "    .dataframe tbody tr th:only-of-type {\n",
       "        vertical-align: middle;\n",
       "    }\n",
       "\n",
       "    .dataframe tbody tr th {\n",
       "        vertical-align: top;\n",
       "    }\n",
       "\n",
       "    .dataframe thead th {\n",
       "        text-align: right;\n",
       "    }\n",
       "</style>\n",
       "<table border=\"1\" class=\"dataframe\">\n",
       "  <thead>\n",
       "    <tr style=\"text-align: right;\">\n",
       "      <th></th>\n",
       "      <th>mean</th>\n",
       "      <th>std</th>\n",
       "      <th>time</th>\n",
       "    </tr>\n",
       "  </thead>\n",
       "  <tbody>\n",
       "    <tr>\n",
       "      <th>47</th>\n",
       "      <td>0.868056</td>\n",
       "      <td>0.868056</td>\n",
       "      <td>0.868056</td>\n",
       "    </tr>\n",
       "    <tr>\n",
       "      <th>14</th>\n",
       "      <td>0.868056</td>\n",
       "      <td>0.868056</td>\n",
       "      <td>0.868056</td>\n",
       "    </tr>\n",
       "    <tr>\n",
       "      <th>59</th>\n",
       "      <td>0.866667</td>\n",
       "      <td>0.866667</td>\n",
       "      <td>0.866667</td>\n",
       "    </tr>\n",
       "    <tr>\n",
       "      <th>65</th>\n",
       "      <td>0.865278</td>\n",
       "      <td>0.865278</td>\n",
       "      <td>0.865278</td>\n",
       "    </tr>\n",
       "    <tr>\n",
       "      <th>7</th>\n",
       "      <td>0.856944</td>\n",
       "      <td>0.856944</td>\n",
       "      <td>0.856944</td>\n",
       "    </tr>\n",
       "    <tr>\n",
       "      <th>...</th>\n",
       "      <td>...</td>\n",
       "      <td>...</td>\n",
       "      <td>...</td>\n",
       "    </tr>\n",
       "    <tr>\n",
       "      <th>6</th>\n",
       "      <td>0.798611</td>\n",
       "      <td>0.798611</td>\n",
       "      <td>0.798611</td>\n",
       "    </tr>\n",
       "    <tr>\n",
       "      <th>5</th>\n",
       "      <td>0.798611</td>\n",
       "      <td>0.798611</td>\n",
       "      <td>0.798611</td>\n",
       "    </tr>\n",
       "    <tr>\n",
       "      <th>25</th>\n",
       "      <td>0.797222</td>\n",
       "      <td>0.797222</td>\n",
       "      <td>0.797222</td>\n",
       "    </tr>\n",
       "    <tr>\n",
       "      <th>15</th>\n",
       "      <td>0.795833</td>\n",
       "      <td>0.795833</td>\n",
       "      <td>0.795833</td>\n",
       "    </tr>\n",
       "    <tr>\n",
       "      <th>11</th>\n",
       "      <td>0.795833</td>\n",
       "      <td>0.795833</td>\n",
       "      <td>0.795833</td>\n",
       "    </tr>\n",
       "  </tbody>\n",
       "</table>\n",
       "<p>66 rows × 3 columns</p>\n",
       "</div>"
      ],
      "text/plain": [
       "        mean       std      time\n",
       "47  0.868056  0.868056  0.868056\n",
       "14  0.868056  0.868056  0.868056\n",
       "59  0.866667  0.866667  0.866667\n",
       "65  0.865278  0.865278  0.865278\n",
       "7   0.856944  0.856944  0.856944\n",
       "..       ...       ...       ...\n",
       "6   0.798611  0.798611  0.798611\n",
       "5   0.798611  0.798611  0.798611\n",
       "25  0.797222  0.797222  0.797222\n",
       "15  0.795833  0.795833  0.795833\n",
       "11  0.795833  0.795833  0.795833\n",
       "\n",
       "[66 rows x 3 columns]"
      ]
     },
     "execution_count": 13,
     "metadata": {},
     "output_type": "execute_result"
    }
   ],
   "source": [
    "avg_vary_feat.sort_values(by='mean', ascending=0)"
   ]
  },
  {
   "cell_type": "code",
   "execution_count": 14,
   "id": "b931cb6e",
   "metadata": {},
   "outputs": [],
   "source": [
    "avg_vary_feat.to_csv('../data/cleaned/ex_trees/avg_vary_feat.csv', index=True)"
   ]
  },
  {
   "cell_type": "code",
   "execution_count": 15,
   "id": "edf7c697",
   "metadata": {},
   "outputs": [
    {
     "data": {
      "image/png": "[encoded data removed]",
      "text/plain": [
       "<Figure size 1080x504 with 1 Axes>"
      ]
     },
     "metadata": {
      "filenames": {
       "image/png": "D:\\DCU\\4th_year\\CA4015\\CA4015-AutoML-VS-Ensembles-BioChem\\book\\_build\\jupyter_execute\\extra_trees_17_0.png"
      },
      "needs_background": "light"
     },
     "output_type": "display_data"
    }
   ],
   "source": [
    "pyplot.figure(figsize=(15,7))\n",
    "line1 = pyplot.plot(avg_vary_feat.index, avg_vary_feat['mean'], label='Mean')\n",
    "line2 = pyplot.plot(avg_vary_feat.index, avg_vary_feat['std'], c='yellow', label='Std')\n",
    "pyplot.title('Accuracy of Varying Random Subspace')\n",
    "pyplot.xlabel('Number of Features')\n",
    "pyplot.ylabel('Accuracy')\n",
    "pyplot.legend()\n",
    "pyplot.yticks(ticks=np.arange(0,1.1,0.1))\n",
    "pyplot.xticks(ticks=np.arange(0,66,5))\n",
    "pyplot.savefig('../images/ex_tree/vary_features2.png')\n",
    "pyplot.show()"
   ]
  },
  {
   "cell_type": "markdown",
   "id": "fb53ed90",
   "metadata": {},
   "source": [
    "## Exploring number of minimum splits"
   ]
  },
  {
   "cell_type": "code",
   "execution_count": 16,
   "id": "0e9448cd",
   "metadata": {},
   "outputs": [],
   "source": [
    "min_trees = pd.DataFrame(columns=[\"mean\",\"std\"])"
   ]
  },
  {
   "cell_type": "code",
   "execution_count": 17,
   "id": "923ba62e",
   "metadata": {},
   "outputs": [
    {
     "name": "stdout",
     "output_type": "stream",
     "text": [
      ">2 0.821 (0.137) (0.132)\n",
      ">3 0.844 (0.109) (0.116)\n"
     ]
    },
    {
     "name": "stdout",
     "output_type": "stream",
     "text": [
      ">4 0.833 (0.098) (0.111)\n",
      ">5 0.867 (0.140) (0.104)\n",
      ">6 0.868 (0.102) (0.100)\n"
     ]
    },
    {
     "name": "stdout",
     "output_type": "stream",
     "text": [
      ">7 0.879 (0.123) (0.105)\n",
      ">8 0.843 (0.137) (0.102)\n",
      ">9 0.844 (0.109) (0.102)\n"
     ]
    },
    {
     "name": "stdout",
     "output_type": "stream",
     "text": [
      ">10 0.810 (0.144) (0.100)\n",
      ">11 0.783 (0.165) (0.099)\n"
     ]
    },
    {
     "name": "stdout",
     "output_type": "stream",
     "text": [
      ">12 0.821 (0.096) (0.097)\n",
      ">13 0.774 (0.156) (0.096)\n"
     ]
    },
    {
     "name": "stdout",
     "output_type": "stream",
     "text": [
      ">14 0.786 (0.131) (0.098)\n"
     ]
    },
    {
     "data": {
      "image/png": "[encoded data removed]",
      "text/plain": [
       "<Figure size 432x288 with 1 Axes>"
      ]
     },
     "metadata": {
      "filenames": {
       "image/png": "D:\\DCU\\4th_year\\CA4015\\CA4015-AutoML-VS-Ensembles-BioChem\\book\\_build\\jupyter_execute\\extra_trees_20_6.png"
      },
      "needs_background": "light"
     },
     "output_type": "display_data"
    }
   ],
   "source": [
    "# get a list of models to evaluate\n",
    "def get_models():\n",
    "\tmodels = dict()\n",
    "\t# explore the number of samples per split from 2 to 14\n",
    "\tfor i in range(2, 15):\n",
    "\t\tmodels[str(i)] = ExtraTreesClassifier(min_samples_split=i)\n",
    "\treturn models\n",
    "\n",
    "#get models to evaluate\n",
    "models = get_models()\n",
    "# evaluate the models and store results\n",
    "results, names, times = list(), list(), list()\n",
    "for name, model in models.items():\n",
    "\t# evaluate the model\n",
    "\tstart = time.time()\n",
    "\tscores = evaluate_model(model, X, y)\n",
    "\tend = time.time()\n",
    "\t# store the results\n",
    "\ttimes.append(end-start)\n",
    "\tresults.append(scores)\n",
    "\tnames.append(name)\n",
    "\t# summarize the performance along the way\n",
    "\ts = pd.Series(data=[np.mean(scores), np.std(scores), np.mean(times)],name=name, index=['mean','std', 'time'])\n",
    "\tmin_trees = min_trees.append(s)\n",
    "\tprint('>%s %.3f (%.3f) (%.3f)' % (name, np.mean(scores), np.std(scores), np.mean(times)))\n",
    "# plot model performance for comparison\n",
    "pyplot.boxplot(results, labels=names, showmeans=True)\n",
    "pyplot.title('Minimum Number of Splits by Accuracy')\n",
    "pyplot.show()"
   ]
  },
  {
   "cell_type": "code",
   "execution_count": 18,
   "id": "47a5329e",
   "metadata": {},
   "outputs": [],
   "source": [
    "#find average of all stored results\n",
    "avg_min_trees = pd.DataFrame(columns=['mean', 'std', 'time'])\n",
    "for i in range(2, 15):\n",
    "    i = str(i)\n",
    "    s = pd.Series(min_trees.T[i][0], name=i, index=['mean','std', 'time'])\n",
    "    avg_min_trees = avg_min_trees.append(s)"
   ]
  },
  {
   "cell_type": "code",
   "execution_count": 19,
   "id": "c499dd91",
   "metadata": {},
   "outputs": [
    {
     "data": {
      "text/html": [
       "<div>\n",
       "<style scoped>\n",
       "    .dataframe tbody tr th:only-of-type {\n",
       "        vertical-align: middle;\n",
       "    }\n",
       "\n",
       "    .dataframe tbody tr th {\n",
       "        vertical-align: top;\n",
       "    }\n",
       "\n",
       "    .dataframe thead th {\n",
       "        text-align: right;\n",
       "    }\n",
       "</style>\n",
       "<table border=\"1\" class=\"dataframe\">\n",
       "  <thead>\n",
       "    <tr style=\"text-align: right;\">\n",
       "      <th></th>\n",
       "      <th>mean</th>\n",
       "      <th>std</th>\n",
       "      <th>time</th>\n",
       "    </tr>\n",
       "  </thead>\n",
       "  <tbody>\n",
       "    <tr>\n",
       "      <th>7</th>\n",
       "      <td>0.879167</td>\n",
       "      <td>0.879167</td>\n",
       "      <td>0.879167</td>\n",
       "    </tr>\n",
       "    <tr>\n",
       "      <th>6</th>\n",
       "      <td>0.868056</td>\n",
       "      <td>0.868056</td>\n",
       "      <td>0.868056</td>\n",
       "    </tr>\n",
       "    <tr>\n",
       "      <th>5</th>\n",
       "      <td>0.866667</td>\n",
       "      <td>0.866667</td>\n",
       "      <td>0.866667</td>\n",
       "    </tr>\n",
       "    <tr>\n",
       "      <th>3</th>\n",
       "      <td>0.844444</td>\n",
       "      <td>0.844444</td>\n",
       "      <td>0.844444</td>\n",
       "    </tr>\n",
       "    <tr>\n",
       "      <th>9</th>\n",
       "      <td>0.844444</td>\n",
       "      <td>0.844444</td>\n",
       "      <td>0.844444</td>\n",
       "    </tr>\n",
       "    <tr>\n",
       "      <th>8</th>\n",
       "      <td>0.843056</td>\n",
       "      <td>0.843056</td>\n",
       "      <td>0.843056</td>\n",
       "    </tr>\n",
       "    <tr>\n",
       "      <th>4</th>\n",
       "      <td>0.833333</td>\n",
       "      <td>0.833333</td>\n",
       "      <td>0.833333</td>\n",
       "    </tr>\n",
       "    <tr>\n",
       "      <th>2</th>\n",
       "      <td>0.820833</td>\n",
       "      <td>0.820833</td>\n",
       "      <td>0.820833</td>\n",
       "    </tr>\n",
       "    <tr>\n",
       "      <th>12</th>\n",
       "      <td>0.820833</td>\n",
       "      <td>0.820833</td>\n",
       "      <td>0.820833</td>\n",
       "    </tr>\n",
       "    <tr>\n",
       "      <th>10</th>\n",
       "      <td>0.809722</td>\n",
       "      <td>0.809722</td>\n",
       "      <td>0.809722</td>\n",
       "    </tr>\n",
       "    <tr>\n",
       "      <th>14</th>\n",
       "      <td>0.786111</td>\n",
       "      <td>0.786111</td>\n",
       "      <td>0.786111</td>\n",
       "    </tr>\n",
       "    <tr>\n",
       "      <th>11</th>\n",
       "      <td>0.783333</td>\n",
       "      <td>0.783333</td>\n",
       "      <td>0.783333</td>\n",
       "    </tr>\n",
       "    <tr>\n",
       "      <th>13</th>\n",
       "      <td>0.773611</td>\n",
       "      <td>0.773611</td>\n",
       "      <td>0.773611</td>\n",
       "    </tr>\n",
       "  </tbody>\n",
       "</table>\n",
       "</div>"
      ],
      "text/plain": [
       "        mean       std      time\n",
       "7   0.879167  0.879167  0.879167\n",
       "6   0.868056  0.868056  0.868056\n",
       "5   0.866667  0.866667  0.866667\n",
       "3   0.844444  0.844444  0.844444\n",
       "9   0.844444  0.844444  0.844444\n",
       "8   0.843056  0.843056  0.843056\n",
       "4   0.833333  0.833333  0.833333\n",
       "2   0.820833  0.820833  0.820833\n",
       "12  0.820833  0.820833  0.820833\n",
       "10  0.809722  0.809722  0.809722\n",
       "14  0.786111  0.786111  0.786111\n",
       "11  0.783333  0.783333  0.783333\n",
       "13  0.773611  0.773611  0.773611"
      ]
     },
     "execution_count": 19,
     "metadata": {},
     "output_type": "execute_result"
    }
   ],
   "source": [
    "avg_min_trees.sort_values(by='mean', ascending=0)"
   ]
  },
  {
   "cell_type": "code",
   "execution_count": 20,
   "id": "e6536825",
   "metadata": {},
   "outputs": [
    {
     "data": {
      "image/png": "[encoded data removed]",
      "text/plain": [
       "<Figure size 432x288 with 1 Axes>"
      ]
     },
     "metadata": {
      "filenames": {
       "image/png": "D:\\DCU\\4th_year\\CA4015\\CA4015-AutoML-VS-Ensembles-BioChem\\book\\_build\\jupyter_execute\\extra_trees_23_0.png"
      },
      "needs_background": "light"
     },
     "output_type": "display_data"
    }
   ],
   "source": [
    "line1 = pyplot.plot(avg_min_trees.index, avg_min_trees['mean'], label='Mean')\n",
    "line2 = pyplot.plot(avg_min_trees.index, avg_min_trees['std'], c='yellow', label='Std')\n",
    "pyplot.title('Accuracy of Varying Number of Splits')\n",
    "pyplot.xlabel('Number of Splits')\n",
    "pyplot.ylabel('Accuracy')\n",
    "pyplot.legend()\n",
    "pyplot.yticks(ticks=np.arange(0,1.1,0.1))\n",
    "pyplot.savefig('../images/ex_tree/vary_splits2.png')\n",
    "pyplot.show()"
   ]
  },
  {
   "cell_type": "code",
   "execution_count": 21,
   "id": "0cd83f1b",
   "metadata": {},
   "outputs": [],
   "source": [
    "avg_min_trees.to_csv('../data/cleaned/ex_trees/avg_min_split.csv', index=True)"
   ]
  },
  {
   "cell_type": "markdown",
   "id": "0b236ea2",
   "metadata": {},
   "source": [
    "## Best Performing Model According to experimentation\n",
    "1. amount of trees = 100\n",
    "2. number of features = all (66) ??\n",
    "3. number of minimum splits = 2\n",
    "\n",
    "Experimentation has proved that for the most part, the default values of Extra Tree's hyperparameters are not the best suited values for this particular model. Through thorough experimentation, we deduce that the number of minimum splits is best suited to 7 in this particular case over time. Although it should be noted that the gain in variance and standard deviation is miniscule. As well as this, similarly to the random forest model, experimentation results suggest that the number of features to be included remains ambiguous. The general rule of thumb for the number of features to be used in a classification task is the sqrt(number of features), which in our case rounds to 8. However, including only 1 to 10 features on average achieves the lowest results for mean accuracy, although the std is marginally smaller than for other hyperparameter selections such as 50."
   ]
  },
  {
   "cell_type": "code",
   "execution_count": 22,
   "id": "c1245a84",
   "metadata": {},
   "outputs": [],
   "source": [
    "final_results = pd.DataFrame(columns=['mean accuracy', 'mean std'])"
   ]
  },
  {
   "cell_type": "code",
   "execution_count": 23,
   "id": "c5af8fb6",
   "metadata": {},
   "outputs": [],
   "source": [
    "final_model = ExtraTreesClassifier(n_estimators=100, max_features='sqrt', min_samples_split=2)\n",
    "\n",
    "# define dataset\n",
    "X, y = filled.iloc[:,3:], filled.iloc[:,1]\n",
    "\n",
    "results, names = list(), list()\n",
    "for i in range(50):\n",
    "    scores = evaluate_model(model, X, y)\n",
    "    results.append(scores)\n",
    "    names.append(name)\n",
    "    s = pd.Series(data=[np.mean(scores), np.std(scores)],name=name, index=['mean','std'])\n",
    "    final_results = final_results.append(s)\n"
   ]
  },
  {
   "cell_type": "code",
   "execution_count": 24,
   "id": "0646264e",
   "metadata": {},
   "outputs": [
    {
     "data": {
      "text/plain": [
       "mean accuracy         NaN\n",
       "mean std              NaN\n",
       "mean             0.790972\n",
       "std              0.139532\n",
       "dtype: float64"
      ]
     },
     "execution_count": 24,
     "metadata": {},
     "output_type": "execute_result"
    }
   ],
   "source": [
    "final_results.mean()"
   ]
  }
 ],
 "metadata": {
  "kernelspec": {
   "display_name": "Python 3",
   "language": "python",
   "name": "python3"
  },
  "language_info": {
   "codemirror_mode": {
    "name": "ipython",
    "version": 3
   },
   "file_extension": ".py",
   "mimetype": "text/x-python",
   "name": "python",
   "nbconvert_exporter": "python",
   "pygments_lexer": "ipython3",
   "version": "3.8.10"
  }
 },
 "nbformat": 4,
 "nbformat_minor": 5
}