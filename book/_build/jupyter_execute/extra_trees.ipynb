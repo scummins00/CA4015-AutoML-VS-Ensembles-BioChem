{
 "cells": [
  {
   "cell_type": "markdown",
   "id": "54c54d80",
   "metadata": {},
   "source": [
    "# Extra Trees\n",
    "In the following Jupyter Notebook, we will be using the Extra Trees or **Extremely Randomized Trees** algorithm ensemble with k-fold cross validation on the Volatile Organic Compound GCMS readings. "
   ]
  },
  {
   "cell_type": "code",
   "execution_count": 1,
   "id": "24876a3b",
   "metadata": {},
   "outputs": [],
   "source": [
    "# evaluate a given model using cross-validation\n",
    "def evaluate_model(model, X, y):\n",
    "\t# define the evaluation procedure\n",
    "\tcv = KFold(n_splits=10, shuffle=True, random_state=1)\n",
    "\t# evaluate the model and collect the results\n",
    "\tscores = cross_val_score(model, X, y, scoring='accuracy', cv=cv, n_jobs=-1)\n",
    "\treturn scores"
   ]
  },
  {
   "cell_type": "markdown",
   "id": "81d009fa",
   "metadata": {},
   "source": [
    "# Explore different amounts of trees"
   ]
  },
  {
   "cell_type": "code",
   "execution_count": 2,
   "id": "d802940e",
   "metadata": {},
   "outputs": [],
   "source": [
    "import time\n",
    "import numpy as np\n",
    "import pandas as pd\n",
    "from sklearn.datasets import make_classification\n",
    "from sklearn.model_selection import cross_val_score\n",
    "from sklearn.model_selection import KFold\n",
    "from sklearn.ensemble import ExtraTreesClassifier\n",
    "from matplotlib import pyplot"
   ]
  },
  {
   "cell_type": "code",
   "execution_count": 3,
   "id": "7f2a9d97",
   "metadata": {},
   "outputs": [],
   "source": [
    "#get data\n",
    "raw = pd.read_csv('../data/cleaned/long.csv')\n",
    "filled = raw.fillna(0)"
   ]
  },
  {
   "cell_type": "code",
   "execution_count": 4,
   "id": "5ea3ae49",
   "metadata": {},
   "outputs": [],
   "source": [
    "#store results from formula below\n",
    "vary_trees = pd.DataFrame(columns=[\"mean\",\"std\"])"
   ]
  },
  {
   "cell_type": "code",
   "execution_count": 5,
   "id": "b54b6087",
   "metadata": {},
   "outputs": [
    {
     "name": "stdout",
     "output_type": "stream",
     "text": [
      ">10 0.787 (0.200) (1.172)\n"
     ]
    },
    {
     "name": "stdout",
     "output_type": "stream",
     "text": [
      ">50 0.833 (0.098) (0.937)\n"
     ]
    },
    {
     "name": "stdout",
     "output_type": "stream",
     "text": [
      ">100 0.818 (0.128) (0.826)\n",
      ">150 0.831 (0.145) (0.660)\n"
     ]
    },
    {
     "name": "stdout",
     "output_type": "stream",
     "text": [
      ">200 0.833 (0.133) (0.562)\n",
      ">250 0.832 (0.146) (0.504)\n"
     ]
    },
    {
     "name": "stdout",
     "output_type": "stream",
     "text": [
      ">300 0.844 (0.120) (0.467)\n"
     ]
    },
    {
     "name": "stdout",
     "output_type": "stream",
     "text": [
      ">350 0.808 (0.134) (0.443)\n"
     ]
    },
    {
     "name": "stdout",
     "output_type": "stream",
     "text": [
      ">500 0.821 (0.111) (0.437)\n"
     ]
    },
    {
     "name": "stdout",
     "output_type": "stream",
     "text": [
      ">750 0.832 (0.123) (0.453)\n"
     ]
    },
    {
     "name": "stdout",
     "output_type": "stream",
     "text": [
      ">1000 0.832 (0.112) (0.480)\n"
     ]
    },
    {
     "data": {
      "image/png": "[encoded data removed]",
      "text/plain": [
       "<Figure size 432x288 with 1 Axes>"
      ]
     },
     "metadata": {
      "filenames": {
       "image/png": "D:\\DCU\\4th_year\\CA4015\\CA4015-AutoML-VS-Ensembles-BioChem\\book\\_build\\jupyter_execute\\extra_trees_6_9.png"
      },
      "needs_background": "light"
     },
     "output_type": "display_data"
    }
   ],
   "source": [
    "# get a list of models to evaluate\n",
    "def get_models():\n",
    "\tmodels = dict()\n",
    "\t# define number of trees to consider\n",
    "\tn_trees = [10, 50, 100, 150, 200, 250, 300, 350, 500, 750, 1000]\n",
    "\tfor n in n_trees:\n",
    "\t\tmodels[str(n)] = ExtraTreesClassifier(n_estimators=n)\n",
    "\treturn models\n",
    " \n",
    "# define dataset\n",
    "X, y = filled.iloc[:,3:], filled.iloc[:,1]\n",
    "# get the models to evaluate\n",
    "models = get_models()\n",
    "# evaluate the models and store results\n",
    "results, names, times = list(), list(), list()\n",
    "for name, model in models.items():\n",
    "\t# evaluate the model\n",
    "\tstart = time.time()\n",
    "\tscores = evaluate_model(model, X, y)\n",
    "\tend = time.time()\n",
    "\t# store the results\n",
    "\ttimes.append(end-start)\n",
    "\tresults.append(scores)\n",
    "\tnames.append(name)\n",
    "\t# summarize the performance along the way\n",
    "\ts = pd.Series(data=[np.mean(scores), np.std(scores), np.mean(times)],name=name, index=['mean','std', 'time'])\n",
    "\tvary_trees = vary_trees.append(s)\n",
    "\tprint('>%s %.3f (%.3f) (%.3f)' % (name, np.mean(scores), np.std(scores), np.mean(times)))\n",
    "# plot model performance for comparison\n",
    "pyplot.boxplot(results, labels=names, showmeans=True)\n",
    "pyplot.title('Varying The Amount of Trees')\n",
    "pyplot.xlabel('Number of Trees')\n",
    "pyplot.ylabel('Accuracy')\n",
    "pyplot.savefig('../images/ex_tree/vary_trees.png')\n",
    "pyplot.show()"
   ]
  },
  {
   "cell_type": "code",
   "execution_count": 6,
   "id": "672dd930",
   "metadata": {},
   "outputs": [],
   "source": [
    "#find average of all stored results\n",
    "avg_vary_trees = pd.DataFrame(columns=['mean', 'std', 'time'])\n",
    "for i in [10, 50, 100, 150, 200, 250, 300, 350, 500, 750, 1000]:\n",
    "    i = str(i)\n",
    "    s = pd.Series(vary_trees.T[i][0], name=str(i), index=['mean','std', 'time'])\n",
    "    avg_vary_trees = avg_vary_trees.append(s)"
   ]
  },
  {
   "cell_type": "code",
   "execution_count": 7,
   "id": "f746545c",
   "metadata": {},
   "outputs": [
    {
     "data": {
      "text/html": [
       "<div>\n",
       "<style scoped>\n",
       "    .dataframe tbody tr th:only-of-type {\n",
       "        vertical-align: middle;\n",
       "    }\n",
       "\n",
       "    .dataframe tbody tr th {\n",
       "        vertical-align: top;\n",
       "    }\n",
       "\n",
       "    .dataframe thead th {\n",
       "        text-align: right;\n",
       "    }\n",
       "</style>\n",
       "<table border=\"1\" class=\"dataframe\">\n",
       "  <thead>\n",
       "    <tr style=\"text-align: right;\">\n",
       "      <th></th>\n",
       "      <th>mean</th>\n",
       "      <th>std</th>\n",
       "      <th>time</th>\n",
       "    </tr>\n",
       "  </thead>\n",
       "  <tbody>\n",
       "    <tr>\n",
       "      <th>300</th>\n",
       "      <td>0.844444</td>\n",
       "      <td>0.844444</td>\n",
       "      <td>0.844444</td>\n",
       "    </tr>\n",
       "    <tr>\n",
       "      <th>50</th>\n",
       "      <td>0.833333</td>\n",
       "      <td>0.833333</td>\n",
       "      <td>0.833333</td>\n",
       "    </tr>\n",
       "    <tr>\n",
       "      <th>200</th>\n",
       "      <td>0.833333</td>\n",
       "      <td>0.833333</td>\n",
       "      <td>0.833333</td>\n",
       "    </tr>\n",
       "    <tr>\n",
       "      <th>250</th>\n",
       "      <td>0.831944</td>\n",
       "      <td>0.831944</td>\n",
       "      <td>0.831944</td>\n",
       "    </tr>\n",
       "    <tr>\n",
       "      <th>750</th>\n",
       "      <td>0.831944</td>\n",
       "      <td>0.831944</td>\n",
       "      <td>0.831944</td>\n",
       "    </tr>\n",
       "    <tr>\n",
       "      <th>1000</th>\n",
       "      <td>0.831944</td>\n",
       "      <td>0.831944</td>\n",
       "      <td>0.831944</td>\n",
       "    </tr>\n",
       "    <tr>\n",
       "      <th>150</th>\n",
       "      <td>0.830556</td>\n",
       "      <td>0.830556</td>\n",
       "      <td>0.830556</td>\n",
       "    </tr>\n",
       "  </tbody>\n",
       "</table>\n",
       "</div>"
      ],
      "text/plain": [
       "          mean       std      time\n",
       "300   0.844444  0.844444  0.844444\n",
       "50    0.833333  0.833333  0.833333\n",
       "200   0.833333  0.833333  0.833333\n",
       "250   0.831944  0.831944  0.831944\n",
       "750   0.831944  0.831944  0.831944\n",
       "1000  0.831944  0.831944  0.831944\n",
       "150   0.830556  0.830556  0.830556"
      ]
     },
     "execution_count": 7,
     "metadata": {},
     "output_type": "execute_result"
    }
   ],
   "source": [
    "avg_vary_trees.sort_values(by='mean', ascending=0).head(7)"
   ]
  },
  {
   "cell_type": "code",
   "execution_count": 8,
   "id": "de459788",
   "metadata": {},
   "outputs": [],
   "source": [
    "avg_vary_trees.to_csv('../data/cleaned/ex_trees/avg_vary_trees.csv', index=True)"
   ]
  },
  {
   "cell_type": "code",
   "execution_count": 9,
   "id": "0e743cee",
   "metadata": {},
   "outputs": [
    {
     "data": {
      "image/png": "[encoded data removed]",
      "text/plain": [
       "<Figure size 432x288 with 1 Axes>"
      ]
     },
     "metadata": {
      "filenames": {
       "image/png": "D:\\DCU\\4th_year\\CA4015\\CA4015-AutoML-VS-Ensembles-BioChem\\book\\_build\\jupyter_execute\\extra_trees_10_0.png"
      },
      "needs_background": "light"
     },
     "output_type": "display_data"
    }
   ],
   "source": [
    "line1 = pyplot.plot(avg_vary_trees.index, avg_vary_trees['mean'], label='Mean')\n",
    "line2 = pyplot.plot(avg_vary_trees.index, avg_vary_trees['std'], c='yellow', label='Std')\n",
    "pyplot.title('Accuracy by Varying Trees')\n",
    "pyplot.xlabel('Number of Trees')\n",
    "pyplot.ylabel('Accuracy')\n",
    "pyplot.legend()\n",
    "pyplot.yticks(ticks=np.arange(0,1.1,0.1))\n",
    "pyplot.savefig('../images/ex_tree/vary_trees2.png')\n",
    "pyplot.show()"
   ]
  },
  {
   "cell_type": "markdown",
   "id": "4b92e95b",
   "metadata": {},
   "source": [
    "## Explore different amounts of features"
   ]
  },
  {
   "cell_type": "code",
   "execution_count": 10,
   "id": "d8dcc632",
   "metadata": {},
   "outputs": [],
   "source": [
    "#store results from formula below\n",
    "vary_feat = pd.DataFrame(columns=[\"mean\",\"std\"])"
   ]
  },
  {
   "cell_type": "code",
   "execution_count": 11,
   "id": "71801503",
   "metadata": {},
   "outputs": [
    {
     "data": {
      "image/png": "[encoded data removed]",
      "text/plain": [
       "<Figure size 432x288 with 1 Axes>"
      ]
     },
     "metadata": {
      "filenames": {
       "image/png": "D:\\DCU\\4th_year\\CA4015\\CA4015-AutoML-VS-Ensembles-BioChem\\book\\_build\\jupyter_execute\\extra_trees_13_0.png"
      },
      "needs_background": "light"
     },
     "output_type": "display_data"
    }
   ],
   "source": [
    "# get a list of models to evaluate\n",
    "def get_models():\n",
    "\tmodels = dict()\n",
    "\t# explore number of features from 1 to 20\n",
    "\tdepths = [i for i in range(1,67)] + [None]\n",
    "\tfor i in range(1, 67):\n",
    "\t\tmodels[str(i)] = ExtraTreesClassifier(max_features=i)\n",
    "\treturn models\n",
    " \n",
    "# define dataset\n",
    "X, y = filled.iloc[:,3:], filled.iloc[:,1]\n",
    "# get the models to evaluate\n",
    "models = get_models()\n",
    "# evaluate the models and store results\n",
    "results, names, times = list(), list(), list()\n",
    "for name, model in models.items():\n",
    "\t# evaluate the model\n",
    "\tstart = time.time()\n",
    "\tscores = evaluate_model(model, X, y)\n",
    "\tend = time.time()\n",
    "\t# store the results\n",
    "\ttimes.append(end-start)\n",
    "\tresults.append(scores)\n",
    "\tnames.append(name)\n",
    "\t# summarize the performance along the way\n",
    "\ts = pd.Series(data=[np.mean(scores), np.std(scores), np.mean(times)],name=name, index=['mean','std', 'time'])\n",
    "\tvary_feat = vary_feat.append(s)\n",
    "\n",
    "# plot model performance for comparison\n",
    "pyplot.boxplot(results, labels=names, showmeans=True)\n",
    "pyplot.show()"
   ]
  },
  {
   "cell_type": "code",
   "execution_count": 12,
   "id": "33a2eda8",
   "metadata": {},
   "outputs": [
    {
     "ename": "ValueError",
     "evalue": "No axis named 1 for object type <class 'pandas.core.series.Series'>",
     "output_type": "error",
     "traceback": [
      "\u001b[1;31m---------------------------------------------------------------------------\u001b[0m",
      "\u001b[1;31mValueError\u001b[0m                                Traceback (most recent call last)",
      "\u001b[1;32m~\\AppData\\Local\\Temp/ipykernel_19200/325629898.py\u001b[0m in \u001b[0;36m<module>\u001b[1;34m\u001b[0m\n\u001b[0;32m      3\u001b[0m \u001b[1;32mfor\u001b[0m \u001b[0mi\u001b[0m \u001b[1;32min\u001b[0m \u001b[0mrange\u001b[0m\u001b[1;33m(\u001b[0m\u001b[1;36m1\u001b[0m\u001b[1;33m,\u001b[0m \u001b[1;36m67\u001b[0m\u001b[1;33m)\u001b[0m\u001b[1;33m:\u001b[0m\u001b[1;33m\u001b[0m\u001b[1;33m\u001b[0m\u001b[0m\n\u001b[0;32m      4\u001b[0m     \u001b[0mi\u001b[0m \u001b[1;33m=\u001b[0m \u001b[0mstr\u001b[0m\u001b[1;33m(\u001b[0m\u001b[0mi\u001b[0m\u001b[1;33m)\u001b[0m\u001b[1;33m\u001b[0m\u001b[1;33m\u001b[0m\u001b[0m\n\u001b[1;32m----> 5\u001b[1;33m     \u001b[0ms\u001b[0m \u001b[1;33m=\u001b[0m \u001b[0mpd\u001b[0m\u001b[1;33m.\u001b[0m\u001b[0mSeries\u001b[0m\u001b[1;33m(\u001b[0m\u001b[0mvary_feat\u001b[0m\u001b[1;33m.\u001b[0m\u001b[0mT\u001b[0m\u001b[1;33m[\u001b[0m\u001b[0mi\u001b[0m\u001b[1;33m]\u001b[0m\u001b[1;33m.\u001b[0m\u001b[0mmean\u001b[0m\u001b[1;33m(\u001b[0m\u001b[0maxis\u001b[0m\u001b[1;33m=\u001b[0m\u001b[1;36m1\u001b[0m\u001b[1;33m)\u001b[0m\u001b[1;33m,\u001b[0m \u001b[0mname\u001b[0m\u001b[1;33m=\u001b[0m\u001b[0mi\u001b[0m\u001b[1;33m,\u001b[0m \u001b[0mindex\u001b[0m\u001b[1;33m=\u001b[0m\u001b[1;33m[\u001b[0m\u001b[1;34m'mean'\u001b[0m\u001b[1;33m,\u001b[0m\u001b[1;34m'std'\u001b[0m\u001b[1;33m,\u001b[0m \u001b[1;34m'time'\u001b[0m\u001b[1;33m]\u001b[0m\u001b[1;33m)\u001b[0m\u001b[1;33m\u001b[0m\u001b[1;33m\u001b[0m\u001b[0m\n\u001b[0m\u001b[0;32m      6\u001b[0m     \u001b[0mavg_vary_feat\u001b[0m \u001b[1;33m=\u001b[0m \u001b[0mavg_vary_feat\u001b[0m\u001b[1;33m.\u001b[0m\u001b[0mappend\u001b[0m\u001b[1;33m(\u001b[0m\u001b[0ms\u001b[0m\u001b[1;33m)\u001b[0m\u001b[1;33m\u001b[0m\u001b[1;33m\u001b[0m\u001b[0m\n",
      "\u001b[1;32m~\\AppData\\Roaming\\Python\\Python38\\site-packages\\pandas\\core\\generic.py\u001b[0m in \u001b[0;36mstat_func\u001b[1;34m(self, axis, skipna, level, numeric_only, **kwargs)\u001b[0m\n\u001b[0;32m  11212\u001b[0m         \u001b[1;32mif\u001b[0m \u001b[0mlevel\u001b[0m \u001b[1;32mis\u001b[0m \u001b[1;32mnot\u001b[0m \u001b[1;32mNone\u001b[0m\u001b[1;33m:\u001b[0m\u001b[1;33m\u001b[0m\u001b[1;33m\u001b[0m\u001b[0m\n\u001b[0;32m  11213\u001b[0m             \u001b[1;32mreturn\u001b[0m \u001b[0mself\u001b[0m\u001b[1;33m.\u001b[0m\u001b[0m_agg_by_level\u001b[0m\u001b[1;33m(\u001b[0m\u001b[0mname\u001b[0m\u001b[1;33m,\u001b[0m \u001b[0maxis\u001b[0m\u001b[1;33m=\u001b[0m\u001b[0maxis\u001b[0m\u001b[1;33m,\u001b[0m \u001b[0mlevel\u001b[0m\u001b[1;33m=\u001b[0m\u001b[0mlevel\u001b[0m\u001b[1;33m,\u001b[0m \u001b[0mskipna\u001b[0m\u001b[1;33m=\u001b[0m\u001b[0mskipna\u001b[0m\u001b[1;33m)\u001b[0m\u001b[1;33m\u001b[0m\u001b[1;33m\u001b[0m\u001b[0m\n\u001b[1;32m> 11214\u001b[1;33m         return self._reduce(\n\u001b[0m\u001b[0;32m  11215\u001b[0m             \u001b[0mf\u001b[0m\u001b[1;33m,\u001b[0m \u001b[0mname\u001b[0m\u001b[1;33m,\u001b[0m \u001b[0maxis\u001b[0m\u001b[1;33m=\u001b[0m\u001b[0maxis\u001b[0m\u001b[1;33m,\u001b[0m \u001b[0mskipna\u001b[0m\u001b[1;33m=\u001b[0m\u001b[0mskipna\u001b[0m\u001b[1;33m,\u001b[0m \u001b[0mnumeric_only\u001b[0m\u001b[1;33m=\u001b[0m\u001b[0mnumeric_only\u001b[0m\u001b[1;33m\u001b[0m\u001b[1;33m\u001b[0m\u001b[0m\n\u001b[0;32m  11216\u001b[0m         )\n",
      "\u001b[1;32m~\\AppData\\Roaming\\Python\\Python38\\site-packages\\pandas\\core\\series.py\u001b[0m in \u001b[0;36m_reduce\u001b[1;34m(self, op, name, axis, skipna, numeric_only, filter_type, **kwds)\u001b[0m\n\u001b[0;32m   3867\u001b[0m \u001b[1;33m\u001b[0m\u001b[0m\n\u001b[0;32m   3868\u001b[0m         \u001b[1;32mif\u001b[0m \u001b[0maxis\u001b[0m \u001b[1;32mis\u001b[0m \u001b[1;32mnot\u001b[0m \u001b[1;32mNone\u001b[0m\u001b[1;33m:\u001b[0m\u001b[1;33m\u001b[0m\u001b[1;33m\u001b[0m\u001b[0m\n\u001b[1;32m-> 3869\u001b[1;33m             \u001b[0mself\u001b[0m\u001b[1;33m.\u001b[0m\u001b[0m_get_axis_number\u001b[0m\u001b[1;33m(\u001b[0m\u001b[0maxis\u001b[0m\u001b[1;33m)\u001b[0m\u001b[1;33m\u001b[0m\u001b[1;33m\u001b[0m\u001b[0m\n\u001b[0m\u001b[0;32m   3870\u001b[0m \u001b[1;33m\u001b[0m\u001b[0m\n\u001b[0;32m   3871\u001b[0m         \u001b[1;32mif\u001b[0m \u001b[0misinstance\u001b[0m\u001b[1;33m(\u001b[0m\u001b[0mdelegate\u001b[0m\u001b[1;33m,\u001b[0m \u001b[0mCategorical\u001b[0m\u001b[1;33m)\u001b[0m\u001b[1;33m:\u001b[0m\u001b[1;33m\u001b[0m\u001b[1;33m\u001b[0m\u001b[0m\n",
      "\u001b[1;32m~\\AppData\\Roaming\\Python\\Python38\\site-packages\\pandas\\core\\generic.py\u001b[0m in \u001b[0;36m_get_axis_number\u001b[1;34m(cls, axis)\u001b[0m\n\u001b[0;32m    405\u001b[0m             \u001b[1;32mexcept\u001b[0m \u001b[0mKeyError\u001b[0m\u001b[1;33m:\u001b[0m\u001b[1;33m\u001b[0m\u001b[1;33m\u001b[0m\u001b[0m\n\u001b[0;32m    406\u001b[0m                 \u001b[1;32mpass\u001b[0m\u001b[1;33m\u001b[0m\u001b[1;33m\u001b[0m\u001b[0m\n\u001b[1;32m--> 407\u001b[1;33m         \u001b[1;32mraise\u001b[0m \u001b[0mValueError\u001b[0m\u001b[1;33m(\u001b[0m\u001b[1;34mf\"No axis named {axis} for object type {cls}\"\u001b[0m\u001b[1;33m)\u001b[0m\u001b[1;33m\u001b[0m\u001b[1;33m\u001b[0m\u001b[0m\n\u001b[0m\u001b[0;32m    408\u001b[0m \u001b[1;33m\u001b[0m\u001b[0m\n\u001b[0;32m    409\u001b[0m     \u001b[1;33m@\u001b[0m\u001b[0mclassmethod\u001b[0m\u001b[1;33m\u001b[0m\u001b[1;33m\u001b[0m\u001b[0m\n",
      "\u001b[1;31mValueError\u001b[0m: No axis named 1 for object type <class 'pandas.core.series.Series'>"
     ]
    }
   ],
   "source": [
    "#find average of all stored results\n",
    "avg_vary_feat = pd.DataFrame(columns=['mean', 'std', 'time'])\n",
    "for i in range(1, 67):\n",
    "    i = str(i)\n",
    "    s = pd.Series(vary_feat.T[i].mean(axis=1), name=i, index=['mean','std', 'time'])\n",
    "    avg_vary_feat = avg_vary_feat.append(s)"
   ]
  },
  {
   "cell_type": "code",
   "execution_count": 168,
   "id": "123934f3",
   "metadata": {},
   "outputs": [
    {
     "data": {
      "text/html": [
       "<div>\n",
       "<style scoped>\n",
       "    .dataframe tbody tr th:only-of-type {\n",
       "        vertical-align: middle;\n",
       "    }\n",
       "\n",
       "    .dataframe tbody tr th {\n",
       "        vertical-align: top;\n",
       "    }\n",
       "\n",
       "    .dataframe thead th {\n",
       "        text-align: right;\n",
       "    }\n",
       "</style>\n",
       "<table border=\"1\" class=\"dataframe\">\n",
       "  <thead>\n",
       "    <tr style=\"text-align: right;\">\n",
       "      <th></th>\n",
       "      <th>mean</th>\n",
       "      <th>std</th>\n",
       "      <th>time</th>\n",
       "    </tr>\n",
       "  </thead>\n",
       "  <tbody>\n",
       "    <tr>\n",
       "      <th>28</th>\n",
       "      <td>0.860185</td>\n",
       "      <td>0.120365</td>\n",
       "      <td>0.431922</td>\n",
       "    </tr>\n",
       "    <tr>\n",
       "      <th>60</th>\n",
       "      <td>0.855556</td>\n",
       "      <td>0.119315</td>\n",
       "      <td>0.468235</td>\n",
       "    </tr>\n",
       "    <tr>\n",
       "      <th>19</th>\n",
       "      <td>0.855093</td>\n",
       "      <td>0.120220</td>\n",
       "      <td>0.423872</td>\n",
       "    </tr>\n",
       "    <tr>\n",
       "      <th>12</th>\n",
       "      <td>0.855093</td>\n",
       "      <td>0.115732</td>\n",
       "      <td>0.419409</td>\n",
       "    </tr>\n",
       "    <tr>\n",
       "      <th>62</th>\n",
       "      <td>0.854167</td>\n",
       "      <td>0.137710</td>\n",
       "      <td>0.470093</td>\n",
       "    </tr>\n",
       "    <tr>\n",
       "      <th>...</th>\n",
       "      <td>...</td>\n",
       "      <td>...</td>\n",
       "      <td>...</td>\n",
       "    </tr>\n",
       "    <tr>\n",
       "      <th>2</th>\n",
       "      <td>0.807870</td>\n",
       "      <td>0.133455</td>\n",
       "      <td>0.416042</td>\n",
       "    </tr>\n",
       "    <tr>\n",
       "      <th>8</th>\n",
       "      <td>0.804630</td>\n",
       "      <td>0.130038</td>\n",
       "      <td>0.425770</td>\n",
       "    </tr>\n",
       "    <tr>\n",
       "      <th>5</th>\n",
       "      <td>0.800000</td>\n",
       "      <td>0.134741</td>\n",
       "      <td>0.416812</td>\n",
       "    </tr>\n",
       "    <tr>\n",
       "      <th>3</th>\n",
       "      <td>0.798148</td>\n",
       "      <td>0.128908</td>\n",
       "      <td>0.414176</td>\n",
       "    </tr>\n",
       "    <tr>\n",
       "      <th>4</th>\n",
       "      <td>0.792593</td>\n",
       "      <td>0.132343</td>\n",
       "      <td>0.418531</td>\n",
       "    </tr>\n",
       "  </tbody>\n",
       "</table>\n",
       "<p>66 rows × 3 columns</p>\n",
       "</div>"
      ],
      "text/plain": [
       "        mean       std      time\n",
       "28  0.860185  0.120365  0.431922\n",
       "60  0.855556  0.119315  0.468235\n",
       "19  0.855093  0.120220  0.423872\n",
       "12  0.855093  0.115732  0.419409\n",
       "62  0.854167  0.137710  0.470093\n",
       "..       ...       ...       ...\n",
       "2   0.807870  0.133455  0.416042\n",
       "8   0.804630  0.130038  0.425770\n",
       "5   0.800000  0.134741  0.416812\n",
       "3   0.798148  0.128908  0.414176\n",
       "4   0.792593  0.132343  0.418531\n",
       "\n",
       "[66 rows x 3 columns]"
      ]
     },
     "execution_count": 168,
     "metadata": {},
     "output_type": "execute_result"
    }
   ],
   "source": [
    "avg_vary_feat.sort_values(by='mean', ascending=0)"
   ]
  },
  {
   "cell_type": "code",
   "execution_count": 169,
   "id": "b931cb6e",
   "metadata": {},
   "outputs": [],
   "source": [
    "avg_vary_feat.to_csv('../data/cleaned/ex_trees/avg_vary_feat.csv', index=True)"
   ]
  },
  {
   "cell_type": "code",
   "execution_count": 170,
   "id": "edf7c697",
   "metadata": {},
   "outputs": [
    {
     "data": {
      "image/png": "[encoded data removed]",
      "text/plain": [
       "<Figure size 1080x504 with 1 Axes>"
      ]
     },
     "metadata": {
      "filenames": {
       "image/png": "D:\\DCU\\4th_year\\CA4015\\CA4015-AutoML-VS-Ensembles-BioChem\\book\\_build\\jupyter_execute\\extra_trees_17_0.png"
      },
      "needs_background": "light"
     },
     "output_type": "display_data"
    }
   ],
   "source": [
    "pyplot.figure(figsize=(15,7))\n",
    "line1 = pyplot.plot(avg_vary_feat.index, avg_vary_feat['mean'], label='Mean')\n",
    "line2 = pyplot.plot(avg_vary_feat.index, avg_vary_feat['std'], c='yellow', label='Std')\n",
    "pyplot.title('Accuracy of Varying Random Subspace')\n",
    "pyplot.xlabel('Number of Features')\n",
    "pyplot.ylabel('Accuracy')\n",
    "pyplot.legend()\n",
    "pyplot.yticks(ticks=np.arange(0,1.1,0.1))\n",
    "pyplot.xticks(ticks=np.arange(0,66,5))\n",
    "pyplot.savefig('../images/ex_tree/vary_features2.png')\n",
    "pyplot.show()"
   ]
  },
  {
   "cell_type": "markdown",
   "id": "fb53ed90",
   "metadata": {},
   "source": [
    "## Exploring number of minimum splits"
   ]
  },
  {
   "cell_type": "code",
   "execution_count": 157,
   "id": "0e9448cd",
   "metadata": {},
   "outputs": [],
   "source": [
    "min_trees = pd.DataFrame(columns=[\"mean\",\"std\"])"
   ]
  },
  {
   "cell_type": "code",
   "execution_count": 206,
   "id": "923ba62e",
   "metadata": {},
   "outputs": [
    {
     "name": "stdout",
     "output_type": "stream",
     "text": [
      ">2 0.807 (0.102) (0.414)\n",
      ">3 0.821 (0.122) (0.448)\n",
      ">4 0.844 (0.123) (0.453)\n",
      ">5 0.832 (0.112) (0.448)\n",
      ">6 0.843 (0.148) (0.447)\n",
      ">7 0.821 (0.100) (0.460)\n",
      ">8 0.844 (0.079) (0.470)\n",
      ">9 0.808 (0.127) (0.467)\n",
      ">10 0.844 (0.109) (0.462)\n",
      ">11 0.810 (0.175) (0.460)\n",
      ">12 0.811 (0.128) (0.459)\n",
      ">13 0.761 (0.150) (0.459)\n",
      ">14 0.787 (0.163) (0.459)\n"
     ]
    },
    {
     "data": {
      "image/png": "[encoded data removed]",
      "text/plain": [
       "<Figure size 432x288 with 1 Axes>"
      ]
     },
     "metadata": {
      "filenames": {
       "image/png": "D:\\DCU\\4th_year\\CA4015\\CA4015-AutoML-VS-Ensembles-BioChem\\book\\_build\\jupyter_execute\\extra_trees_20_1.png"
      },
      "needs_background": "light"
     },
     "output_type": "display_data"
    }
   ],
   "source": [
    "# get a list of models to evaluate\n",
    "def get_models():\n",
    "\tmodels = dict()\n",
    "\t# explore the number of samples per split from 2 to 14\n",
    "\tfor i in range(2, 15):\n",
    "\t\tmodels[str(i)] = ExtraTreesClassifier(min_samples_split=i)\n",
    "\treturn models\n",
    "\n",
    "#get models to evaluate\n",
    "models = get_models()\n",
    "# evaluate the models and store results\n",
    "results, names, times = list(), list(), list()\n",
    "for name, model in models.items():\n",
    "\t# evaluate the model\n",
    "\tstart = time.time()\n",
    "\tscores = evaluate_model(model, X, y)\n",
    "\tend = time.time()\n",
    "\t# store the results\n",
    "\ttimes.append(end-start)\n",
    "\tresults.append(scores)\n",
    "\tnames.append(name)\n",
    "\t# summarize the performance along the way\n",
    "\ts = pd.Series(data=[np.mean(scores), np.std(scores), np.mean(times)],name=name, index=['mean','std', 'time'])\n",
    "\tmin_trees = min_trees.append(s)\n",
    "\tprint('>%s %.3f (%.3f) (%.3f)' % (name, np.mean(scores), np.std(scores), np.mean(times)))\n",
    "# plot model performance for comparison\n",
    "pyplot.boxplot(results, labels=names, showmeans=True)\n",
    "pyplot.title('Minimum Number of Splits by Accuracy')\n",
    "pyplot.show()"
   ]
  },
  {
   "cell_type": "code",
   "execution_count": 207,
   "id": "47a5329e",
   "metadata": {},
   "outputs": [],
   "source": [
    "#find average of all stored results\n",
    "avg_min_trees = pd.DataFrame(columns=['mean', 'std', 'time'])\n",
    "for i in range(2, 15):\n",
    "    i = str(i)\n",
    "    s = pd.Series(min_trees.T[i][0], name=i, index=['mean','std', 'time'])\n",
    "    avg_min_trees = avg_min_trees.append(s)"
   ]
  },
  {
   "cell_type": "code",
   "execution_count": 208,
   "id": "c499dd91",
   "metadata": {},
   "outputs": [
    {
     "data": {
      "text/html": [
       "<div>\n",
       "<style scoped>\n",
       "    .dataframe tbody tr th:only-of-type {\n",
       "        vertical-align: middle;\n",
       "    }\n",
       "\n",
       "    .dataframe tbody tr th {\n",
       "        vertical-align: top;\n",
       "    }\n",
       "\n",
       "    .dataframe thead th {\n",
       "        text-align: right;\n",
       "    }\n",
       "</style>\n",
       "<table border=\"1\" class=\"dataframe\">\n",
       "  <thead>\n",
       "    <tr style=\"text-align: right;\">\n",
       "      <th></th>\n",
       "      <th>mean</th>\n",
       "      <th>std</th>\n",
       "      <th>time</th>\n",
       "    </tr>\n",
       "  </thead>\n",
       "  <tbody>\n",
       "    <tr>\n",
       "      <th>5</th>\n",
       "      <td>0.840625</td>\n",
       "      <td>0.121579</td>\n",
       "      <td>0.466845</td>\n",
       "    </tr>\n",
       "    <tr>\n",
       "      <th>6</th>\n",
       "      <td>0.838542</td>\n",
       "      <td>0.129656</td>\n",
       "      <td>0.456768</td>\n",
       "    </tr>\n",
       "    <tr>\n",
       "      <th>4</th>\n",
       "      <td>0.835417</td>\n",
       "      <td>0.127490</td>\n",
       "      <td>0.480980</td>\n",
       "    </tr>\n",
       "    <tr>\n",
       "      <th>8</th>\n",
       "      <td>0.832143</td>\n",
       "      <td>0.117967</td>\n",
       "      <td>0.449537</td>\n",
       "    </tr>\n",
       "    <tr>\n",
       "      <th>9</th>\n",
       "      <td>0.828026</td>\n",
       "      <td>0.125235</td>\n",
       "      <td>0.445014</td>\n",
       "    </tr>\n",
       "    <tr>\n",
       "      <th>3</th>\n",
       "      <td>0.827579</td>\n",
       "      <td>0.127812</td>\n",
       "      <td>0.506220</td>\n",
       "    </tr>\n",
       "    <tr>\n",
       "      <th>7</th>\n",
       "      <td>0.825992</td>\n",
       "      <td>0.123191</td>\n",
       "      <td>0.452800</td>\n",
       "    </tr>\n",
       "    <tr>\n",
       "      <th>10</th>\n",
       "      <td>0.820833</td>\n",
       "      <td>0.124524</td>\n",
       "      <td>0.443896</td>\n",
       "    </tr>\n",
       "    <tr>\n",
       "      <th>2</th>\n",
       "      <td>0.819891</td>\n",
       "      <td>0.128333</td>\n",
       "      <td>0.589285</td>\n",
       "    </tr>\n",
       "    <tr>\n",
       "      <th>11</th>\n",
       "      <td>0.812500</td>\n",
       "      <td>0.129678</td>\n",
       "      <td>0.443245</td>\n",
       "    </tr>\n",
       "    <tr>\n",
       "      <th>12</th>\n",
       "      <td>0.805159</td>\n",
       "      <td>0.132338</td>\n",
       "      <td>0.441731</td>\n",
       "    </tr>\n",
       "    <tr>\n",
       "      <th>13</th>\n",
       "      <td>0.796478</td>\n",
       "      <td>0.142936</td>\n",
       "      <td>0.440308</td>\n",
       "    </tr>\n",
       "    <tr>\n",
       "      <th>14</th>\n",
       "      <td>0.790823</td>\n",
       "      <td>0.140571</td>\n",
       "      <td>0.439473</td>\n",
       "    </tr>\n",
       "  </tbody>\n",
       "</table>\n",
       "</div>"
      ],
      "text/plain": [
       "        mean       std      time\n",
       "5   0.840625  0.121579  0.466845\n",
       "6   0.838542  0.129656  0.456768\n",
       "4   0.835417  0.127490  0.480980\n",
       "8   0.832143  0.117967  0.449537\n",
       "9   0.828026  0.125235  0.445014\n",
       "3   0.827579  0.127812  0.506220\n",
       "7   0.825992  0.123191  0.452800\n",
       "10  0.820833  0.124524  0.443896\n",
       "2   0.819891  0.128333  0.589285\n",
       "11  0.812500  0.129678  0.443245\n",
       "12  0.805159  0.132338  0.441731\n",
       "13  0.796478  0.142936  0.440308\n",
       "14  0.790823  0.140571  0.439473"
      ]
     },
     "execution_count": 208,
     "metadata": {},
     "output_type": "execute_result"
    }
   ],
   "source": [
    "avg_min_trees.sort_values(by='mean', ascending=0)"
   ]
  },
  {
   "cell_type": "code",
   "execution_count": 209,
   "id": "e6536825",
   "metadata": {},
   "outputs": [
    {
     "data": {
      "image/png": "[encoded data removed]",
      "text/plain": [
       "<Figure size 432x288 with 1 Axes>"
      ]
     },
     "metadata": {
      "filenames": {
       "image/png": "D:\\DCU\\4th_year\\CA4015\\CA4015-AutoML-VS-Ensembles-BioChem\\book\\_build\\jupyter_execute\\extra_trees_23_0.png"
      },
      "needs_background": "light"
     },
     "output_type": "display_data"
    }
   ],
   "source": [
    "line1 = pyplot.plot(avg_min_trees.index, avg_min_trees['mean'], label='Mean')\n",
    "line2 = pyplot.plot(avg_min_trees.index, avg_min_trees['std'], c='yellow', label='Std')\n",
    "pyplot.title('Accuracy of Varying Number of Splits')\n",
    "pyplot.xlabel('Number of Splits')\n",
    "pyplot.ylabel('Accuracy')\n",
    "pyplot.legend()\n",
    "pyplot.yticks(ticks=np.arange(0,1.1,0.1))\n",
    "pyplot.savefig('../images/ex_tree/vary_splits2.png')\n",
    "pyplot.show()"
   ]
  },
  {
   "cell_type": "code",
   "execution_count": 177,
   "id": "0cd83f1b",
   "metadata": {},
   "outputs": [],
   "source": [
    "avg_min_trees.to_csv('../data/cleaned/ex_trees/avg_min_split.csv', index=True)"
   ]
  },
  {
   "cell_type": "markdown",
   "id": "0b236ea2",
   "metadata": {},
   "source": [
    "## Best Performing Model According to experimentation\n",
    "1. amount of trees = 100\n",
    "2. number of features = all (66) ??\n",
    "3. number of minimum splits = 2\n",
    "\n",
    "Experimentation has proved that for the most part, the default values of Extra Tree's hyperparameters are not the best suited values for this particular model. Through thorough experimentation, we deduce that the number of minimum splits is best suited to 7 in this particular case over time. Although it should be noted that the gain in variance and standard deviation is miniscule. As well as this, similarly to the random forest model, experimentation results suggest that the number of features to be included remains ambiguous. The general rule of thumb for the number of features to be used in a classification task is the sqrt(number of features), which in our case rounds to 8. However, including only 1 to 10 features on average achieves the lowest results for mean accuracy, although the std is marginally smaller than for other hyperparameter selections such as 50."
   ]
  },
  {
   "cell_type": "code",
   "execution_count": 210,
   "id": "c1245a84",
   "metadata": {},
   "outputs": [],
   "source": [
    "final_results = pd.DataFrame(columns=['mean accuracy', 'mean std'])"
   ]
  },
  {
   "cell_type": "code",
   "execution_count": 212,
   "id": "c5af8fb6",
   "metadata": {},
   "outputs": [
    {
     "name": "stdout",
     "output_type": "stream",
     "text": [
      ">0 0.822 (0.112)\n",
      ">1 0.797 (0.125)\n",
      ">2 0.797 (0.132)\n",
      ">3 0.822 (0.139)\n",
      ">4 0.808 (0.137)\n",
      ">5 0.787 (0.124)\n",
      ">6 0.797 (0.143)\n",
      ">7 0.785 (0.192)\n",
      ">8 0.772 (0.126)\n",
      ">9 0.786 (0.163)\n",
      ">10 0.787 (0.169)\n",
      ">11 0.833 (0.123)\n",
      ">12 0.832 (0.137)\n",
      ">13 0.761 (0.130)\n",
      ">14 0.751 (0.187)\n",
      ">15 0.821 (0.145)\n",
      ">16 0.797 (0.138)\n",
      ">17 0.762 (0.163)\n",
      ">18 0.808 (0.148)\n",
      ">19 0.785 (0.152)\n",
      ">20 0.821 (0.137)\n",
      ">21 0.821 (0.156)\n",
      ">22 0.796 (0.147)\n",
      ">23 0.822 (0.154)\n",
      ">24 0.751 (0.112)\n",
      ">25 0.776 (0.109)\n",
      ">26 0.832 (0.112)\n",
      ">27 0.810 (0.144)\n",
      ">28 0.810 (0.173)\n",
      ">29 0.774 (0.156)\n",
      ">30 0.778 (0.104)\n",
      ">31 0.751 (0.106)\n",
      ">32 0.819 (0.149)\n",
      ">33 0.751 (0.134)\n",
      ">34 0.832 (0.112)\n",
      ">35 0.810 (0.160)\n",
      ">36 0.742 (0.160)\n",
      ">37 0.774 (0.132)\n",
      ">38 0.783 (0.134)\n",
      ">39 0.808 (0.168)\n",
      ">40 0.797 (0.117)\n",
      ">41 0.762 (0.171)\n",
      ">42 0.761 (0.170)\n",
      ">43 0.797 (0.093)\n",
      ">44 0.776 (0.147)\n",
      ">45 0.764 (0.115)\n",
      ">46 0.797 (0.166)\n",
      ">47 0.810 (0.120)\n",
      ">48 0.819 (0.081)\n",
      ">49 0.799 (0.091)\n"
     ]
    }
   ],
   "source": [
    "final_model = ExtraTreesClassifier(n_estimators=100, max_features='sqrt', min_samples_split=2)\n",
    "\n",
    "# define dataset\n",
    "X, y = filled.iloc[:,3:], filled.iloc[:,1]\n",
    "\n",
    "results, names = list(), list()\n",
    "for i in range(50):\n",
    "    scores = evaluate_model(model, X, y)\n",
    "    results.append(scores)\n",
    "    names.append(name)\n",
    "    s = pd.Series(data=[np.mean(scores), np.std(scores)],name=name, index=['mean','std'])\n",
    "    final_results = final_results.append(s)\n"
   ]
  },
  {
   "cell_type": "code",
   "execution_count": 213,
   "id": "0646264e",
   "metadata": {},
   "outputs": [
    {
     "data": {
      "text/plain": [
       "mean accuracy         NaN\n",
       "mean std              NaN\n",
       "mean             0.793167\n",
       "std              0.138271\n",
       "dtype: float64"
      ]
     },
     "execution_count": 213,
     "metadata": {},
     "output_type": "execute_result"
    }
   ],
   "source": [
    "final_results.mean()"
   ]
  }
 ],
 "metadata": {
  "kernelspec": {
   "display_name": "Python 3",
   "language": "python",
   "name": "python3"
  },
  "language_info": {
   "codemirror_mode": {
    "name": "ipython",
    "version": 3
   },
   "file_extension": ".py",
   "mimetype": "text/x-python",
   "name": "python",
   "nbconvert_exporter": "python",
   "pygments_lexer": "ipython3",
   "version": "3.8.10"
  }
 },
 "nbformat": 4,
 "nbformat_minor": 5
}