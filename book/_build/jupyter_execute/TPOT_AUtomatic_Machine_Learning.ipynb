{
 "cells": [
  {
   "cell_type": "markdown",
   "id": "ee202a6a",
   "metadata": {},
   "source": [
    "# TPOT\n",
    "In this notebook, we will define our TPOT pipeline, fit it to our training data and then use it to predict our test data."
   ]
  },
  {
   "cell_type": "code",
   "execution_count": 1,
   "id": "b771ec98",
   "metadata": {},
   "outputs": [
    {
     "name": "stdout",
     "output_type": "stream",
     "text": [
      "Requirement already satisfied: tpot in c:\\users\\seanc\\appdata\\roaming\\python\\python38\\site-packages (0.11.7)\n",
      "Requirement already satisfied: tqdm>=4.36.1 in c:\\users\\seanc\\appdata\\roaming\\python\\python38\\site-packages (from tpot) (4.47.0)\n",
      "Requirement already satisfied: joblib>=0.13.2 in c:\\users\\seanc\\appdata\\roaming\\python\\python38\\site-packages (from tpot) (0.17.0)\n",
      "Requirement already satisfied: stopit>=1.1.1 in c:\\users\\seanc\\appdata\\roaming\\python\\python38\\site-packages (from tpot) (1.1.2)\n",
      "Requirement already satisfied: update-checker>=0.16 in c:\\users\\seanc\\appdata\\roaming\\python\\python38\\site-packages (from tpot) (0.18.0)\n",
      "Requirement already satisfied: pandas>=0.24.2 in c:\\users\\seanc\\appdata\\roaming\\python\\python38\\site-packages (from tpot) (1.0.5)\n",
      "Requirement already satisfied: xgboost>=1.1.0 in c:\\users\\seanc\\appdata\\roaming\\python\\python38\\site-packages (from tpot) (1.5.0)\n",
      "Requirement already satisfied: deap>=1.2 in c:\\users\\seanc\\appdata\\roaming\\python\\python38\\site-packages (from tpot) (1.3.1)\n",
      "Requirement already satisfied: scikit-learn>=0.22.0 in c:\\users\\seanc\\appdata\\roaming\\python\\python38\\site-packages (from tpot) (0.23.1)\n",
      "Requirement already satisfied: numpy>=1.16.3 in c:\\users\\seanc\\appdata\\roaming\\python\\python38\\site-packages (from tpot) (1.19.0)\n",
      "Requirement already satisfied: scipy>=1.3.1 in c:\\users\\seanc\\appdata\\roaming\\python\\python38\\site-packages (from tpot) (1.5.1)\n",
      "Requirement already satisfied: python-dateutil>=2.6.1 in c:\\users\\seanc\\appdata\\roaming\\python\\python38\\site-packages (from pandas>=0.24.2->tpot) (2.8.1)\n",
      "Requirement already satisfied: pytz>=2017.2 in c:\\users\\seanc\\appdata\\roaming\\python\\python38\\site-packages (from pandas>=0.24.2->tpot) (2020.1)\n",
      "Requirement already satisfied: threadpoolctl>=2.0.0 in c:\\users\\seanc\\appdata\\roaming\\python\\python38\\site-packages (from scikit-learn>=0.22.0->tpot) (2.1.0)\n",
      "Requirement already satisfied: requests>=2.3.0 in c:\\users\\seanc\\appdata\\roaming\\python\\python38\\site-packages (from update-checker>=0.16->tpot) (2.24.0)\n",
      "Requirement already satisfied: six>=1.5 in c:\\users\\seanc\\appdata\\roaming\\python\\python38\\site-packages (from python-dateutil>=2.6.1->pandas>=0.24.2->tpot) (1.15.0)\n",
      "Requirement already satisfied: chardet<4,>=3.0.2 in c:\\users\\seanc\\appdata\\roaming\\python\\python38\\site-packages (from requests>=2.3.0->update-checker>=0.16->tpot) (3.0.4)\n",
      "Requirement already satisfied: urllib3!=1.25.0,!=1.25.1,<1.26,>=1.21.1 in c:\\users\\seanc\\appdata\\roaming\\python\\python38\\site-packages (from requests>=2.3.0->update-checker>=0.16->tpot) (1.25.11)\n",
      "Requirement already satisfied: idna<3,>=2.5 in c:\\users\\seanc\\appdata\\roaming\\python\\python38\\site-packages (from requests>=2.3.0->update-checker>=0.16->tpot) (2.10)\n",
      "Requirement already satisfied: certifi>=2017.4.17 in c:\\users\\seanc\\appdata\\roaming\\python\\python38\\site-packages (from requests>=2.3.0->update-checker>=0.16->tpot) (2020.6.20)\n"
     ]
    }
   ],
   "source": [
    "#Install TPOT\n",
    "!pip install tpot"
   ]
  },
  {
   "cell_type": "code",
   "execution_count": 2,
   "id": "0244b7a3",
   "metadata": {},
   "outputs": [],
   "source": [
    "#Let's import our remaining packages\n",
    "import pandas as pd\n",
    "import numpy as np\n",
    "\n",
    "# Import the tpot regressor\n",
    "from tpot import TPOTClassifier"
   ]
  },
  {
   "cell_type": "code",
   "execution_count": 3,
   "id": "e90001bd",
   "metadata": {},
   "outputs": [],
   "source": [
    "#Read in our data (If above not working) you must import the file yourself.\n",
    "#File will be deleted once GPU runtime expires.\n",
    "train_data = pd.read_csv('../data/cleaned/long.csv')"
   ]
  },
  {
   "cell_type": "code",
   "execution_count": 4,
   "id": "f74bbcfa",
   "metadata": {},
   "outputs": [],
   "source": [
    "#Extract our training labels\n",
    "train_labels = train_data.Strain\n",
    "\n",
    "#Extract our training\n",
    "train_features = train_data.drop([\"Species\", \"Strain\", \"Samples \"], axis=1)"
   ]
  },
  {
   "cell_type": "code",
   "execution_count": 5,
   "id": "878b7b79",
   "metadata": {},
   "outputs": [],
   "source": [
    "#Convert to 'numpy' arrays\n",
    "training_features = np.array(train_features)\n",
    "training_labels = np.array(train_labels).reshape((-1,))"
   ]
  },
  {
   "cell_type": "code",
   "execution_count": 6,
   "id": "41a5665b",
   "metadata": {},
   "outputs": [],
   "source": [
    "#Build the TPOT framework\n",
    "tpot = TPOTClassifier(scoring = 'neg_mean_absolute_error',\n",
    "                      max_time_mins = 500,\n",
    "                      config_dict='TPOT sparse',\n",
    "                      n_jobs=-1,\n",
    "                      verbosity = 2,\n",
    "                      cv=6)"
   ]
  },
  {
   "cell_type": "markdown",
   "id": "d35ac3ef",
   "metadata": {},
   "source": [
    "## Fitting The Model\n",
    "The following cell will fit our TPOT model to our training data. It should be noted that this process is considerably faster with GPU utilisation. GPU utilisation is not a built-in feature with Jupyter Notebook. Therefore, this process is considerably faster on other platforms such as Google Colab."
   ]
  },
  {
   "cell_type": "code",
   "execution_count": 7,
   "id": "7a8f9994",
   "metadata": {
    "scrolled": true
   },
   "outputs": [
    {
     "name": "stdout",
     "output_type": "stream",
     "text": [
      "Imputing missing values in feature set\n"
     ]
    },
    {
     "data": {
      "application/vnd.jupyter.widget-view+json": {
       "model_id": "68bad0440b2842c4936396cca389488e",
       "version_major": 2,
       "version_minor": 0
      },
      "text/plain": [
       "HBox(children=(FloatProgress(value=0.0, description='Optimization Progress', style=ProgressStyle(description_w…"
      ]
     },
     "metadata": {},
     "output_type": "display_data"
    },
    {
     "name": "stdout",
     "output_type": "stream",
     "text": [
      "\n",
      "Best pipeline: RandomForestClassifier(BernoulliNB(input_matrix, alpha=0.001, fit_prior=False), bootstrap=False, criterion=entropy, max_features=0.25, min_samples_leaf=2, min_samples_split=16, n_estimators=100)\n"
     ]
    },
    {
     "data": {
      "text/plain": [
       "TPOTClassifier(config_dict='TPOT sparse', cv=6, max_time_mins=500, n_jobs=-1,\n",
       "               scoring='neg_mean_absolute_error', verbosity=2)"
      ]
     },
     "execution_count": 7,
     "metadata": {},
     "output_type": "execute_result"
    }
   ],
   "source": [
    "# Fit the tpot model on the training data\n",
    "tpot.fit(training_features, training_labels)"
   ]
  },
  {
   "cell_type": "code",
   "execution_count": 8,
   "id": "e78a3ad0",
   "metadata": {},
   "outputs": [
    {
     "name": "stdout",
     "output_type": "stream",
     "text": [
      "Pipeline(steps=[('stackingestimator',\n",
      "                 StackingEstimator(estimator=BernoulliNB(alpha=0.001,\n",
      "                                                         fit_prior=False))),\n",
      "                ('randomforestclassifier',\n",
      "                 RandomForestClassifier(bootstrap=False, criterion='entropy',\n",
      "                                        max_features=0.25, min_samples_leaf=2,\n",
      "                                        min_samples_split=16))])\n"
     ]
    }
   ],
   "source": [
    "# Show the final model\n",
    "print(tpot.fitted_pipeline_)"
   ]
  },
  {
   "cell_type": "markdown",
   "id": "7287987e",
   "metadata": {},
   "source": [
    "Once we are finished with the model we export it to a file for use later on."
   ]
  },
  {
   "cell_type": "code",
   "execution_count": 9,
   "id": "16c544a3",
   "metadata": {},
   "outputs": [],
   "source": [
    "# Export the pipeline as a python script file\n",
    "tpot.export('tpot_exported_pipeline.py')"
   ]
  }
 ],
 "metadata": {
  "kernelspec": {
   "display_name": "Python 3",
   "language": "python",
   "name": "python3"
  },
  "language_info": {
   "codemirror_mode": {
    "name": "ipython",
    "version": 3
   },
   "file_extension": ".py",
   "mimetype": "text/x-python",
   "name": "python",
   "nbconvert_exporter": "python",
   "pygments_lexer": "ipython3",
   "version": "3.8.10"
  },
  "widgets": {
   "application/vnd.jupyter.widget-state+json": {
    "state": {
     "1661467f6cda45a0a99506f84adf7a4d": {
      "model_module": "@jupyter-widgets/base",
      "model_module_version": "1.2.0",
      "model_name": "LayoutModel",
      "state": {
       "_model_module": "@jupyter-widgets/base",
       "_model_module_version": "1.2.0",
       "_model_name": "LayoutModel",
       "_view_count": null,
       "_view_module": "@jupyter-widgets/base",
       "_view_module_version": "1.2.0",
       "_view_name": "LayoutView",
       "align_content": null,
       "align_items": null,
       "align_self": null,
       "border": null,
       "bottom": null,
       "display": null,
       "flex": null,
       "flex_flow": null,
       "grid_area": null,
       "grid_auto_columns": null,
       "grid_auto_flow": null,
       "grid_auto_rows": null,
       "grid_column": null,
       "grid_gap": null,
       "grid_row": null,
       "grid_template_areas": null,
       "grid_template_columns": null,
       "grid_template_rows": null,
       "height": null,
       "justify_content": null,
       "justify_items": null,
       "left": null,
       "margin": null,
       "max_height": null,
       "max_width": null,
       "min_height": null,
       "min_width": null,
       "object_fit": null,
       "object_position": null,
       "order": null,
       "overflow": null,
       "overflow_x": null,
       "overflow_y": null,
       "padding": null,
       "right": null,
       "top": null,
       "visibility": null,
       "width": null
      }
     },
     "68bad0440b2842c4936396cca389488e": {
      "model_module": "@jupyter-widgets/controls",
      "model_module_version": "1.5.0",
      "model_name": "HBoxModel",
      "state": {
       "_dom_classes": [],
       "_model_module": "@jupyter-widgets/controls",
       "_model_module_version": "1.5.0",
       "_model_name": "HBoxModel",
       "_view_count": null,
       "_view_module": "@jupyter-widgets/controls",
       "_view_module_version": "1.5.0",
       "_view_name": "HBoxView",
       "box_style": "",
       "children": [
        "IPY_MODEL_8233b480c2ed4827a68e77d84f8ddee2",
        "IPY_MODEL_7696fb8731064467bf1a0cf6866f7b9e"
       ],
       "layout": "IPY_MODEL_89e14687760d432581407bb251e1b9eb"
      }
     },
     "6a35143e4a10466ca21a324372ad8aa9": {
      "model_module": "@jupyter-widgets/controls",
      "model_module_version": "1.5.0",
      "model_name": "ProgressStyleModel",
      "state": {
       "_model_module": "@jupyter-widgets/controls",
       "_model_module_version": "1.5.0",
       "_model_name": "ProgressStyleModel",
       "_view_count": null,
       "_view_module": "@jupyter-widgets/base",
       "_view_module_version": "1.2.0",
       "_view_name": "StyleView",
       "bar_color": null,
       "description_width": "initial"
      }
     },
     "7696fb8731064467bf1a0cf6866f7b9e": {
      "model_module": "@jupyter-widgets/controls",
      "model_module_version": "1.5.0",
      "model_name": "HTMLModel",
      "state": {
       "_dom_classes": [],
       "_model_module": "@jupyter-widgets/controls",
       "_model_module_version": "1.5.0",
       "_model_name": "HTMLModel",
       "_view_count": null,
       "_view_module": "@jupyter-widgets/controls",
       "_view_module_version": "1.5.0",
       "_view_name": "HTMLView",
       "description": "",
       "description_tooltip": null,
       "layout": "IPY_MODEL_1661467f6cda45a0a99506f84adf7a4d",
       "placeholder": "​",
       "style": "IPY_MODEL_b4515badddc64979a76112e6c629cb6f",
       "value": " 105/200 [00:13&lt;00:26,  3.64pipeline/s]"
      }
     },
     "8233b480c2ed4827a68e77d84f8ddee2": {
      "model_module": "@jupyter-widgets/controls",
      "model_module_version": "1.5.0",
      "model_name": "FloatProgressModel",
      "state": {
       "_dom_classes": [],
       "_model_module": "@jupyter-widgets/controls",
       "_model_module_version": "1.5.0",
       "_model_name": "FloatProgressModel",
       "_view_count": null,
       "_view_module": "@jupyter-widgets/controls",
       "_view_module_version": "1.5.0",
       "_view_name": "ProgressView",
       "bar_style": "danger",
       "description": "Optimization Progress:  52%",
       "description_tooltip": null,
       "layout": "IPY_MODEL_e2b0c074fff44eb683c9bc6341ddefc8",
       "max": 100.0,
       "min": 0.0,
       "orientation": "horizontal",
       "style": "IPY_MODEL_6a35143e4a10466ca21a324372ad8aa9",
       "value": 100.0
      }
     },
     "89e14687760d432581407bb251e1b9eb": {
      "model_module": "@jupyter-widgets/base",
      "model_module_version": "1.2.0",
      "model_name": "LayoutModel",
      "state": {
       "_model_module": "@jupyter-widgets/base",
       "_model_module_version": "1.2.0",
       "_model_name": "LayoutModel",
       "_view_count": null,
       "_view_module": "@jupyter-widgets/base",
       "_view_module_version": "1.2.0",
       "_view_name": "LayoutView",
       "align_content": null,
       "align_items": null,
       "align_self": null,
       "border": null,
       "bottom": null,
       "display": null,
       "flex": null,
       "flex_flow": null,
       "grid_area": null,
       "grid_auto_columns": null,
       "grid_auto_flow": null,
       "grid_auto_rows": null,
       "grid_column": null,
       "grid_gap": null,
       "grid_row": null,
       "grid_template_areas": null,
       "grid_template_columns": null,
       "grid_template_rows": null,
       "height": null,
       "justify_content": null,
       "justify_items": null,
       "left": null,
       "margin": null,
       "max_height": null,
       "max_width": null,
       "min_height": null,
       "min_width": null,
       "object_fit": null,
       "object_position": null,
       "order": null,
       "overflow": null,
       "overflow_x": null,
       "overflow_y": null,
       "padding": null,
       "right": null,
       "top": null,
       "visibility": null,
       "width": null
      }
     },
     "b4515badddc64979a76112e6c629cb6f": {
      "model_module": "@jupyter-widgets/controls",
      "model_module_version": "1.5.0",
      "model_name": "DescriptionStyleModel",
      "state": {
       "_model_module": "@jupyter-widgets/controls",
       "_model_module_version": "1.5.0",
       "_model_name": "DescriptionStyleModel",
       "_view_count": null,
       "_view_module": "@jupyter-widgets/base",
       "_view_module_version": "1.2.0",
       "_view_name": "StyleView",
       "description_width": ""
      }
     },
     "e2b0c074fff44eb683c9bc6341ddefc8": {
      "model_module": "@jupyter-widgets/base",
      "model_module_version": "1.2.0",
      "model_name": "LayoutModel",
      "state": {
       "_model_module": "@jupyter-widgets/base",
       "_model_module_version": "1.2.0",
       "_model_name": "LayoutModel",
       "_view_count": null,
       "_view_module": "@jupyter-widgets/base",
       "_view_module_version": "1.2.0",
       "_view_name": "LayoutView",
       "align_content": null,
       "align_items": null,
       "align_self": null,
       "border": null,
       "bottom": null,
       "display": null,
       "flex": null,
       "flex_flow": null,
       "grid_area": null,
       "grid_auto_columns": null,
       "grid_auto_flow": null,
       "grid_auto_rows": null,
       "grid_column": null,
       "grid_gap": null,
       "grid_row": null,
       "grid_template_areas": null,
       "grid_template_columns": null,
       "grid_template_rows": null,
       "height": null,
       "justify_content": null,
       "justify_items": null,
       "left": null,
       "margin": null,
       "max_height": null,
       "max_width": null,
       "min_height": null,
       "min_width": null,
       "object_fit": null,
       "object_position": null,
       "order": null,
       "overflow": null,
       "overflow_x": null,
       "overflow_y": null,
       "padding": null,
       "right": null,
       "top": null,
       "visibility": null,
       "width": null
      }
     }
    },
    "version_major": 2,
    "version_minor": 0
   }
  }
 },
 "nbformat": 4,
 "nbformat_minor": 5
}