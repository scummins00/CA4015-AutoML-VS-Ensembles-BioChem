{
 "cells": [
  {
   "cell_type": "markdown",
   "id": "e6c6e504",
   "metadata": {},
   "source": [
    "# Data Cleaning\n",
    "The following notebook is for data cleaning and preparation. The dataset provided by {cite}`fitzgerald_morrin_holland_2021` represents GCMS analysis of VOCs from pure cultures of bacteria. The data is semi-structured in nature. It presents some challenges such as missing values. In the Excel file, the data obtained from the GCMS is presented in multiple formats, namely:\n",
    "1. Long\n",
    "2. Wide\n",
    "\n",
    "Both sheets represent the same data. We will be working with the '**Wide**' dataset. This is because features represented as columns work better for Google's AutoML Tables. There are various other sheets available in the Excel, but these serve no purpose for our analysis."
   ]
  },
  {
   "cell_type": "code",
   "execution_count": 3,
   "id": "e2c2c81a",
   "metadata": {},
   "outputs": [],
   "source": [
    "import pandas as pd\n",
    "import numpy as np"
   ]
  },
  {
   "cell_type": "code",
   "execution_count": 4,
   "id": "fcd39372",
   "metadata": {},
   "outputs": [],
   "source": [
    "raw = pd.read_excel(\"data/FrontiersDS.xlsx\", sheet_name=\"Wide\", skiprows=3)"
   ]
  },
  {
   "cell_type": "code",
   "execution_count": 5,
   "id": "c55ad7fc",
   "metadata": {},
   "outputs": [
    {
     "data": {
      "text/plain": [
       "(84, 70)"
      ]
     },
     "execution_count": 5,
     "metadata": {},
     "output_type": "execute_result"
    }
   ],
   "source": [
    "raw.shape"
   ]
  },
  {
   "cell_type": "markdown",
   "id": "504b834c",
   "metadata": {},
   "source": [
    "## Null-Values\n",
    "In the given dataset, rows represent **species & strains** of bacterial micro-organisms. The columns represent individual chemical-compounds commonly found in the volatile organic compounds (VOCs). {cite:p}`fitzgerald2021` informs us that:\n",
    "* Cells with missing data represent a species-media specific combination inwhich the presence of that particular compound was never recorded.\n",
    "* Cells with the value 0 represent a species-media spcific combination inwhich the presence of that compound was found in some samples, but not this particular sample.\n",
    "\n",
    "Because of this knowledge, it is difficult to understand what should be done with the missing values. According to the Google Cloud Platform documentation for ['Best Practices for creating training data'](https://cloud.google.com/automl-tables/docs/data-best-practices#avoid_missing_values_where_possible), it is best to avoid missing values where possible. Values can be left missing if the column is set to be nullable.\n",
    "\n",
    "[**TPOT**](http://epistasislab.github.io/tpot/) is an Automatic Machine Learning package in Python. In this particular case, using TPOT will prove more beneficial to us and will allow us more control. As of *Version 0.9* TPOT supports sparse matrices with a new built-in TPOT configuration \"TPOT sparse\". So, for us to support the use of missing values, we must use this particular configuration."
   ]
  },
  {
   "cell_type": "code",
   "execution_count": 3,
   "id": "8c23e93e",
   "metadata": {},
   "outputs": [],
   "source": [
    "raw.to_csv('data/cleaned/long.csv', index=False)"
   ]
  }
 ],
 "metadata": {
  "kernelspec": {
   "display_name": "Python 3",
   "language": "python",
   "name": "python3"
  },
  "language_info": {
   "codemirror_mode": {
    "name": "ipython",
    "version": 3
   },
   "file_extension": ".py",
   "mimetype": "text/x-python",
   "name": "python",
   "nbconvert_exporter": "python",
   "pygments_lexer": "ipython3",
   "version": "3.8.3"
  }
 },
 "nbformat": 4,
 "nbformat_minor": 5
}
